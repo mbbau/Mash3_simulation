{
 "cells": [
  {
   "cell_type": "code",
   "execution_count": 2,
   "metadata": {},
   "outputs": [],
   "source": [
    "import pandas as pd\n",
    "import numpy as np"
   ]
  },
  {
   "cell_type": "code",
   "execution_count": 3,
   "metadata": {},
   "outputs": [],
   "source": [
    "assumptions_raw = pd.read_excel(\"Mash3_BGS_Talk_v01.xlsx\")"
   ]
  },
  {
   "cell_type": "code",
   "execution_count": 4,
   "metadata": {},
   "outputs": [
    {
     "data": {
      "text/html": [
       "<div>\n",
       "<style scoped>\n",
       "    .dataframe tbody tr th:only-of-type {\n",
       "        vertical-align: middle;\n",
       "    }\n",
       "\n",
       "    .dataframe tbody tr th {\n",
       "        vertical-align: top;\n",
       "    }\n",
       "\n",
       "    .dataframe thead th {\n",
       "        text-align: right;\n",
       "    }\n",
       "</style>\n",
       "<table border=\"1\" class=\"dataframe\">\n",
       "  <thead>\n",
       "    <tr style=\"text-align: right;\">\n",
       "      <th></th>\n",
       "      <th>Unnamed: 0</th>\n",
       "      <th>Unnamed: 1</th>\n",
       "      <th>Unnamed: 2</th>\n",
       "      <th>MN0</th>\n",
       "      <th>MN1</th>\n",
       "      <th>MN2</th>\n",
       "      <th>MN3</th>\n",
       "      <th>MN4</th>\n",
       "      <th>MN5</th>\n",
       "      <th>MN6</th>\n",
       "      <th>...</th>\n",
       "      <th>MN18</th>\n",
       "      <th>MN19</th>\n",
       "      <th>MN20</th>\n",
       "      <th>MN21</th>\n",
       "      <th>MN22</th>\n",
       "      <th>MN23</th>\n",
       "      <th>MN24</th>\n",
       "      <th>Unnamed: 29</th>\n",
       "      <th>YR1</th>\n",
       "      <th>YR2</th>\n",
       "    </tr>\n",
       "  </thead>\n",
       "  <tbody>\n",
       "    <tr>\n",
       "      <th>0</th>\n",
       "      <td>ASSUMPTIONS</td>\n",
       "      <td>YR1</td>\n",
       "      <td>YR2</td>\n",
       "      <td>NaN</td>\n",
       "      <td>NaN</td>\n",
       "      <td>NaN</td>\n",
       "      <td>NaN</td>\n",
       "      <td>NaN</td>\n",
       "      <td>NaN</td>\n",
       "      <td>NaN</td>\n",
       "      <td>...</td>\n",
       "      <td>NaN</td>\n",
       "      <td>NaN</td>\n",
       "      <td>NaN</td>\n",
       "      <td>NaN</td>\n",
       "      <td>NaN</td>\n",
       "      <td>NaN</td>\n",
       "      <td>NaN</td>\n",
       "      <td>NaN</td>\n",
       "      <td>NaN</td>\n",
       "      <td>NaN</td>\n",
       "    </tr>\n",
       "    <tr>\n",
       "      <th>1</th>\n",
       "      <td>Starting Organic / Social Visitors</td>\n",
       "      <td>1000</td>\n",
       "      <td>NaN</td>\n",
       "      <td>NaN</td>\n",
       "      <td>NaN</td>\n",
       "      <td>NaN</td>\n",
       "      <td>NaN</td>\n",
       "      <td>NaN</td>\n",
       "      <td>NaN</td>\n",
       "      <td>NaN</td>\n",
       "      <td>...</td>\n",
       "      <td>NaN</td>\n",
       "      <td>NaN</td>\n",
       "      <td>NaN</td>\n",
       "      <td>NaN</td>\n",
       "      <td>NaN</td>\n",
       "      <td>NaN</td>\n",
       "      <td>NaN</td>\n",
       "      <td>NaN</td>\n",
       "      <td>NaN</td>\n",
       "      <td>NaN</td>\n",
       "    </tr>\n",
       "    <tr>\n",
       "      <th>2</th>\n",
       "      <td>Additive Social / Organic per Month</td>\n",
       "      <td>500</td>\n",
       "      <td>1000</td>\n",
       "      <td>NaN</td>\n",
       "      <td>NaN</td>\n",
       "      <td>NaN</td>\n",
       "      <td>NaN</td>\n",
       "      <td>NaN</td>\n",
       "      <td>NaN</td>\n",
       "      <td>NaN</td>\n",
       "      <td>...</td>\n",
       "      <td>NaN</td>\n",
       "      <td>NaN</td>\n",
       "      <td>NaN</td>\n",
       "      <td>NaN</td>\n",
       "      <td>NaN</td>\n",
       "      <td>NaN</td>\n",
       "      <td>NaN</td>\n",
       "      <td>NaN</td>\n",
       "      <td>NaN</td>\n",
       "      <td>NaN</td>\n",
       "    </tr>\n",
       "    <tr>\n",
       "      <th>3</th>\n",
       "      <td>K-Factor (Users)</td>\n",
       "      <td>0.2</td>\n",
       "      <td>0.3</td>\n",
       "      <td>NaN</td>\n",
       "      <td>NaN</td>\n",
       "      <td>NaN</td>\n",
       "      <td>NaN</td>\n",
       "      <td>NaN</td>\n",
       "      <td>NaN</td>\n",
       "      <td>NaN</td>\n",
       "      <td>...</td>\n",
       "      <td>NaN</td>\n",
       "      <td>NaN</td>\n",
       "      <td>NaN</td>\n",
       "      <td>NaN</td>\n",
       "      <td>NaN</td>\n",
       "      <td>NaN</td>\n",
       "      <td>NaN</td>\n",
       "      <td>NaN</td>\n",
       "      <td>NaN</td>\n",
       "      <td>NaN</td>\n",
       "    </tr>\n",
       "    <tr>\n",
       "      <th>4</th>\n",
       "      <td>K-Factor (Subscribers)</td>\n",
       "      <td>0.5</td>\n",
       "      <td>1</td>\n",
       "      <td>NaN</td>\n",
       "      <td>NaN</td>\n",
       "      <td>NaN</td>\n",
       "      <td>NaN</td>\n",
       "      <td>NaN</td>\n",
       "      <td>NaN</td>\n",
       "      <td>NaN</td>\n",
       "      <td>...</td>\n",
       "      <td>NaN</td>\n",
       "      <td>NaN</td>\n",
       "      <td>NaN</td>\n",
       "      <td>NaN</td>\n",
       "      <td>NaN</td>\n",
       "      <td>NaN</td>\n",
       "      <td>NaN</td>\n",
       "      <td>NaN</td>\n",
       "      <td>NaN</td>\n",
       "      <td>NaN</td>\n",
       "    </tr>\n",
       "    <tr>\n",
       "      <th>5</th>\n",
       "      <td>Traffic -&gt; User Conversion Rate</td>\n",
       "      <td>0.25</td>\n",
       "      <td>0.3</td>\n",
       "      <td>NaN</td>\n",
       "      <td>NaN</td>\n",
       "      <td>NaN</td>\n",
       "      <td>NaN</td>\n",
       "      <td>NaN</td>\n",
       "      <td>NaN</td>\n",
       "      <td>NaN</td>\n",
       "      <td>...</td>\n",
       "      <td>NaN</td>\n",
       "      <td>NaN</td>\n",
       "      <td>NaN</td>\n",
       "      <td>NaN</td>\n",
       "      <td>NaN</td>\n",
       "      <td>NaN</td>\n",
       "      <td>NaN</td>\n",
       "      <td>NaN</td>\n",
       "      <td>NaN</td>\n",
       "      <td>NaN</td>\n",
       "    </tr>\n",
       "    <tr>\n",
       "      <th>6</th>\n",
       "      <td>Cost of Paid Traffic</td>\n",
       "      <td>2</td>\n",
       "      <td>2.5</td>\n",
       "      <td>NaN</td>\n",
       "      <td>NaN</td>\n",
       "      <td>NaN</td>\n",
       "      <td>NaN</td>\n",
       "      <td>NaN</td>\n",
       "      <td>NaN</td>\n",
       "      <td>NaN</td>\n",
       "      <td>...</td>\n",
       "      <td>NaN</td>\n",
       "      <td>NaN</td>\n",
       "      <td>NaN</td>\n",
       "      <td>NaN</td>\n",
       "      <td>NaN</td>\n",
       "      <td>NaN</td>\n",
       "      <td>NaN</td>\n",
       "      <td>NaN</td>\n",
       "      <td>NaN</td>\n",
       "      <td>NaN</td>\n",
       "    </tr>\n",
       "    <tr>\n",
       "      <th>7</th>\n",
       "      <td>Marketing Spend / Month</td>\n",
       "      <td>10000</td>\n",
       "      <td>25000</td>\n",
       "      <td>NaN</td>\n",
       "      <td>NaN</td>\n",
       "      <td>NaN</td>\n",
       "      <td>NaN</td>\n",
       "      <td>NaN</td>\n",
       "      <td>NaN</td>\n",
       "      <td>NaN</td>\n",
       "      <td>...</td>\n",
       "      <td>NaN</td>\n",
       "      <td>NaN</td>\n",
       "      <td>NaN</td>\n",
       "      <td>NaN</td>\n",
       "      <td>NaN</td>\n",
       "      <td>NaN</td>\n",
       "      <td>NaN</td>\n",
       "      <td>NaN</td>\n",
       "      <td>NaN</td>\n",
       "      <td>NaN</td>\n",
       "    </tr>\n",
       "    <tr>\n",
       "      <th>8</th>\n",
       "      <td>MoM Retention (Users)</td>\n",
       "      <td>0.3</td>\n",
       "      <td>0.5</td>\n",
       "      <td>NaN</td>\n",
       "      <td>NaN</td>\n",
       "      <td>NaN</td>\n",
       "      <td>NaN</td>\n",
       "      <td>NaN</td>\n",
       "      <td>NaN</td>\n",
       "      <td>NaN</td>\n",
       "      <td>...</td>\n",
       "      <td>NaN</td>\n",
       "      <td>NaN</td>\n",
       "      <td>NaN</td>\n",
       "      <td>NaN</td>\n",
       "      <td>NaN</td>\n",
       "      <td>NaN</td>\n",
       "      <td>NaN</td>\n",
       "      <td>NaN</td>\n",
       "      <td>NaN</td>\n",
       "      <td>NaN</td>\n",
       "    </tr>\n",
       "    <tr>\n",
       "      <th>9</th>\n",
       "      <td>User -&gt; Subscriber Conversion Rate</td>\n",
       "      <td>0.1</td>\n",
       "      <td>0.15</td>\n",
       "      <td>NaN</td>\n",
       "      <td>NaN</td>\n",
       "      <td>NaN</td>\n",
       "      <td>NaN</td>\n",
       "      <td>NaN</td>\n",
       "      <td>NaN</td>\n",
       "      <td>NaN</td>\n",
       "      <td>...</td>\n",
       "      <td>NaN</td>\n",
       "      <td>NaN</td>\n",
       "      <td>NaN</td>\n",
       "      <td>NaN</td>\n",
       "      <td>NaN</td>\n",
       "      <td>NaN</td>\n",
       "      <td>NaN</td>\n",
       "      <td>NaN</td>\n",
       "      <td>NaN</td>\n",
       "      <td>NaN</td>\n",
       "    </tr>\n",
       "    <tr>\n",
       "      <th>10</th>\n",
       "      <td>MoM Retention (Subscribers)</td>\n",
       "      <td>0.4</td>\n",
       "      <td>0.6</td>\n",
       "      <td>NaN</td>\n",
       "      <td>NaN</td>\n",
       "      <td>NaN</td>\n",
       "      <td>NaN</td>\n",
       "      <td>NaN</td>\n",
       "      <td>NaN</td>\n",
       "      <td>NaN</td>\n",
       "      <td>...</td>\n",
       "      <td>NaN</td>\n",
       "      <td>NaN</td>\n",
       "      <td>NaN</td>\n",
       "      <td>NaN</td>\n",
       "      <td>NaN</td>\n",
       "      <td>NaN</td>\n",
       "      <td>NaN</td>\n",
       "      <td>NaN</td>\n",
       "      <td>NaN</td>\n",
       "      <td>NaN</td>\n",
       "    </tr>\n",
       "  </tbody>\n",
       "</table>\n",
       "<p>11 rows × 32 columns</p>\n",
       "</div>"
      ],
      "text/plain": [
       "                             Unnamed: 0 Unnamed: 1 Unnamed: 2  MN0  MN1  MN2  \\\n",
       "0                           ASSUMPTIONS        YR1        YR2  NaN  NaN  NaN   \n",
       "1    Starting Organic / Social Visitors       1000        NaN  NaN  NaN  NaN   \n",
       "2   Additive Social / Organic per Month        500       1000  NaN  NaN  NaN   \n",
       "3                      K-Factor (Users)        0.2        0.3  NaN  NaN  NaN   \n",
       "4                K-Factor (Subscribers)        0.5          1  NaN  NaN  NaN   \n",
       "5       Traffic -> User Conversion Rate       0.25        0.3  NaN  NaN  NaN   \n",
       "6                  Cost of Paid Traffic          2        2.5  NaN  NaN  NaN   \n",
       "7               Marketing Spend / Month      10000      25000  NaN  NaN  NaN   \n",
       "8                 MoM Retention (Users)        0.3        0.5  NaN  NaN  NaN   \n",
       "9    User -> Subscriber Conversion Rate        0.1       0.15  NaN  NaN  NaN   \n",
       "10          MoM Retention (Subscribers)        0.4        0.6  NaN  NaN  NaN   \n",
       "\n",
       "    MN3  MN4  MN5  MN6  ...  MN18  MN19  MN20  MN21  MN22  MN23  MN24  \\\n",
       "0   NaN  NaN  NaN  NaN  ...   NaN   NaN   NaN   NaN   NaN   NaN   NaN   \n",
       "1   NaN  NaN  NaN  NaN  ...   NaN   NaN   NaN   NaN   NaN   NaN   NaN   \n",
       "2   NaN  NaN  NaN  NaN  ...   NaN   NaN   NaN   NaN   NaN   NaN   NaN   \n",
       "3   NaN  NaN  NaN  NaN  ...   NaN   NaN   NaN   NaN   NaN   NaN   NaN   \n",
       "4   NaN  NaN  NaN  NaN  ...   NaN   NaN   NaN   NaN   NaN   NaN   NaN   \n",
       "5   NaN  NaN  NaN  NaN  ...   NaN   NaN   NaN   NaN   NaN   NaN   NaN   \n",
       "6   NaN  NaN  NaN  NaN  ...   NaN   NaN   NaN   NaN   NaN   NaN   NaN   \n",
       "7   NaN  NaN  NaN  NaN  ...   NaN   NaN   NaN   NaN   NaN   NaN   NaN   \n",
       "8   NaN  NaN  NaN  NaN  ...   NaN   NaN   NaN   NaN   NaN   NaN   NaN   \n",
       "9   NaN  NaN  NaN  NaN  ...   NaN   NaN   NaN   NaN   NaN   NaN   NaN   \n",
       "10  NaN  NaN  NaN  NaN  ...   NaN   NaN   NaN   NaN   NaN   NaN   NaN   \n",
       "\n",
       "    Unnamed: 29  YR1  YR2  \n",
       "0           NaN  NaN  NaN  \n",
       "1           NaN  NaN  NaN  \n",
       "2           NaN  NaN  NaN  \n",
       "3           NaN  NaN  NaN  \n",
       "4           NaN  NaN  NaN  \n",
       "5           NaN  NaN  NaN  \n",
       "6           NaN  NaN  NaN  \n",
       "7           NaN  NaN  NaN  \n",
       "8           NaN  NaN  NaN  \n",
       "9           NaN  NaN  NaN  \n",
       "10          NaN  NaN  NaN  \n",
       "\n",
       "[11 rows x 32 columns]"
      ]
     },
     "execution_count": 4,
     "metadata": {},
     "output_type": "execute_result"
    }
   ],
   "source": [
    "assumptions_raw.head(11)"
   ]
  },
  {
   "cell_type": "code",
   "execution_count": 5,
   "metadata": {},
   "outputs": [
    {
     "data": {
      "text/html": [
       "<div>\n",
       "<style scoped>\n",
       "    .dataframe tbody tr th:only-of-type {\n",
       "        vertical-align: middle;\n",
       "    }\n",
       "\n",
       "    .dataframe tbody tr th {\n",
       "        vertical-align: top;\n",
       "    }\n",
       "\n",
       "    .dataframe thead th {\n",
       "        text-align: right;\n",
       "    }\n",
       "</style>\n",
       "<table border=\"1\" class=\"dataframe\">\n",
       "  <thead>\n",
       "    <tr style=\"text-align: right;\">\n",
       "      <th></th>\n",
       "      <th>ASSUMPTIONS</th>\n",
       "      <th>YR1</th>\n",
       "      <th>YR2</th>\n",
       "    </tr>\n",
       "  </thead>\n",
       "  <tbody>\n",
       "    <tr>\n",
       "      <th>1</th>\n",
       "      <td>Starting Organic / Social Visitors</td>\n",
       "      <td>1000</td>\n",
       "      <td>NaN</td>\n",
       "    </tr>\n",
       "    <tr>\n",
       "      <th>2</th>\n",
       "      <td>Additive Social / Organic per Month</td>\n",
       "      <td>500</td>\n",
       "      <td>1000</td>\n",
       "    </tr>\n",
       "    <tr>\n",
       "      <th>3</th>\n",
       "      <td>K-Factor (Users)</td>\n",
       "      <td>0.2</td>\n",
       "      <td>0.3</td>\n",
       "    </tr>\n",
       "    <tr>\n",
       "      <th>4</th>\n",
       "      <td>K-Factor (Subscribers)</td>\n",
       "      <td>0.5</td>\n",
       "      <td>1</td>\n",
       "    </tr>\n",
       "    <tr>\n",
       "      <th>5</th>\n",
       "      <td>Traffic -&gt; User Conversion Rate</td>\n",
       "      <td>0.25</td>\n",
       "      <td>0.3</td>\n",
       "    </tr>\n",
       "    <tr>\n",
       "      <th>6</th>\n",
       "      <td>Cost of Paid Traffic</td>\n",
       "      <td>2</td>\n",
       "      <td>2.5</td>\n",
       "    </tr>\n",
       "    <tr>\n",
       "      <th>7</th>\n",
       "      <td>Marketing Spend / Month</td>\n",
       "      <td>10000</td>\n",
       "      <td>25000</td>\n",
       "    </tr>\n",
       "    <tr>\n",
       "      <th>8</th>\n",
       "      <td>MoM Retention (Users)</td>\n",
       "      <td>0.3</td>\n",
       "      <td>0.5</td>\n",
       "    </tr>\n",
       "    <tr>\n",
       "      <th>9</th>\n",
       "      <td>User -&gt; Subscriber Conversion Rate</td>\n",
       "      <td>0.1</td>\n",
       "      <td>0.15</td>\n",
       "    </tr>\n",
       "    <tr>\n",
       "      <th>10</th>\n",
       "      <td>MoM Retention (Subscribers)</td>\n",
       "      <td>0.4</td>\n",
       "      <td>0.6</td>\n",
       "    </tr>\n",
       "  </tbody>\n",
       "</table>\n",
       "</div>"
      ],
      "text/plain": [
       "                            ASSUMPTIONS    YR1    YR2\n",
       "1    Starting Organic / Social Visitors   1000    NaN\n",
       "2   Additive Social / Organic per Month    500   1000\n",
       "3                      K-Factor (Users)    0.2    0.3\n",
       "4                K-Factor (Subscribers)    0.5      1\n",
       "5       Traffic -> User Conversion Rate   0.25    0.3\n",
       "6                  Cost of Paid Traffic      2    2.5\n",
       "7               Marketing Spend / Month  10000  25000\n",
       "8                 MoM Retention (Users)    0.3    0.5\n",
       "9    User -> Subscriber Conversion Rate    0.1   0.15\n",
       "10          MoM Retention (Subscribers)    0.4    0.6"
      ]
     },
     "execution_count": 5,
     "metadata": {},
     "output_type": "execute_result"
    }
   ],
   "source": [
    "assumptions = (\n",
    "    assumptions_raw\n",
    "    .iloc[1:,0:3]\n",
    "    .head(10)\n",
    "    .rename(columns=\n",
    "            {'Unnamed: 0':'ASSUMPTIONS',\n",
    "             'Unnamed: 1':'YR1',\n",
    "             'Unnamed: 2': 'YR2'})\n",
    "    )\n",
    "assumptions"
   ]
  },
  {
   "cell_type": "code",
   "execution_count": 6,
   "metadata": {},
   "outputs": [],
   "source": [
    "subscribers = pd.DataFrame()\n",
    "total_months = 25\n"
   ]
  },
  {
   "cell_type": "code",
   "execution_count": 7,
   "metadata": {},
   "outputs": [],
   "source": [
    "def apply_assumption(row, assumption_name):\n",
    "    if row['month'] < 13:\n",
    "        return assumptions.loc[assumptions['ASSUMPTIONS'] == assumption_name, 'YR1'].iloc[0]\n",
    "    else:\n",
    "        return assumptions.loc[assumptions['ASSUMPTIONS'] == assumption_name, 'YR2'].iloc[0]"
   ]
  },
  {
   "cell_type": "code",
   "execution_count": 8,
   "metadata": {},
   "outputs": [],
   "source": [
    "subscribers['month'] = [month for month in range(0,total_months)]\n",
    "\n",
    "subscribers['Traffic -> User Conversion Rate'] = subscribers.apply(apply_assumption, axis=1, args=(\"Traffic -> User Conversion Rate\",))\n",
    "subscribers['K-Factor (Users)'] = subscribers.apply(apply_assumption, axis=1, args=(\"K-Factor (Users)\",))\n",
    "subscribers['Paid Traffic (Installs / Visitors)'] = subscribers.apply(apply_assumption, axis=1, args=(\"Cost of Paid Traffic\",))\n",
    "subscribers['Marketing Spend / Month'] = subscribers.apply(apply_assumption, axis=1, args=(\"Marketing Spend / Month\",))\n",
    "subscribers['MoM Retention (Users)'] = subscribers.apply(apply_assumption, axis=1, args=(\"MoM Retention (Users)\",))  \n",
    "subscribers['MoM Retention (Subscribers)'] = subscribers.apply(apply_assumption, axis=1, args=(\"MoM Retention (Subscribers)\",))  \n",
    "subscribers['K-Factor (Subscribers)'] = subscribers.apply(apply_assumption, axis=1, args=(\"K-Factor (Subscribers)\",))\n",
    "subscribers['User -> Subscriber Conversion Rate'] = subscribers.apply(apply_assumption, axis=1, args=(\"User -> Subscriber Conversion Rate\",))\n",
    "\n"
   ]
  },
  {
   "cell_type": "code",
   "execution_count": 9,
   "metadata": {},
   "outputs": [
    {
     "name": "stderr",
     "output_type": "stream",
     "text": [
      "C:\\Users\\usuario\\AppData\\Local\\Temp\\ipykernel_11588\\3692095055.py:18: FutureWarning: Setting an item of incompatible dtype is deprecated and will raise an error in a future version of pandas. Value '467.1875' has dtype incompatible with int64, please explicitly cast to a compatible dtype first.\n",
      "  subscribers.at[i,\"Viral Acquired Visitors\"] =  subscribers.at[i-1, '(All Channels) New Users'] * subscribers.at[i-1,'K-Factor (Users)'] + subscribers.at[i-1, '(All) Total Current Subscribers'] * subscribers.at[i-1,'K-Factor (Subscribers)']\n",
      "C:\\Users\\usuario\\AppData\\Local\\Temp\\ipykernel_11588\\3692095055.py:29: FutureWarning: Setting an item of incompatible dtype is deprecated and will raise an error in a future version of pandas. Value '373.75' has dtype incompatible with int64, please explicitly cast to a compatible dtype first.\n",
      "  subscribers.at[i,\"(All Channels) Retained Users\"] =  subscribers.at[i-1, \"(All Channels) (New + Retained) Users\"] * subscribers.at[i-1,'MoM Retention (Users)'] - subscribers.at[i-1, \"(New) Subscribers\"]\n",
      "C:\\Users\\usuario\\AppData\\Local\\Temp\\ipykernel_11588\\3692095055.py:41: FutureWarning: Setting an item of incompatible dtype is deprecated and will raise an error in a future version of pandas. Value '74.75' has dtype incompatible with int64, please explicitly cast to a compatible dtype first.\n",
      "  subscribers.at[i,\"(Retained) Subscribers\"] =  subscribers.at[i-1, \"(New) Subscribers\"] * subscribers.at[i-1,'MoM Retention (Subscribers)']\n"
     ]
    }
   ],
   "source": [
    "for i in subscribers['month']:\n",
    "\n",
    "    # ----------- Organic / Social Visitors --------------\n",
    "    if i == 0:\n",
    "        subscribers['Organic / Social Visitors'] = assumptions.loc[assumptions['ASSUMPTIONS'] == \"Starting Organic / Social Visitors\", 'YR1'].iloc[0]\n",
    "    elif i < 13:\n",
    "        subscribers.at[i, 'Organic / Social Visitors'] = subscribers.at[i-1, 'Organic / Social Visitors'] + assumptions.loc[assumptions['ASSUMPTIONS'] == \"Additive Social / Organic per Month\", 'YR1'].iloc[0]\n",
    "    else:\n",
    "        subscribers.at[i, 'Organic / Social Visitors'] = subscribers.at[i-1, 'Organic / Social Visitors'] + assumptions.loc[assumptions['ASSUMPTIONS'] == \"Additive Social / Organic per Month\", 'YR2'].iloc[0]\n",
    "    \n",
    "    subscribers['Cost / New User'] = subscribers['Paid Traffic (Installs / Visitors)'] / subscribers['Traffic -> User Conversion Rate']\n",
    "    subscribers['New Acquired Users (Paid)'] = subscribers['Marketing Spend / Month'] / subscribers['Cost / New User']\n",
    "\n",
    "    # ----------- Viral Acquired Visitors \n",
    "    if  i == 0:\n",
    "        subscribers[\"Viral Acquired Visitors\"] = 0\n",
    "    else:\n",
    "        subscribers.at[i,\"Viral Acquired Visitors\"] =  subscribers.at[i-1, '(All Channels) New Users'] * subscribers.at[i-1,'K-Factor (Users)'] + subscribers.at[i-1, '(All) Total Current Subscribers'] * subscribers.at[i-1,'K-Factor (Subscribers)']\n",
    "\n",
    "    # ----------- New Organic + Viral Visitors\n",
    "        \n",
    "    subscribers['New Organic + Viral Visitors'] = (subscribers[\"Viral Acquired Visitors\"] + subscribers['Organic / Social Visitors']) * subscribers['Traffic -> User Conversion Rate']\n",
    "\n",
    "    subscribers['(All Channels) New Users'] = subscribers['New Acquired Users (Paid)'] + subscribers['New Organic + Viral Visitors']\n",
    "\n",
    "    if  i == 0:\n",
    "        subscribers[\"(All Channels) Retained Users\"] = 0\n",
    "    else:\n",
    "        subscribers.at[i,\"(All Channels) Retained Users\"] =  subscribers.at[i-1, \"(All Channels) (New + Retained) Users\"] * subscribers.at[i-1,'MoM Retention (Users)'] - subscribers.at[i-1, \"(New) Subscribers\"] \n",
    "\n",
    "    if  i == 0:\n",
    "        subscribers[\"(All Channels) (New + Retained) Users\"] = subscribers['(All Channels) New Users'] + subscribers[\"(All Channels) Retained Users\"]\n",
    "    else:    \n",
    "       subscribers.at[i,\"(All Channels) (New + Retained) Users\"] = subscribers.at[i,'(All Channels) New Users'] + subscribers.at[i,\"(All Channels) Retained Users\"] - subscribers.at[i-1, \"(New) Subscribers\"]\n",
    "\n",
    "    subscribers['(New) Subscribers'] = subscribers['User -> Subscriber Conversion Rate'] * subscribers[\"(All Channels) (New + Retained) Users\"]\n",
    "\n",
    "    if  i == 0:\n",
    "        subscribers[\"(Retained) Subscribers\"] = 0\n",
    "    else:\n",
    "        subscribers.at[i,\"(Retained) Subscribers\"] =  subscribers.at[i-1, \"(New) Subscribers\"] * subscribers.at[i-1,'MoM Retention (Subscribers)']\n",
    "\n",
    "    subscribers[\"(All) Total Current Subscribers\"] = subscribers[\"(Retained) Subscribers\"] + subscribers['(New) Subscribers']\n",
    "\n",
    "    subscribers['(All Channels) Cumulative New Users'] = subscribers['(All Channels) New Users'].cumsum()\n",
    "    "
   ]
  },
  {
   "cell_type": "code",
   "execution_count": 10,
   "metadata": {},
   "outputs": [
    {
     "data": {
      "text/html": [
       "<div>\n",
       "<style scoped>\n",
       "    .dataframe tbody tr th:only-of-type {\n",
       "        vertical-align: middle;\n",
       "    }\n",
       "\n",
       "    .dataframe tbody tr th {\n",
       "        vertical-align: top;\n",
       "    }\n",
       "\n",
       "    .dataframe thead th {\n",
       "        text-align: right;\n",
       "    }\n",
       "</style>\n",
       "<table border=\"1\" class=\"dataframe\">\n",
       "  <thead>\n",
       "    <tr style=\"text-align: right;\">\n",
       "      <th></th>\n",
       "      <th>Cost / New User</th>\n",
       "      <th>New Acquired Users (Paid)</th>\n",
       "      <th>Viral Acquired Visitors</th>\n",
       "      <th>New Organic + Viral Visitors</th>\n",
       "      <th>(All Channels) New Users</th>\n",
       "      <th>(All Channels) Retained Users</th>\n",
       "    </tr>\n",
       "  </thead>\n",
       "  <tbody>\n",
       "    <tr>\n",
       "      <th>0</th>\n",
       "      <td>8.000000</td>\n",
       "      <td>1250.0</td>\n",
       "      <td>0.000000</td>\n",
       "      <td>250.000000</td>\n",
       "      <td>1500.000000</td>\n",
       "      <td>0.000000</td>\n",
       "    </tr>\n",
       "    <tr>\n",
       "      <th>1</th>\n",
       "      <td>8.000000</td>\n",
       "      <td>1250.0</td>\n",
       "      <td>375.000000</td>\n",
       "      <td>468.750000</td>\n",
       "      <td>1718.750000</td>\n",
       "      <td>300.000000</td>\n",
       "    </tr>\n",
       "    <tr>\n",
       "      <th>2</th>\n",
       "      <td>8.000000</td>\n",
       "      <td>1250.0</td>\n",
       "      <td>467.187500</td>\n",
       "      <td>616.796875</td>\n",
       "      <td>1866.796875</td>\n",
       "      <td>373.750000</td>\n",
       "    </tr>\n",
       "    <tr>\n",
       "      <th>3</th>\n",
       "      <td>8.000000</td>\n",
       "      <td>1250.0</td>\n",
       "      <td>513.417969</td>\n",
       "      <td>753.354492</td>\n",
       "      <td>2003.354492</td>\n",
       "      <td>410.734375</td>\n",
       "    </tr>\n",
       "    <tr>\n",
       "      <th>4</th>\n",
       "      <td>8.000000</td>\n",
       "      <td>1250.0</td>\n",
       "      <td>552.180420</td>\n",
       "      <td>888.045105</td>\n",
       "      <td>2138.045105</td>\n",
       "      <td>441.744336</td>\n",
       "    </tr>\n",
       "    <tr>\n",
       "      <th>5</th>\n",
       "      <td>8.000000</td>\n",
       "      <td>1250.0</td>\n",
       "      <td>589.729318</td>\n",
       "      <td>1022.432330</td>\n",
       "      <td>2272.432330</td>\n",
       "      <td>471.783455</td>\n",
       "    </tr>\n",
       "    <tr>\n",
       "      <th>6</th>\n",
       "      <td>8.000000</td>\n",
       "      <td>1250.0</td>\n",
       "      <td>627.081014</td>\n",
       "      <td>1156.770254</td>\n",
       "      <td>2406.770254</td>\n",
       "      <td>501.664811</td>\n",
       "    </tr>\n",
       "    <tr>\n",
       "      <th>7</th>\n",
       "      <td>8.000000</td>\n",
       "      <td>1250.0</td>\n",
       "      <td>664.400665</td>\n",
       "      <td>1291.100166</td>\n",
       "      <td>2541.100166</td>\n",
       "      <td>531.520532</td>\n",
       "    </tr>\n",
       "    <tr>\n",
       "      <th>8</th>\n",
       "      <td>8.000000</td>\n",
       "      <td>1250.0</td>\n",
       "      <td>701.715108</td>\n",
       "      <td>1425.428777</td>\n",
       "      <td>2675.428777</td>\n",
       "      <td>561.372086</td>\n",
       "    </tr>\n",
       "    <tr>\n",
       "      <th>9</th>\n",
       "      <td>8.000000</td>\n",
       "      <td>1250.0</td>\n",
       "      <td>739.028705</td>\n",
       "      <td>1559.757176</td>\n",
       "      <td>2809.757176</td>\n",
       "      <td>591.222964</td>\n",
       "    </tr>\n",
       "    <tr>\n",
       "      <th>10</th>\n",
       "      <td>8.000000</td>\n",
       "      <td>1250.0</td>\n",
       "      <td>776.342165</td>\n",
       "      <td>1694.085541</td>\n",
       "      <td>2944.085541</td>\n",
       "      <td>621.073732</td>\n",
       "    </tr>\n",
       "    <tr>\n",
       "      <th>11</th>\n",
       "      <td>8.000000</td>\n",
       "      <td>1250.0</td>\n",
       "      <td>813.655602</td>\n",
       "      <td>1828.413900</td>\n",
       "      <td>3078.413900</td>\n",
       "      <td>650.924481</td>\n",
       "    </tr>\n",
       "    <tr>\n",
       "      <th>12</th>\n",
       "      <td>8.000000</td>\n",
       "      <td>1250.0</td>\n",
       "      <td>850.969035</td>\n",
       "      <td>1962.742259</td>\n",
       "      <td>3212.742259</td>\n",
       "      <td>680.775228</td>\n",
       "    </tr>\n",
       "    <tr>\n",
       "      <th>13</th>\n",
       "      <td>8.333333</td>\n",
       "      <td>3000.0</td>\n",
       "      <td>888.282468</td>\n",
       "      <td>2666.484740</td>\n",
       "      <td>5666.484740</td>\n",
       "      <td>710.625975</td>\n",
       "    </tr>\n",
       "    <tr>\n",
       "      <th>14</th>\n",
       "      <td>8.333333</td>\n",
       "      <td>3000.0</td>\n",
       "      <td>2745.340276</td>\n",
       "      <td>3523.602083</td>\n",
       "      <td>6523.602083</td>\n",
       "      <td>2107.629205</td>\n",
       "    </tr>\n",
       "  </tbody>\n",
       "</table>\n",
       "</div>"
      ],
      "text/plain": [
       "    Cost / New User  New Acquired Users (Paid)  Viral Acquired Visitors  \\\n",
       "0          8.000000                     1250.0                 0.000000   \n",
       "1          8.000000                     1250.0               375.000000   \n",
       "2          8.000000                     1250.0               467.187500   \n",
       "3          8.000000                     1250.0               513.417969   \n",
       "4          8.000000                     1250.0               552.180420   \n",
       "5          8.000000                     1250.0               589.729318   \n",
       "6          8.000000                     1250.0               627.081014   \n",
       "7          8.000000                     1250.0               664.400665   \n",
       "8          8.000000                     1250.0               701.715108   \n",
       "9          8.000000                     1250.0               739.028705   \n",
       "10         8.000000                     1250.0               776.342165   \n",
       "11         8.000000                     1250.0               813.655602   \n",
       "12         8.000000                     1250.0               850.969035   \n",
       "13         8.333333                     3000.0               888.282468   \n",
       "14         8.333333                     3000.0              2745.340276   \n",
       "\n",
       "    New Organic + Viral Visitors  (All Channels) New Users  \\\n",
       "0                     250.000000               1500.000000   \n",
       "1                     468.750000               1718.750000   \n",
       "2                     616.796875               1866.796875   \n",
       "3                     753.354492               2003.354492   \n",
       "4                     888.045105               2138.045105   \n",
       "5                    1022.432330               2272.432330   \n",
       "6                    1156.770254               2406.770254   \n",
       "7                    1291.100166               2541.100166   \n",
       "8                    1425.428777               2675.428777   \n",
       "9                    1559.757176               2809.757176   \n",
       "10                   1694.085541               2944.085541   \n",
       "11                   1828.413900               3078.413900   \n",
       "12                   1962.742259               3212.742259   \n",
       "13                   2666.484740               5666.484740   \n",
       "14                   3523.602083               6523.602083   \n",
       "\n",
       "    (All Channels) Retained Users  \n",
       "0                        0.000000  \n",
       "1                      300.000000  \n",
       "2                      373.750000  \n",
       "3                      410.734375  \n",
       "4                      441.744336  \n",
       "5                      471.783455  \n",
       "6                      501.664811  \n",
       "7                      531.520532  \n",
       "8                      561.372086  \n",
       "9                      591.222964  \n",
       "10                     621.073732  \n",
       "11                     650.924481  \n",
       "12                     680.775228  \n",
       "13                     710.625975  \n",
       "14                    2107.629205  "
      ]
     },
     "execution_count": 10,
     "metadata": {},
     "output_type": "execute_result"
    }
   ],
   "source": [
    "subscribers.iloc[:,10:16].head(15)"
   ]
  },
  {
   "cell_type": "code",
   "execution_count": 11,
   "metadata": {},
   "outputs": [
    {
     "data": {
      "text/plain": [
       "0      150.000000\n",
       "1      246.875000\n",
       "2      280.117188\n",
       "3      303.019043\n",
       "4      324.240594\n",
       "5      345.189097\n",
       "6      366.093228\n",
       "7      386.990150\n",
       "8      407.885899\n",
       "9      428.781459\n",
       "10     449.676987\n",
       "11     470.572510\n",
       "12     491.468033\n",
       "13    1045.394854\n",
       "14    1701.156040\n",
       "15    1991.976045\n",
       "16    2167.622380\n",
       "17    2301.081282\n",
       "18    2419.370831\n",
       "19    2532.198960\n",
       "20    2643.060989\n",
       "21    2753.215222\n",
       "22    2863.114648\n",
       "23    2972.922344\n",
       "24    3082.697017\n",
       "Name: (All) Total Current Subscribers, dtype: float64"
      ]
     },
     "execution_count": 11,
     "metadata": {},
     "output_type": "execute_result"
    }
   ],
   "source": [
    "subscribers['(All) Total Current Subscribers']"
   ]
  },
  {
   "cell_type": "code",
   "execution_count": 12,
   "metadata": {},
   "outputs": [],
   "source": [
    "import plotly.express as px"
   ]
  },
  {
   "cell_type": "code",
   "execution_count": 13,
   "metadata": {},
   "outputs": [
    {
     "data": {
      "application/vnd.plotly.v1+json": {
       "config": {
        "plotlyServerURL": "https://plot.ly"
       },
       "data": [
        {
         "hovertemplate": "month=%{x}<br>(All) Total Current Subscribers=%{y}<extra></extra>",
         "legendgroup": "",
         "line": {
          "color": "#636efa",
          "dash": "solid"
         },
         "marker": {
          "symbol": "circle"
         },
         "mode": "lines",
         "name": "",
         "orientation": "v",
         "showlegend": false,
         "type": "scatter",
         "x": [
          0,
          1,
          2,
          3,
          4,
          5,
          6,
          7,
          8,
          9,
          10,
          11,
          12,
          13,
          14,
          15,
          16,
          17,
          18,
          19,
          20,
          21,
          22,
          23,
          24
         ],
         "xaxis": "x",
         "y": [
          150,
          246.875,
          280.1171875,
          303.01904296875,
          324.2405944824219,
          345.1890966033935,
          366.0932281980514,
          386.99014958218334,
          407.8858993071048,
          428.78145863740457,
          449.67698702857825,
          470.572510392144,
          491.4680329387234,
          1045.3948540818835,
          1701.1560397616463,
          1991.9760453183244,
          2167.6223795394935,
          2301.081281553595,
          2419.3708307363095,
          2532.1989598306454,
          2643.0609890198925,
          2753.21522196014,
          2863.114648257825,
          2972.9223441640124,
          3082.6970171292646
         ],
         "yaxis": "y"
        }
       ],
       "layout": {
        "legend": {
         "tracegroupgap": 0
        },
        "margin": {
         "t": 60
        },
        "template": {
         "data": {
          "bar": [
           {
            "error_x": {
             "color": "#2a3f5f"
            },
            "error_y": {
             "color": "#2a3f5f"
            },
            "marker": {
             "line": {
              "color": "#E5ECF6",
              "width": 0.5
             },
             "pattern": {
              "fillmode": "overlay",
              "size": 10,
              "solidity": 0.2
             }
            },
            "type": "bar"
           }
          ],
          "barpolar": [
           {
            "marker": {
             "line": {
              "color": "#E5ECF6",
              "width": 0.5
             },
             "pattern": {
              "fillmode": "overlay",
              "size": 10,
              "solidity": 0.2
             }
            },
            "type": "barpolar"
           }
          ],
          "carpet": [
           {
            "aaxis": {
             "endlinecolor": "#2a3f5f",
             "gridcolor": "white",
             "linecolor": "white",
             "minorgridcolor": "white",
             "startlinecolor": "#2a3f5f"
            },
            "baxis": {
             "endlinecolor": "#2a3f5f",
             "gridcolor": "white",
             "linecolor": "white",
             "minorgridcolor": "white",
             "startlinecolor": "#2a3f5f"
            },
            "type": "carpet"
           }
          ],
          "choropleth": [
           {
            "colorbar": {
             "outlinewidth": 0,
             "ticks": ""
            },
            "type": "choropleth"
           }
          ],
          "contour": [
           {
            "colorbar": {
             "outlinewidth": 0,
             "ticks": ""
            },
            "colorscale": [
             [
              0,
              "#0d0887"
             ],
             [
              0.1111111111111111,
              "#46039f"
             ],
             [
              0.2222222222222222,
              "#7201a8"
             ],
             [
              0.3333333333333333,
              "#9c179e"
             ],
             [
              0.4444444444444444,
              "#bd3786"
             ],
             [
              0.5555555555555556,
              "#d8576b"
             ],
             [
              0.6666666666666666,
              "#ed7953"
             ],
             [
              0.7777777777777778,
              "#fb9f3a"
             ],
             [
              0.8888888888888888,
              "#fdca26"
             ],
             [
              1,
              "#f0f921"
             ]
            ],
            "type": "contour"
           }
          ],
          "contourcarpet": [
           {
            "colorbar": {
             "outlinewidth": 0,
             "ticks": ""
            },
            "type": "contourcarpet"
           }
          ],
          "heatmap": [
           {
            "colorbar": {
             "outlinewidth": 0,
             "ticks": ""
            },
            "colorscale": [
             [
              0,
              "#0d0887"
             ],
             [
              0.1111111111111111,
              "#46039f"
             ],
             [
              0.2222222222222222,
              "#7201a8"
             ],
             [
              0.3333333333333333,
              "#9c179e"
             ],
             [
              0.4444444444444444,
              "#bd3786"
             ],
             [
              0.5555555555555556,
              "#d8576b"
             ],
             [
              0.6666666666666666,
              "#ed7953"
             ],
             [
              0.7777777777777778,
              "#fb9f3a"
             ],
             [
              0.8888888888888888,
              "#fdca26"
             ],
             [
              1,
              "#f0f921"
             ]
            ],
            "type": "heatmap"
           }
          ],
          "heatmapgl": [
           {
            "colorbar": {
             "outlinewidth": 0,
             "ticks": ""
            },
            "colorscale": [
             [
              0,
              "#0d0887"
             ],
             [
              0.1111111111111111,
              "#46039f"
             ],
             [
              0.2222222222222222,
              "#7201a8"
             ],
             [
              0.3333333333333333,
              "#9c179e"
             ],
             [
              0.4444444444444444,
              "#bd3786"
             ],
             [
              0.5555555555555556,
              "#d8576b"
             ],
             [
              0.6666666666666666,
              "#ed7953"
             ],
             [
              0.7777777777777778,
              "#fb9f3a"
             ],
             [
              0.8888888888888888,
              "#fdca26"
             ],
             [
              1,
              "#f0f921"
             ]
            ],
            "type": "heatmapgl"
           }
          ],
          "histogram": [
           {
            "marker": {
             "pattern": {
              "fillmode": "overlay",
              "size": 10,
              "solidity": 0.2
             }
            },
            "type": "histogram"
           }
          ],
          "histogram2d": [
           {
            "colorbar": {
             "outlinewidth": 0,
             "ticks": ""
            },
            "colorscale": [
             [
              0,
              "#0d0887"
             ],
             [
              0.1111111111111111,
              "#46039f"
             ],
             [
              0.2222222222222222,
              "#7201a8"
             ],
             [
              0.3333333333333333,
              "#9c179e"
             ],
             [
              0.4444444444444444,
              "#bd3786"
             ],
             [
              0.5555555555555556,
              "#d8576b"
             ],
             [
              0.6666666666666666,
              "#ed7953"
             ],
             [
              0.7777777777777778,
              "#fb9f3a"
             ],
             [
              0.8888888888888888,
              "#fdca26"
             ],
             [
              1,
              "#f0f921"
             ]
            ],
            "type": "histogram2d"
           }
          ],
          "histogram2dcontour": [
           {
            "colorbar": {
             "outlinewidth": 0,
             "ticks": ""
            },
            "colorscale": [
             [
              0,
              "#0d0887"
             ],
             [
              0.1111111111111111,
              "#46039f"
             ],
             [
              0.2222222222222222,
              "#7201a8"
             ],
             [
              0.3333333333333333,
              "#9c179e"
             ],
             [
              0.4444444444444444,
              "#bd3786"
             ],
             [
              0.5555555555555556,
              "#d8576b"
             ],
             [
              0.6666666666666666,
              "#ed7953"
             ],
             [
              0.7777777777777778,
              "#fb9f3a"
             ],
             [
              0.8888888888888888,
              "#fdca26"
             ],
             [
              1,
              "#f0f921"
             ]
            ],
            "type": "histogram2dcontour"
           }
          ],
          "mesh3d": [
           {
            "colorbar": {
             "outlinewidth": 0,
             "ticks": ""
            },
            "type": "mesh3d"
           }
          ],
          "parcoords": [
           {
            "line": {
             "colorbar": {
              "outlinewidth": 0,
              "ticks": ""
             }
            },
            "type": "parcoords"
           }
          ],
          "pie": [
           {
            "automargin": true,
            "type": "pie"
           }
          ],
          "scatter": [
           {
            "fillpattern": {
             "fillmode": "overlay",
             "size": 10,
             "solidity": 0.2
            },
            "type": "scatter"
           }
          ],
          "scatter3d": [
           {
            "line": {
             "colorbar": {
              "outlinewidth": 0,
              "ticks": ""
             }
            },
            "marker": {
             "colorbar": {
              "outlinewidth": 0,
              "ticks": ""
             }
            },
            "type": "scatter3d"
           }
          ],
          "scattercarpet": [
           {
            "marker": {
             "colorbar": {
              "outlinewidth": 0,
              "ticks": ""
             }
            },
            "type": "scattercarpet"
           }
          ],
          "scattergeo": [
           {
            "marker": {
             "colorbar": {
              "outlinewidth": 0,
              "ticks": ""
             }
            },
            "type": "scattergeo"
           }
          ],
          "scattergl": [
           {
            "marker": {
             "colorbar": {
              "outlinewidth": 0,
              "ticks": ""
             }
            },
            "type": "scattergl"
           }
          ],
          "scattermapbox": [
           {
            "marker": {
             "colorbar": {
              "outlinewidth": 0,
              "ticks": ""
             }
            },
            "type": "scattermapbox"
           }
          ],
          "scatterpolar": [
           {
            "marker": {
             "colorbar": {
              "outlinewidth": 0,
              "ticks": ""
             }
            },
            "type": "scatterpolar"
           }
          ],
          "scatterpolargl": [
           {
            "marker": {
             "colorbar": {
              "outlinewidth": 0,
              "ticks": ""
             }
            },
            "type": "scatterpolargl"
           }
          ],
          "scatterternary": [
           {
            "marker": {
             "colorbar": {
              "outlinewidth": 0,
              "ticks": ""
             }
            },
            "type": "scatterternary"
           }
          ],
          "surface": [
           {
            "colorbar": {
             "outlinewidth": 0,
             "ticks": ""
            },
            "colorscale": [
             [
              0,
              "#0d0887"
             ],
             [
              0.1111111111111111,
              "#46039f"
             ],
             [
              0.2222222222222222,
              "#7201a8"
             ],
             [
              0.3333333333333333,
              "#9c179e"
             ],
             [
              0.4444444444444444,
              "#bd3786"
             ],
             [
              0.5555555555555556,
              "#d8576b"
             ],
             [
              0.6666666666666666,
              "#ed7953"
             ],
             [
              0.7777777777777778,
              "#fb9f3a"
             ],
             [
              0.8888888888888888,
              "#fdca26"
             ],
             [
              1,
              "#f0f921"
             ]
            ],
            "type": "surface"
           }
          ],
          "table": [
           {
            "cells": {
             "fill": {
              "color": "#EBF0F8"
             },
             "line": {
              "color": "white"
             }
            },
            "header": {
             "fill": {
              "color": "#C8D4E3"
             },
             "line": {
              "color": "white"
             }
            },
            "type": "table"
           }
          ]
         },
         "layout": {
          "annotationdefaults": {
           "arrowcolor": "#2a3f5f",
           "arrowhead": 0,
           "arrowwidth": 1
          },
          "autotypenumbers": "strict",
          "coloraxis": {
           "colorbar": {
            "outlinewidth": 0,
            "ticks": ""
           }
          },
          "colorscale": {
           "diverging": [
            [
             0,
             "#8e0152"
            ],
            [
             0.1,
             "#c51b7d"
            ],
            [
             0.2,
             "#de77ae"
            ],
            [
             0.3,
             "#f1b6da"
            ],
            [
             0.4,
             "#fde0ef"
            ],
            [
             0.5,
             "#f7f7f7"
            ],
            [
             0.6,
             "#e6f5d0"
            ],
            [
             0.7,
             "#b8e186"
            ],
            [
             0.8,
             "#7fbc41"
            ],
            [
             0.9,
             "#4d9221"
            ],
            [
             1,
             "#276419"
            ]
           ],
           "sequential": [
            [
             0,
             "#0d0887"
            ],
            [
             0.1111111111111111,
             "#46039f"
            ],
            [
             0.2222222222222222,
             "#7201a8"
            ],
            [
             0.3333333333333333,
             "#9c179e"
            ],
            [
             0.4444444444444444,
             "#bd3786"
            ],
            [
             0.5555555555555556,
             "#d8576b"
            ],
            [
             0.6666666666666666,
             "#ed7953"
            ],
            [
             0.7777777777777778,
             "#fb9f3a"
            ],
            [
             0.8888888888888888,
             "#fdca26"
            ],
            [
             1,
             "#f0f921"
            ]
           ],
           "sequentialminus": [
            [
             0,
             "#0d0887"
            ],
            [
             0.1111111111111111,
             "#46039f"
            ],
            [
             0.2222222222222222,
             "#7201a8"
            ],
            [
             0.3333333333333333,
             "#9c179e"
            ],
            [
             0.4444444444444444,
             "#bd3786"
            ],
            [
             0.5555555555555556,
             "#d8576b"
            ],
            [
             0.6666666666666666,
             "#ed7953"
            ],
            [
             0.7777777777777778,
             "#fb9f3a"
            ],
            [
             0.8888888888888888,
             "#fdca26"
            ],
            [
             1,
             "#f0f921"
            ]
           ]
          },
          "colorway": [
           "#636efa",
           "#EF553B",
           "#00cc96",
           "#ab63fa",
           "#FFA15A",
           "#19d3f3",
           "#FF6692",
           "#B6E880",
           "#FF97FF",
           "#FECB52"
          ],
          "font": {
           "color": "#2a3f5f"
          },
          "geo": {
           "bgcolor": "white",
           "lakecolor": "white",
           "landcolor": "#E5ECF6",
           "showlakes": true,
           "showland": true,
           "subunitcolor": "white"
          },
          "hoverlabel": {
           "align": "left"
          },
          "hovermode": "closest",
          "mapbox": {
           "style": "light"
          },
          "paper_bgcolor": "white",
          "plot_bgcolor": "#E5ECF6",
          "polar": {
           "angularaxis": {
            "gridcolor": "white",
            "linecolor": "white",
            "ticks": ""
           },
           "bgcolor": "#E5ECF6",
           "radialaxis": {
            "gridcolor": "white",
            "linecolor": "white",
            "ticks": ""
           }
          },
          "scene": {
           "xaxis": {
            "backgroundcolor": "#E5ECF6",
            "gridcolor": "white",
            "gridwidth": 2,
            "linecolor": "white",
            "showbackground": true,
            "ticks": "",
            "zerolinecolor": "white"
           },
           "yaxis": {
            "backgroundcolor": "#E5ECF6",
            "gridcolor": "white",
            "gridwidth": 2,
            "linecolor": "white",
            "showbackground": true,
            "ticks": "",
            "zerolinecolor": "white"
           },
           "zaxis": {
            "backgroundcolor": "#E5ECF6",
            "gridcolor": "white",
            "gridwidth": 2,
            "linecolor": "white",
            "showbackground": true,
            "ticks": "",
            "zerolinecolor": "white"
           }
          },
          "shapedefaults": {
           "line": {
            "color": "#2a3f5f"
           }
          },
          "ternary": {
           "aaxis": {
            "gridcolor": "white",
            "linecolor": "white",
            "ticks": ""
           },
           "baxis": {
            "gridcolor": "white",
            "linecolor": "white",
            "ticks": ""
           },
           "bgcolor": "#E5ECF6",
           "caxis": {
            "gridcolor": "white",
            "linecolor": "white",
            "ticks": ""
           }
          },
          "title": {
           "x": 0.05
          },
          "xaxis": {
           "automargin": true,
           "gridcolor": "white",
           "linecolor": "white",
           "ticks": "",
           "title": {
            "standoff": 15
           },
           "zerolinecolor": "white",
           "zerolinewidth": 2
          },
          "yaxis": {
           "automargin": true,
           "gridcolor": "white",
           "linecolor": "white",
           "ticks": "",
           "title": {
            "standoff": 15
           },
           "zerolinecolor": "white",
           "zerolinewidth": 2
          }
         }
        },
        "xaxis": {
         "anchor": "y",
         "domain": [
          0,
          1
         ],
         "title": {
          "text": "month"
         }
        },
        "yaxis": {
         "anchor": "x",
         "domain": [
          0,
          1
         ],
         "title": {
          "text": "(All) Total Current Subscribers"
         }
        }
       }
      }
     },
     "metadata": {},
     "output_type": "display_data"
    }
   ],
   "source": [
    "px.line(subscribers,\n",
    "        x = 'month',\n",
    "        y = \"(All) Total Current Subscribers\")"
   ]
  },
  {
   "cell_type": "code",
   "execution_count": 14,
   "metadata": {},
   "outputs": [],
   "source": [
    "df2 = pd.read_excel('Mash3_BGS_Talk_v02b.xlsx')"
   ]
  },
  {
   "cell_type": "code",
   "execution_count": 15,
   "metadata": {},
   "outputs": [
    {
     "data": {
      "text/html": [
       "<div>\n",
       "<style scoped>\n",
       "    .dataframe tbody tr th:only-of-type {\n",
       "        vertical-align: middle;\n",
       "    }\n",
       "\n",
       "    .dataframe tbody tr th {\n",
       "        vertical-align: top;\n",
       "    }\n",
       "\n",
       "    .dataframe thead th {\n",
       "        text-align: right;\n",
       "    }\n",
       "</style>\n",
       "<table border=\"1\" class=\"dataframe\">\n",
       "  <thead>\n",
       "    <tr style=\"text-align: right;\">\n",
       "      <th></th>\n",
       "      <th>Unnamed: 0</th>\n",
       "      <th>Unnamed: 1</th>\n",
       "      <th>Unnamed: 2</th>\n",
       "      <th>MN0</th>\n",
       "      <th>MN1</th>\n",
       "      <th>MN2</th>\n",
       "      <th>MN3</th>\n",
       "      <th>MN4</th>\n",
       "      <th>MN5</th>\n",
       "      <th>MN6</th>\n",
       "      <th>...</th>\n",
       "      <th>MN18</th>\n",
       "      <th>MN19</th>\n",
       "      <th>MN20</th>\n",
       "      <th>MN21</th>\n",
       "      <th>MN22</th>\n",
       "      <th>MN23</th>\n",
       "      <th>MN24</th>\n",
       "      <th>Unnamed: 29</th>\n",
       "      <th>YR1</th>\n",
       "      <th>YR2</th>\n",
       "    </tr>\n",
       "  </thead>\n",
       "  <tbody>\n",
       "    <tr>\n",
       "      <th>0</th>\n",
       "      <td>ASSUMPTIONS</td>\n",
       "      <td>YR1</td>\n",
       "      <td>YR2</td>\n",
       "      <td>NaN</td>\n",
       "      <td>NaN</td>\n",
       "      <td>NaN</td>\n",
       "      <td>NaN</td>\n",
       "      <td>NaN</td>\n",
       "      <td>NaN</td>\n",
       "      <td>NaN</td>\n",
       "      <td>...</td>\n",
       "      <td>NaN</td>\n",
       "      <td>NaN</td>\n",
       "      <td>NaN</td>\n",
       "      <td>NaN</td>\n",
       "      <td>NaN</td>\n",
       "      <td>NaN</td>\n",
       "      <td>NaN</td>\n",
       "      <td>NaN</td>\n",
       "      <td>NaN</td>\n",
       "      <td>NaN</td>\n",
       "    </tr>\n",
       "    <tr>\n",
       "      <th>1</th>\n",
       "      <td>Traffic Sources</td>\n",
       "      <td>NaN</td>\n",
       "      <td>NaN</td>\n",
       "      <td>NaN</td>\n",
       "      <td>NaN</td>\n",
       "      <td>NaN</td>\n",
       "      <td>NaN</td>\n",
       "      <td>NaN</td>\n",
       "      <td>NaN</td>\n",
       "      <td>NaN</td>\n",
       "      <td>...</td>\n",
       "      <td>NaN</td>\n",
       "      <td>NaN</td>\n",
       "      <td>NaN</td>\n",
       "      <td>NaN</td>\n",
       "      <td>NaN</td>\n",
       "      <td>NaN</td>\n",
       "      <td>NaN</td>\n",
       "      <td>NaN</td>\n",
       "      <td>NaN</td>\n",
       "      <td>NaN</td>\n",
       "    </tr>\n",
       "    <tr>\n",
       "      <th>2</th>\n",
       "      <td>Starting Organic / Social Visitors</td>\n",
       "      <td>1000</td>\n",
       "      <td>NaN</td>\n",
       "      <td>NaN</td>\n",
       "      <td>NaN</td>\n",
       "      <td>NaN</td>\n",
       "      <td>NaN</td>\n",
       "      <td>NaN</td>\n",
       "      <td>NaN</td>\n",
       "      <td>NaN</td>\n",
       "      <td>...</td>\n",
       "      <td>NaN</td>\n",
       "      <td>NaN</td>\n",
       "      <td>NaN</td>\n",
       "      <td>NaN</td>\n",
       "      <td>NaN</td>\n",
       "      <td>NaN</td>\n",
       "      <td>NaN</td>\n",
       "      <td>NaN</td>\n",
       "      <td>NaN</td>\n",
       "      <td>NaN</td>\n",
       "    </tr>\n",
       "    <tr>\n",
       "      <th>3</th>\n",
       "      <td>Additive Social / Organic per Month</td>\n",
       "      <td>500</td>\n",
       "      <td>1000</td>\n",
       "      <td>NaN</td>\n",
       "      <td>NaN</td>\n",
       "      <td>NaN</td>\n",
       "      <td>NaN</td>\n",
       "      <td>NaN</td>\n",
       "      <td>NaN</td>\n",
       "      <td>NaN</td>\n",
       "      <td>...</td>\n",
       "      <td>NaN</td>\n",
       "      <td>NaN</td>\n",
       "      <td>NaN</td>\n",
       "      <td>NaN</td>\n",
       "      <td>NaN</td>\n",
       "      <td>NaN</td>\n",
       "      <td>NaN</td>\n",
       "      <td>NaN</td>\n",
       "      <td>NaN</td>\n",
       "      <td>NaN</td>\n",
       "    </tr>\n",
       "    <tr>\n",
       "      <th>4</th>\n",
       "      <td>Cost of Paid Traffic</td>\n",
       "      <td>2</td>\n",
       "      <td>2.5</td>\n",
       "      <td>NaN</td>\n",
       "      <td>NaN</td>\n",
       "      <td>NaN</td>\n",
       "      <td>NaN</td>\n",
       "      <td>NaN</td>\n",
       "      <td>NaN</td>\n",
       "      <td>NaN</td>\n",
       "      <td>...</td>\n",
       "      <td>NaN</td>\n",
       "      <td>NaN</td>\n",
       "      <td>NaN</td>\n",
       "      <td>NaN</td>\n",
       "      <td>NaN</td>\n",
       "      <td>NaN</td>\n",
       "      <td>NaN</td>\n",
       "      <td>NaN</td>\n",
       "      <td>NaN</td>\n",
       "      <td>NaN</td>\n",
       "    </tr>\n",
       "  </tbody>\n",
       "</table>\n",
       "<p>5 rows × 32 columns</p>\n",
       "</div>"
      ],
      "text/plain": [
       "                            Unnamed: 0 Unnamed: 1 Unnamed: 2  MN0  MN1  MN2  \\\n",
       "0                          ASSUMPTIONS        YR1        YR2  NaN  NaN  NaN   \n",
       "1                      Traffic Sources        NaN        NaN  NaN  NaN  NaN   \n",
       "2   Starting Organic / Social Visitors       1000        NaN  NaN  NaN  NaN   \n",
       "3  Additive Social / Organic per Month        500       1000  NaN  NaN  NaN   \n",
       "4                 Cost of Paid Traffic          2        2.5  NaN  NaN  NaN   \n",
       "\n",
       "   MN3  MN4  MN5  MN6  ...  MN18  MN19  MN20  MN21  MN22  MN23  MN24  \\\n",
       "0  NaN  NaN  NaN  NaN  ...   NaN   NaN   NaN   NaN   NaN   NaN   NaN   \n",
       "1  NaN  NaN  NaN  NaN  ...   NaN   NaN   NaN   NaN   NaN   NaN   NaN   \n",
       "2  NaN  NaN  NaN  NaN  ...   NaN   NaN   NaN   NaN   NaN   NaN   NaN   \n",
       "3  NaN  NaN  NaN  NaN  ...   NaN   NaN   NaN   NaN   NaN   NaN   NaN   \n",
       "4  NaN  NaN  NaN  NaN  ...   NaN   NaN   NaN   NaN   NaN   NaN   NaN   \n",
       "\n",
       "   Unnamed: 29  YR1  YR2  \n",
       "0          NaN  NaN  NaN  \n",
       "1          NaN  NaN  NaN  \n",
       "2          NaN  NaN  NaN  \n",
       "3          NaN  NaN  NaN  \n",
       "4          NaN  NaN  NaN  \n",
       "\n",
       "[5 rows x 32 columns]"
      ]
     },
     "execution_count": 15,
     "metadata": {},
     "output_type": "execute_result"
    }
   ],
   "source": [
    "df2.head()"
   ]
  },
  {
   "cell_type": "code",
   "execution_count": 16,
   "metadata": {},
   "outputs": [
    {
     "data": {
      "text/html": [
       "<div>\n",
       "<style scoped>\n",
       "    .dataframe tbody tr th:only-of-type {\n",
       "        vertical-align: middle;\n",
       "    }\n",
       "\n",
       "    .dataframe tbody tr th {\n",
       "        vertical-align: top;\n",
       "    }\n",
       "\n",
       "    .dataframe thead th {\n",
       "        text-align: right;\n",
       "    }\n",
       "</style>\n",
       "<table border=\"1\" class=\"dataframe\">\n",
       "  <thead>\n",
       "    <tr style=\"text-align: right;\">\n",
       "      <th></th>\n",
       "      <th>ASSUMPTIONS</th>\n",
       "      <th>YR1</th>\n",
       "      <th>YR2</th>\n",
       "    </tr>\n",
       "  </thead>\n",
       "  <tbody>\n",
       "    <tr>\n",
       "      <th>2</th>\n",
       "      <td>Starting Organic / Social Visitors</td>\n",
       "      <td>1000</td>\n",
       "      <td>NaN</td>\n",
       "    </tr>\n",
       "    <tr>\n",
       "      <th>3</th>\n",
       "      <td>Additive Social / Organic per Month</td>\n",
       "      <td>500</td>\n",
       "      <td>1000</td>\n",
       "    </tr>\n",
       "    <tr>\n",
       "      <th>4</th>\n",
       "      <td>Cost of Paid Traffic</td>\n",
       "      <td>2</td>\n",
       "      <td>2.5</td>\n",
       "    </tr>\n",
       "    <tr>\n",
       "      <th>5</th>\n",
       "      <td>Marketing Spend / Month</td>\n",
       "      <td>10000</td>\n",
       "      <td>25000</td>\n",
       "    </tr>\n",
       "    <tr>\n",
       "      <th>6</th>\n",
       "      <td>K-Factor (Users)</td>\n",
       "      <td>0.2</td>\n",
       "      <td>0.3</td>\n",
       "    </tr>\n",
       "    <tr>\n",
       "      <th>7</th>\n",
       "      <td>K-Factor (Subscribers)</td>\n",
       "      <td>0.5</td>\n",
       "      <td>1</td>\n",
       "    </tr>\n",
       "    <tr>\n",
       "      <th>10</th>\n",
       "      <td>Traffic -&gt; User Conversion Rate</td>\n",
       "      <td>0.25</td>\n",
       "      <td>0.3</td>\n",
       "    </tr>\n",
       "    <tr>\n",
       "      <th>11</th>\n",
       "      <td>MoM Retention (Users)</td>\n",
       "      <td>0.3</td>\n",
       "      <td>0.5</td>\n",
       "    </tr>\n",
       "    <tr>\n",
       "      <th>12</th>\n",
       "      <td>User -&gt; Subscriber Conversion Rate</td>\n",
       "      <td>0.1</td>\n",
       "      <td>0.15</td>\n",
       "    </tr>\n",
       "    <tr>\n",
       "      <th>13</th>\n",
       "      <td>MoM Retention (Subscribers)</td>\n",
       "      <td>0.4</td>\n",
       "      <td>0.6</td>\n",
       "    </tr>\n",
       "  </tbody>\n",
       "</table>\n",
       "</div>"
      ],
      "text/plain": [
       "                            ASSUMPTIONS    YR1    YR2\n",
       "2    Starting Organic / Social Visitors   1000    NaN\n",
       "3   Additive Social / Organic per Month    500   1000\n",
       "4                  Cost of Paid Traffic      2    2.5\n",
       "5               Marketing Spend / Month  10000  25000\n",
       "6                      K-Factor (Users)    0.2    0.3\n",
       "7                K-Factor (Subscribers)    0.5      1\n",
       "10      Traffic -> User Conversion Rate   0.25    0.3\n",
       "11                MoM Retention (Users)    0.3    0.5\n",
       "12   User -> Subscriber Conversion Rate    0.1   0.15\n",
       "13          MoM Retention (Subscribers)    0.4    0.6"
      ]
     },
     "execution_count": 16,
     "metadata": {},
     "output_type": "execute_result"
    }
   ],
   "source": [
    "df_clean = (\n",
    "    df2\n",
    "    .iloc[1:,0:3]\n",
    "    .head(13)\n",
    "    .rename(columns=\n",
    "            {'Unnamed: 0':'ASSUMPTIONS',\n",
    "             'Unnamed: 1':'YR1',\n",
    "             'Unnamed: 2': 'YR2'})\n",
    "    .dropna(subset=['YR1'])\n",
    "    )\n",
    "df_clean.head(15)"
   ]
  },
  {
   "cell_type": "code",
   "execution_count": 17,
   "metadata": {},
   "outputs": [
    {
     "data": {
      "application/vnd.plotly.v1+json": {
       "config": {
        "plotlyServerURL": "https://plot.ly"
       },
       "data": [
        {
         "hovertemplate": "month=%{x}<br>Total Subscribers=%{y}<extra></extra>",
         "legendgroup": "",
         "line": {
          "color": "#636efa",
          "dash": "solid"
         },
         "marker": {
          "symbol": "circle"
         },
         "mode": "lines",
         "name": "",
         "orientation": "v",
         "showlegend": false,
         "type": "scatter",
         "x": [
          0,
          1,
          2,
          3,
          4,
          5,
          6,
          7,
          8,
          9,
          10,
          11,
          12,
          13,
          14,
          15,
          16,
          17,
          18,
          19,
          20,
          21,
          22,
          23,
          24
         ],
         "xaxis": "x",
         "y": [
          150,
          246.875,
          280.1171875,
          303.01904296875,
          324.2405944824219,
          345.1890966033935,
          366.0932281980514,
          386.99014958218334,
          407.8858993071048,
          428.78145863740457,
          449.67698702857825,
          470.572510392144,
          491.4680329387234,
          1045.3948540818835,
          1701.1560397616463,
          1991.9760453183244,
          2167.6223795394935,
          2301.081281553595,
          2419.3708307363095,
          2532.1989598306454,
          2643.0609890198925,
          2753.21522196014,
          2863.114648257825,
          2972.9223441640124,
          3082.6970171292646
         ],
         "yaxis": "y"
        }
       ],
       "layout": {
        "annotations": [
         {
          "align": "center",
          "arrowhead": 1,
          "arrowsize": 2,
          "font": {
           "size": 17
          },
          "text": "Change in slope due to increase in<br><b>conversion</b> and <b>retention</b>",
          "x": 12,
          "xanchor": "right",
          "y": 491.468,
          "yshift": 10
         }
        ],
        "height": 550,
        "legend": {
         "tracegroupgap": 0
        },
        "template": {
         "data": {
          "bar": [
           {
            "error_x": {
             "color": "#2a3f5f"
            },
            "error_y": {
             "color": "#2a3f5f"
            },
            "marker": {
             "line": {
              "color": "#E5ECF6",
              "width": 0.5
             },
             "pattern": {
              "fillmode": "overlay",
              "size": 10,
              "solidity": 0.2
             }
            },
            "type": "bar"
           }
          ],
          "barpolar": [
           {
            "marker": {
             "line": {
              "color": "#E5ECF6",
              "width": 0.5
             },
             "pattern": {
              "fillmode": "overlay",
              "size": 10,
              "solidity": 0.2
             }
            },
            "type": "barpolar"
           }
          ],
          "carpet": [
           {
            "aaxis": {
             "endlinecolor": "#2a3f5f",
             "gridcolor": "white",
             "linecolor": "white",
             "minorgridcolor": "white",
             "startlinecolor": "#2a3f5f"
            },
            "baxis": {
             "endlinecolor": "#2a3f5f",
             "gridcolor": "white",
             "linecolor": "white",
             "minorgridcolor": "white",
             "startlinecolor": "#2a3f5f"
            },
            "type": "carpet"
           }
          ],
          "choropleth": [
           {
            "colorbar": {
             "outlinewidth": 0,
             "ticks": ""
            },
            "type": "choropleth"
           }
          ],
          "contour": [
           {
            "colorbar": {
             "outlinewidth": 0,
             "ticks": ""
            },
            "colorscale": [
             [
              0,
              "#0d0887"
             ],
             [
              0.1111111111111111,
              "#46039f"
             ],
             [
              0.2222222222222222,
              "#7201a8"
             ],
             [
              0.3333333333333333,
              "#9c179e"
             ],
             [
              0.4444444444444444,
              "#bd3786"
             ],
             [
              0.5555555555555556,
              "#d8576b"
             ],
             [
              0.6666666666666666,
              "#ed7953"
             ],
             [
              0.7777777777777778,
              "#fb9f3a"
             ],
             [
              0.8888888888888888,
              "#fdca26"
             ],
             [
              1,
              "#f0f921"
             ]
            ],
            "type": "contour"
           }
          ],
          "contourcarpet": [
           {
            "colorbar": {
             "outlinewidth": 0,
             "ticks": ""
            },
            "type": "contourcarpet"
           }
          ],
          "heatmap": [
           {
            "colorbar": {
             "outlinewidth": 0,
             "ticks": ""
            },
            "colorscale": [
             [
              0,
              "#0d0887"
             ],
             [
              0.1111111111111111,
              "#46039f"
             ],
             [
              0.2222222222222222,
              "#7201a8"
             ],
             [
              0.3333333333333333,
              "#9c179e"
             ],
             [
              0.4444444444444444,
              "#bd3786"
             ],
             [
              0.5555555555555556,
              "#d8576b"
             ],
             [
              0.6666666666666666,
              "#ed7953"
             ],
             [
              0.7777777777777778,
              "#fb9f3a"
             ],
             [
              0.8888888888888888,
              "#fdca26"
             ],
             [
              1,
              "#f0f921"
             ]
            ],
            "type": "heatmap"
           }
          ],
          "heatmapgl": [
           {
            "colorbar": {
             "outlinewidth": 0,
             "ticks": ""
            },
            "colorscale": [
             [
              0,
              "#0d0887"
             ],
             [
              0.1111111111111111,
              "#46039f"
             ],
             [
              0.2222222222222222,
              "#7201a8"
             ],
             [
              0.3333333333333333,
              "#9c179e"
             ],
             [
              0.4444444444444444,
              "#bd3786"
             ],
             [
              0.5555555555555556,
              "#d8576b"
             ],
             [
              0.6666666666666666,
              "#ed7953"
             ],
             [
              0.7777777777777778,
              "#fb9f3a"
             ],
             [
              0.8888888888888888,
              "#fdca26"
             ],
             [
              1,
              "#f0f921"
             ]
            ],
            "type": "heatmapgl"
           }
          ],
          "histogram": [
           {
            "marker": {
             "pattern": {
              "fillmode": "overlay",
              "size": 10,
              "solidity": 0.2
             }
            },
            "type": "histogram"
           }
          ],
          "histogram2d": [
           {
            "colorbar": {
             "outlinewidth": 0,
             "ticks": ""
            },
            "colorscale": [
             [
              0,
              "#0d0887"
             ],
             [
              0.1111111111111111,
              "#46039f"
             ],
             [
              0.2222222222222222,
              "#7201a8"
             ],
             [
              0.3333333333333333,
              "#9c179e"
             ],
             [
              0.4444444444444444,
              "#bd3786"
             ],
             [
              0.5555555555555556,
              "#d8576b"
             ],
             [
              0.6666666666666666,
              "#ed7953"
             ],
             [
              0.7777777777777778,
              "#fb9f3a"
             ],
             [
              0.8888888888888888,
              "#fdca26"
             ],
             [
              1,
              "#f0f921"
             ]
            ],
            "type": "histogram2d"
           }
          ],
          "histogram2dcontour": [
           {
            "colorbar": {
             "outlinewidth": 0,
             "ticks": ""
            },
            "colorscale": [
             [
              0,
              "#0d0887"
             ],
             [
              0.1111111111111111,
              "#46039f"
             ],
             [
              0.2222222222222222,
              "#7201a8"
             ],
             [
              0.3333333333333333,
              "#9c179e"
             ],
             [
              0.4444444444444444,
              "#bd3786"
             ],
             [
              0.5555555555555556,
              "#d8576b"
             ],
             [
              0.6666666666666666,
              "#ed7953"
             ],
             [
              0.7777777777777778,
              "#fb9f3a"
             ],
             [
              0.8888888888888888,
              "#fdca26"
             ],
             [
              1,
              "#f0f921"
             ]
            ],
            "type": "histogram2dcontour"
           }
          ],
          "mesh3d": [
           {
            "colorbar": {
             "outlinewidth": 0,
             "ticks": ""
            },
            "type": "mesh3d"
           }
          ],
          "parcoords": [
           {
            "line": {
             "colorbar": {
              "outlinewidth": 0,
              "ticks": ""
             }
            },
            "type": "parcoords"
           }
          ],
          "pie": [
           {
            "automargin": true,
            "type": "pie"
           }
          ],
          "scatter": [
           {
            "fillpattern": {
             "fillmode": "overlay",
             "size": 10,
             "solidity": 0.2
            },
            "type": "scatter"
           }
          ],
          "scatter3d": [
           {
            "line": {
             "colorbar": {
              "outlinewidth": 0,
              "ticks": ""
             }
            },
            "marker": {
             "colorbar": {
              "outlinewidth": 0,
              "ticks": ""
             }
            },
            "type": "scatter3d"
           }
          ],
          "scattercarpet": [
           {
            "marker": {
             "colorbar": {
              "outlinewidth": 0,
              "ticks": ""
             }
            },
            "type": "scattercarpet"
           }
          ],
          "scattergeo": [
           {
            "marker": {
             "colorbar": {
              "outlinewidth": 0,
              "ticks": ""
             }
            },
            "type": "scattergeo"
           }
          ],
          "scattergl": [
           {
            "marker": {
             "colorbar": {
              "outlinewidth": 0,
              "ticks": ""
             }
            },
            "type": "scattergl"
           }
          ],
          "scattermapbox": [
           {
            "marker": {
             "colorbar": {
              "outlinewidth": 0,
              "ticks": ""
             }
            },
            "type": "scattermapbox"
           }
          ],
          "scatterpolar": [
           {
            "marker": {
             "colorbar": {
              "outlinewidth": 0,
              "ticks": ""
             }
            },
            "type": "scatterpolar"
           }
          ],
          "scatterpolargl": [
           {
            "marker": {
             "colorbar": {
              "outlinewidth": 0,
              "ticks": ""
             }
            },
            "type": "scatterpolargl"
           }
          ],
          "scatterternary": [
           {
            "marker": {
             "colorbar": {
              "outlinewidth": 0,
              "ticks": ""
             }
            },
            "type": "scatterternary"
           }
          ],
          "surface": [
           {
            "colorbar": {
             "outlinewidth": 0,
             "ticks": ""
            },
            "colorscale": [
             [
              0,
              "#0d0887"
             ],
             [
              0.1111111111111111,
              "#46039f"
             ],
             [
              0.2222222222222222,
              "#7201a8"
             ],
             [
              0.3333333333333333,
              "#9c179e"
             ],
             [
              0.4444444444444444,
              "#bd3786"
             ],
             [
              0.5555555555555556,
              "#d8576b"
             ],
             [
              0.6666666666666666,
              "#ed7953"
             ],
             [
              0.7777777777777778,
              "#fb9f3a"
             ],
             [
              0.8888888888888888,
              "#fdca26"
             ],
             [
              1,
              "#f0f921"
             ]
            ],
            "type": "surface"
           }
          ],
          "table": [
           {
            "cells": {
             "fill": {
              "color": "#EBF0F8"
             },
             "line": {
              "color": "white"
             }
            },
            "header": {
             "fill": {
              "color": "#C8D4E3"
             },
             "line": {
              "color": "white"
             }
            },
            "type": "table"
           }
          ]
         },
         "layout": {
          "annotationdefaults": {
           "arrowcolor": "#2a3f5f",
           "arrowhead": 0,
           "arrowwidth": 1
          },
          "autotypenumbers": "strict",
          "coloraxis": {
           "colorbar": {
            "outlinewidth": 0,
            "ticks": ""
           }
          },
          "colorscale": {
           "diverging": [
            [
             0,
             "#8e0152"
            ],
            [
             0.1,
             "#c51b7d"
            ],
            [
             0.2,
             "#de77ae"
            ],
            [
             0.3,
             "#f1b6da"
            ],
            [
             0.4,
             "#fde0ef"
            ],
            [
             0.5,
             "#f7f7f7"
            ],
            [
             0.6,
             "#e6f5d0"
            ],
            [
             0.7,
             "#b8e186"
            ],
            [
             0.8,
             "#7fbc41"
            ],
            [
             0.9,
             "#4d9221"
            ],
            [
             1,
             "#276419"
            ]
           ],
           "sequential": [
            [
             0,
             "#0d0887"
            ],
            [
             0.1111111111111111,
             "#46039f"
            ],
            [
             0.2222222222222222,
             "#7201a8"
            ],
            [
             0.3333333333333333,
             "#9c179e"
            ],
            [
             0.4444444444444444,
             "#bd3786"
            ],
            [
             0.5555555555555556,
             "#d8576b"
            ],
            [
             0.6666666666666666,
             "#ed7953"
            ],
            [
             0.7777777777777778,
             "#fb9f3a"
            ],
            [
             0.8888888888888888,
             "#fdca26"
            ],
            [
             1,
             "#f0f921"
            ]
           ],
           "sequentialminus": [
            [
             0,
             "#0d0887"
            ],
            [
             0.1111111111111111,
             "#46039f"
            ],
            [
             0.2222222222222222,
             "#7201a8"
            ],
            [
             0.3333333333333333,
             "#9c179e"
            ],
            [
             0.4444444444444444,
             "#bd3786"
            ],
            [
             0.5555555555555556,
             "#d8576b"
            ],
            [
             0.6666666666666666,
             "#ed7953"
            ],
            [
             0.7777777777777778,
             "#fb9f3a"
            ],
            [
             0.8888888888888888,
             "#fdca26"
            ],
            [
             1,
             "#f0f921"
            ]
           ]
          },
          "colorway": [
           "#636efa",
           "#EF553B",
           "#00cc96",
           "#ab63fa",
           "#FFA15A",
           "#19d3f3",
           "#FF6692",
           "#B6E880",
           "#FF97FF",
           "#FECB52"
          ],
          "font": {
           "color": "#2a3f5f"
          },
          "geo": {
           "bgcolor": "white",
           "lakecolor": "white",
           "landcolor": "#E5ECF6",
           "showlakes": true,
           "showland": true,
           "subunitcolor": "white"
          },
          "hoverlabel": {
           "align": "left"
          },
          "hovermode": "closest",
          "mapbox": {
           "style": "light"
          },
          "paper_bgcolor": "white",
          "plot_bgcolor": "#E5ECF6",
          "polar": {
           "angularaxis": {
            "gridcolor": "white",
            "linecolor": "white",
            "ticks": ""
           },
           "bgcolor": "#E5ECF6",
           "radialaxis": {
            "gridcolor": "white",
            "linecolor": "white",
            "ticks": ""
           }
          },
          "scene": {
           "xaxis": {
            "backgroundcolor": "#E5ECF6",
            "gridcolor": "white",
            "gridwidth": 2,
            "linecolor": "white",
            "showbackground": true,
            "ticks": "",
            "zerolinecolor": "white"
           },
           "yaxis": {
            "backgroundcolor": "#E5ECF6",
            "gridcolor": "white",
            "gridwidth": 2,
            "linecolor": "white",
            "showbackground": true,
            "ticks": "",
            "zerolinecolor": "white"
           },
           "zaxis": {
            "backgroundcolor": "#E5ECF6",
            "gridcolor": "white",
            "gridwidth": 2,
            "linecolor": "white",
            "showbackground": true,
            "ticks": "",
            "zerolinecolor": "white"
           }
          },
          "shapedefaults": {
           "line": {
            "color": "#2a3f5f"
           }
          },
          "ternary": {
           "aaxis": {
            "gridcolor": "white",
            "linecolor": "white",
            "ticks": ""
           },
           "baxis": {
            "gridcolor": "white",
            "linecolor": "white",
            "ticks": ""
           },
           "bgcolor": "#E5ECF6",
           "caxis": {
            "gridcolor": "white",
            "linecolor": "white",
            "ticks": ""
           }
          },
          "title": {
           "x": 0.05
          },
          "xaxis": {
           "automargin": true,
           "gridcolor": "white",
           "linecolor": "white",
           "ticks": "",
           "title": {
            "standoff": 15
           },
           "zerolinecolor": "white",
           "zerolinewidth": 2
          },
          "yaxis": {
           "automargin": true,
           "gridcolor": "white",
           "linecolor": "white",
           "ticks": "",
           "title": {
            "standoff": 15
           },
           "zerolinecolor": "white",
           "zerolinewidth": 2
          }
         }
        },
        "title": {
         "font": {
          "size": 35
         },
         "text": "Evolution of Subscribers over Time",
         "x": 0.5,
         "xanchor": "center",
         "y": 0.94
        },
        "xaxis": {
         "anchor": "y",
         "domain": [
          0,
          1
         ],
         "tickfont": {
          "size": 20
         },
         "title": {
          "font": {
           "size": 20
          },
          "text": "month"
         }
        },
        "yaxis": {
         "anchor": "x",
         "domain": [
          0,
          1
         ],
         "tickfont": {
          "size": 15
         },
         "title": {
          "font": {
           "size": 20
          },
          "text": "Total Subscribers"
         }
        }
       }
      }
     },
     "metadata": {},
     "output_type": "display_data"
    }
   ],
   "source": [
    "px.line(\n",
    "    subscribers,\n",
    "    x = 'month',\n",
    "    y = \"(All) Total Current Subscribers\",\n",
    "    title = \"Evolution of Subscribers over Time\",\n",
    "    labels = {\"(All) Total Current Subscribers\" : \"Total Subscribers\"}\n",
    "    ).update_layout(\n",
    "        title_font = dict(size = 35),\n",
    "        title = {'x':0.5,\n",
    "                 'y': .94,\n",
    "                 'xanchor': 'center'} ,\n",
    "        height = 550\n",
    "    ).update_xaxes(\n",
    "        title_font = dict(\n",
    "            size = 20\n",
    "        ),\n",
    "        tickfont_size= 20\n",
    "    ).update_yaxes(\n",
    "        title_font = dict(\n",
    "            size = 20\n",
    "        ),\n",
    "        tickfont_size= 15\n",
    "    ).add_annotation(\n",
    "        text = \"Change in slope due to increase in<br><b>conversion</b> and <b>retention</b>\",\n",
    "        x = 12,\n",
    "        y = 491.468,\n",
    "        arrowhead = 1,\n",
    "        yshift=10,\n",
    "        xanchor=\"right\",\n",
    "        font=dict(\n",
    "            size=17\n",
    "            ),\n",
    "        arrowsize=2,\n",
    "        align=\"center\",       \n",
    "    )"
   ]
  },
  {
   "cell_type": "code",
   "execution_count": 18,
   "metadata": {},
   "outputs": [
    {
     "data": {
      "application/vnd.plotly.v1+json": {
       "config": {
        "plotlyServerURL": "https://plot.ly"
       },
       "data": [
        {
         "hovertemplate": "month=%{x}<br>Total Subscribers=%{y}<extra></extra>",
         "legendgroup": "",
         "line": {
          "color": "#636efa",
          "dash": "solid"
         },
         "marker": {
          "symbol": "circle"
         },
         "mode": "lines",
         "name": "",
         "orientation": "v",
         "showlegend": false,
         "type": "scatter",
         "x": [
          0,
          1,
          2,
          3,
          4,
          5,
          6,
          7,
          8,
          9,
          10,
          11,
          12,
          13,
          14,
          15,
          16,
          17,
          18,
          19,
          20,
          21,
          22,
          23,
          24
         ],
         "xaxis": "x",
         "y": [
          150,
          246.875,
          280.1171875,
          303.01904296875,
          324.2405944824219,
          345.1890966033935,
          366.0932281980514,
          386.99014958218334,
          407.8858993071048,
          428.78145863740457,
          449.67698702857825,
          470.572510392144,
          491.4680329387234,
          1045.3948540818835,
          1701.1560397616463,
          1991.9760453183244,
          2167.6223795394935,
          2301.081281553595,
          2419.3708307363095,
          2532.1989598306454,
          2643.0609890198925,
          2753.21522196014,
          2863.114648257825,
          2972.9223441640124,
          3082.6970171292646
         ],
         "yaxis": "y"
        }
       ],
       "layout": {
        "annotations": [
         {
          "align": "center",
          "arrowhead": 1,
          "arrowsize": 2,
          "ax": -50,
          "ay": -30,
          "font": {
           "size": 20
          },
          "showarrow": true,
          "text": "Change in slope due to increase in<br><b>conversion</b>, <b>retention</b> and <b>ad spend</b>",
          "x": 12,
          "xanchor": "right",
          "y": 491.468,
          "yshift": 10
         },
         {
          "font": {
           "color": "grey",
           "size": 20
          },
          "showarrow": false,
          "text": "Projected subscriber growth over the first two years based on business model simulations,<br>with product improvements leading to increased retention and conversion rates.",
          "x": 0.5,
          "xanchor": "center",
          "xref": "paper",
          "y": 0.96,
          "yanchor": "bottom",
          "yref": "paper"
         }
        ],
        "height": 800,
        "legend": {
         "tracegroupgap": 0
        },
        "paper_bgcolor": "white",
        "plot_bgcolor": "white",
        "template": {
         "data": {
          "bar": [
           {
            "error_x": {
             "color": "#2a3f5f"
            },
            "error_y": {
             "color": "#2a3f5f"
            },
            "marker": {
             "line": {
              "color": "white",
              "width": 0.5
             },
             "pattern": {
              "fillmode": "overlay",
              "size": 10,
              "solidity": 0.2
             }
            },
            "type": "bar"
           }
          ],
          "barpolar": [
           {
            "marker": {
             "line": {
              "color": "white",
              "width": 0.5
             },
             "pattern": {
              "fillmode": "overlay",
              "size": 10,
              "solidity": 0.2
             }
            },
            "type": "barpolar"
           }
          ],
          "carpet": [
           {
            "aaxis": {
             "endlinecolor": "#2a3f5f",
             "gridcolor": "#C8D4E3",
             "linecolor": "#C8D4E3",
             "minorgridcolor": "#C8D4E3",
             "startlinecolor": "#2a3f5f"
            },
            "baxis": {
             "endlinecolor": "#2a3f5f",
             "gridcolor": "#C8D4E3",
             "linecolor": "#C8D4E3",
             "minorgridcolor": "#C8D4E3",
             "startlinecolor": "#2a3f5f"
            },
            "type": "carpet"
           }
          ],
          "choropleth": [
           {
            "colorbar": {
             "outlinewidth": 0,
             "ticks": ""
            },
            "type": "choropleth"
           }
          ],
          "contour": [
           {
            "colorbar": {
             "outlinewidth": 0,
             "ticks": ""
            },
            "colorscale": [
             [
              0,
              "#0d0887"
             ],
             [
              0.1111111111111111,
              "#46039f"
             ],
             [
              0.2222222222222222,
              "#7201a8"
             ],
             [
              0.3333333333333333,
              "#9c179e"
             ],
             [
              0.4444444444444444,
              "#bd3786"
             ],
             [
              0.5555555555555556,
              "#d8576b"
             ],
             [
              0.6666666666666666,
              "#ed7953"
             ],
             [
              0.7777777777777778,
              "#fb9f3a"
             ],
             [
              0.8888888888888888,
              "#fdca26"
             ],
             [
              1,
              "#f0f921"
             ]
            ],
            "type": "contour"
           }
          ],
          "contourcarpet": [
           {
            "colorbar": {
             "outlinewidth": 0,
             "ticks": ""
            },
            "type": "contourcarpet"
           }
          ],
          "heatmap": [
           {
            "colorbar": {
             "outlinewidth": 0,
             "ticks": ""
            },
            "colorscale": [
             [
              0,
              "#0d0887"
             ],
             [
              0.1111111111111111,
              "#46039f"
             ],
             [
              0.2222222222222222,
              "#7201a8"
             ],
             [
              0.3333333333333333,
              "#9c179e"
             ],
             [
              0.4444444444444444,
              "#bd3786"
             ],
             [
              0.5555555555555556,
              "#d8576b"
             ],
             [
              0.6666666666666666,
              "#ed7953"
             ],
             [
              0.7777777777777778,
              "#fb9f3a"
             ],
             [
              0.8888888888888888,
              "#fdca26"
             ],
             [
              1,
              "#f0f921"
             ]
            ],
            "type": "heatmap"
           }
          ],
          "heatmapgl": [
           {
            "colorbar": {
             "outlinewidth": 0,
             "ticks": ""
            },
            "colorscale": [
             [
              0,
              "#0d0887"
             ],
             [
              0.1111111111111111,
              "#46039f"
             ],
             [
              0.2222222222222222,
              "#7201a8"
             ],
             [
              0.3333333333333333,
              "#9c179e"
             ],
             [
              0.4444444444444444,
              "#bd3786"
             ],
             [
              0.5555555555555556,
              "#d8576b"
             ],
             [
              0.6666666666666666,
              "#ed7953"
             ],
             [
              0.7777777777777778,
              "#fb9f3a"
             ],
             [
              0.8888888888888888,
              "#fdca26"
             ],
             [
              1,
              "#f0f921"
             ]
            ],
            "type": "heatmapgl"
           }
          ],
          "histogram": [
           {
            "marker": {
             "pattern": {
              "fillmode": "overlay",
              "size": 10,
              "solidity": 0.2
             }
            },
            "type": "histogram"
           }
          ],
          "histogram2d": [
           {
            "colorbar": {
             "outlinewidth": 0,
             "ticks": ""
            },
            "colorscale": [
             [
              0,
              "#0d0887"
             ],
             [
              0.1111111111111111,
              "#46039f"
             ],
             [
              0.2222222222222222,
              "#7201a8"
             ],
             [
              0.3333333333333333,
              "#9c179e"
             ],
             [
              0.4444444444444444,
              "#bd3786"
             ],
             [
              0.5555555555555556,
              "#d8576b"
             ],
             [
              0.6666666666666666,
              "#ed7953"
             ],
             [
              0.7777777777777778,
              "#fb9f3a"
             ],
             [
              0.8888888888888888,
              "#fdca26"
             ],
             [
              1,
              "#f0f921"
             ]
            ],
            "type": "histogram2d"
           }
          ],
          "histogram2dcontour": [
           {
            "colorbar": {
             "outlinewidth": 0,
             "ticks": ""
            },
            "colorscale": [
             [
              0,
              "#0d0887"
             ],
             [
              0.1111111111111111,
              "#46039f"
             ],
             [
              0.2222222222222222,
              "#7201a8"
             ],
             [
              0.3333333333333333,
              "#9c179e"
             ],
             [
              0.4444444444444444,
              "#bd3786"
             ],
             [
              0.5555555555555556,
              "#d8576b"
             ],
             [
              0.6666666666666666,
              "#ed7953"
             ],
             [
              0.7777777777777778,
              "#fb9f3a"
             ],
             [
              0.8888888888888888,
              "#fdca26"
             ],
             [
              1,
              "#f0f921"
             ]
            ],
            "type": "histogram2dcontour"
           }
          ],
          "mesh3d": [
           {
            "colorbar": {
             "outlinewidth": 0,
             "ticks": ""
            },
            "type": "mesh3d"
           }
          ],
          "parcoords": [
           {
            "line": {
             "colorbar": {
              "outlinewidth": 0,
              "ticks": ""
             }
            },
            "type": "parcoords"
           }
          ],
          "pie": [
           {
            "automargin": true,
            "type": "pie"
           }
          ],
          "scatter": [
           {
            "fillpattern": {
             "fillmode": "overlay",
             "size": 10,
             "solidity": 0.2
            },
            "type": "scatter"
           }
          ],
          "scatter3d": [
           {
            "line": {
             "colorbar": {
              "outlinewidth": 0,
              "ticks": ""
             }
            },
            "marker": {
             "colorbar": {
              "outlinewidth": 0,
              "ticks": ""
             }
            },
            "type": "scatter3d"
           }
          ],
          "scattercarpet": [
           {
            "marker": {
             "colorbar": {
              "outlinewidth": 0,
              "ticks": ""
             }
            },
            "type": "scattercarpet"
           }
          ],
          "scattergeo": [
           {
            "marker": {
             "colorbar": {
              "outlinewidth": 0,
              "ticks": ""
             }
            },
            "type": "scattergeo"
           }
          ],
          "scattergl": [
           {
            "marker": {
             "colorbar": {
              "outlinewidth": 0,
              "ticks": ""
             }
            },
            "type": "scattergl"
           }
          ],
          "scattermapbox": [
           {
            "marker": {
             "colorbar": {
              "outlinewidth": 0,
              "ticks": ""
             }
            },
            "type": "scattermapbox"
           }
          ],
          "scatterpolar": [
           {
            "marker": {
             "colorbar": {
              "outlinewidth": 0,
              "ticks": ""
             }
            },
            "type": "scatterpolar"
           }
          ],
          "scatterpolargl": [
           {
            "marker": {
             "colorbar": {
              "outlinewidth": 0,
              "ticks": ""
             }
            },
            "type": "scatterpolargl"
           }
          ],
          "scatterternary": [
           {
            "marker": {
             "colorbar": {
              "outlinewidth": 0,
              "ticks": ""
             }
            },
            "type": "scatterternary"
           }
          ],
          "surface": [
           {
            "colorbar": {
             "outlinewidth": 0,
             "ticks": ""
            },
            "colorscale": [
             [
              0,
              "#0d0887"
             ],
             [
              0.1111111111111111,
              "#46039f"
             ],
             [
              0.2222222222222222,
              "#7201a8"
             ],
             [
              0.3333333333333333,
              "#9c179e"
             ],
             [
              0.4444444444444444,
              "#bd3786"
             ],
             [
              0.5555555555555556,
              "#d8576b"
             ],
             [
              0.6666666666666666,
              "#ed7953"
             ],
             [
              0.7777777777777778,
              "#fb9f3a"
             ],
             [
              0.8888888888888888,
              "#fdca26"
             ],
             [
              1,
              "#f0f921"
             ]
            ],
            "type": "surface"
           }
          ],
          "table": [
           {
            "cells": {
             "fill": {
              "color": "#EBF0F8"
             },
             "line": {
              "color": "white"
             }
            },
            "header": {
             "fill": {
              "color": "#C8D4E3"
             },
             "line": {
              "color": "white"
             }
            },
            "type": "table"
           }
          ]
         },
         "layout": {
          "annotationdefaults": {
           "arrowcolor": "#2a3f5f",
           "arrowhead": 0,
           "arrowwidth": 1
          },
          "autotypenumbers": "strict",
          "coloraxis": {
           "colorbar": {
            "outlinewidth": 0,
            "ticks": ""
           }
          },
          "colorscale": {
           "diverging": [
            [
             0,
             "#8e0152"
            ],
            [
             0.1,
             "#c51b7d"
            ],
            [
             0.2,
             "#de77ae"
            ],
            [
             0.3,
             "#f1b6da"
            ],
            [
             0.4,
             "#fde0ef"
            ],
            [
             0.5,
             "#f7f7f7"
            ],
            [
             0.6,
             "#e6f5d0"
            ],
            [
             0.7,
             "#b8e186"
            ],
            [
             0.8,
             "#7fbc41"
            ],
            [
             0.9,
             "#4d9221"
            ],
            [
             1,
             "#276419"
            ]
           ],
           "sequential": [
            [
             0,
             "#0d0887"
            ],
            [
             0.1111111111111111,
             "#46039f"
            ],
            [
             0.2222222222222222,
             "#7201a8"
            ],
            [
             0.3333333333333333,
             "#9c179e"
            ],
            [
             0.4444444444444444,
             "#bd3786"
            ],
            [
             0.5555555555555556,
             "#d8576b"
            ],
            [
             0.6666666666666666,
             "#ed7953"
            ],
            [
             0.7777777777777778,
             "#fb9f3a"
            ],
            [
             0.8888888888888888,
             "#fdca26"
            ],
            [
             1,
             "#f0f921"
            ]
           ],
           "sequentialminus": [
            [
             0,
             "#0d0887"
            ],
            [
             0.1111111111111111,
             "#46039f"
            ],
            [
             0.2222222222222222,
             "#7201a8"
            ],
            [
             0.3333333333333333,
             "#9c179e"
            ],
            [
             0.4444444444444444,
             "#bd3786"
            ],
            [
             0.5555555555555556,
             "#d8576b"
            ],
            [
             0.6666666666666666,
             "#ed7953"
            ],
            [
             0.7777777777777778,
             "#fb9f3a"
            ],
            [
             0.8888888888888888,
             "#fdca26"
            ],
            [
             1,
             "#f0f921"
            ]
           ]
          },
          "colorway": [
           "#636efa",
           "#EF553B",
           "#00cc96",
           "#ab63fa",
           "#FFA15A",
           "#19d3f3",
           "#FF6692",
           "#B6E880",
           "#FF97FF",
           "#FECB52"
          ],
          "font": {
           "color": "#2a3f5f"
          },
          "geo": {
           "bgcolor": "white",
           "lakecolor": "white",
           "landcolor": "white",
           "showlakes": true,
           "showland": true,
           "subunitcolor": "#C8D4E3"
          },
          "hoverlabel": {
           "align": "left"
          },
          "hovermode": "closest",
          "mapbox": {
           "style": "light"
          },
          "paper_bgcolor": "white",
          "plot_bgcolor": "white",
          "polar": {
           "angularaxis": {
            "gridcolor": "#EBF0F8",
            "linecolor": "#EBF0F8",
            "ticks": ""
           },
           "bgcolor": "white",
           "radialaxis": {
            "gridcolor": "#EBF0F8",
            "linecolor": "#EBF0F8",
            "ticks": ""
           }
          },
          "scene": {
           "xaxis": {
            "backgroundcolor": "white",
            "gridcolor": "#DFE8F3",
            "gridwidth": 2,
            "linecolor": "#EBF0F8",
            "showbackground": true,
            "ticks": "",
            "zerolinecolor": "#EBF0F8"
           },
           "yaxis": {
            "backgroundcolor": "white",
            "gridcolor": "#DFE8F3",
            "gridwidth": 2,
            "linecolor": "#EBF0F8",
            "showbackground": true,
            "ticks": "",
            "zerolinecolor": "#EBF0F8"
           },
           "zaxis": {
            "backgroundcolor": "white",
            "gridcolor": "#DFE8F3",
            "gridwidth": 2,
            "linecolor": "#EBF0F8",
            "showbackground": true,
            "ticks": "",
            "zerolinecolor": "#EBF0F8"
           }
          },
          "shapedefaults": {
           "line": {
            "color": "#2a3f5f"
           }
          },
          "ternary": {
           "aaxis": {
            "gridcolor": "#DFE8F3",
            "linecolor": "#A2B1C6",
            "ticks": ""
           },
           "baxis": {
            "gridcolor": "#DFE8F3",
            "linecolor": "#A2B1C6",
            "ticks": ""
           },
           "bgcolor": "white",
           "caxis": {
            "gridcolor": "#DFE8F3",
            "linecolor": "#A2B1C6",
            "ticks": ""
           }
          },
          "title": {
           "x": 0.05
          },
          "xaxis": {
           "automargin": true,
           "gridcolor": "#EBF0F8",
           "linecolor": "#EBF0F8",
           "ticks": "",
           "title": {
            "standoff": 15
           },
           "zerolinecolor": "#EBF0F8",
           "zerolinewidth": 2
          },
          "yaxis": {
           "automargin": true,
           "gridcolor": "#EBF0F8",
           "linecolor": "#EBF0F8",
           "ticks": "",
           "title": {
            "standoff": 15
           },
           "zerolinecolor": "#EBF0F8",
           "zerolinewidth": 2
          }
         }
        },
        "title": {
         "font": {
          "size": 35
         },
         "text": "Evolution of Subscribers over Time",
         "x": 0.5,
         "xanchor": "center",
         "y": 0.96
        },
        "width": 1200,
        "xaxis": {
         "anchor": "y",
         "domain": [
          0,
          1
         ],
         "showgrid": false,
         "tickfont": {
          "size": 20
         },
         "title": {
          "font": {
           "size": 20
          },
          "text": "month"
         }
        },
        "yaxis": {
         "anchor": "x",
         "domain": [
          0,
          1
         ],
         "showgrid": false,
         "tickfont": {
          "size": 15
         },
         "title": {
          "font": {
           "size": 20
          },
          "text": "Total Subscribers"
         }
        }
       }
      }
     },
     "metadata": {},
     "output_type": "display_data"
    }
   ],
   "source": [
    "fig = px.line(\n",
    "    subscribers,\n",
    "    x='month',\n",
    "    y=\"(All) Total Current Subscribers\",\n",
    "    title=\"Evolution of Subscribers over Time\",\n",
    "    labels={\"(All) Total Current Subscribers\": \"Total Subscribers\"}\n",
    ")\n",
    "\n",
    "fig.update_layout(\n",
    "    plot_bgcolor='white',  \n",
    "    paper_bgcolor='white',\n",
    "    title_font=dict(size=35),\n",
    "    title={'x':0.5, 'y':0.96, 'xanchor': 'center'},\n",
    "    height=800,  \n",
    "    width=1200, \n",
    ").update_xaxes(\n",
    "    title_font=dict(size=20),\n",
    "    tickfont_size=20,\n",
    "    showgrid=False \n",
    ").update_yaxes(\n",
    "    title_font=dict(size=20),\n",
    "    tickfont_size=15,\n",
    "    showgrid=False\n",
    ").add_annotation(\n",
    "    text=\"Change in slope due to increase in<br><b>conversion</b>, <b>retention</b> and <b>ad spend</b>\",\n",
    "    x=12,\n",
    "    y=491.468,\n",
    "    arrowhead=1,\n",
    "    yshift=10,\n",
    "    xanchor=\"right\",\n",
    "    showarrow=True,\n",
    "    font=dict(size=20),\n",
    "    arrowsize=2,\n",
    "    align=\"center\",\n",
    "    ax=-50,  \n",
    "    ay=-30\n",
    ")\n",
    "\n",
    "fig.add_annotation(\n",
    "    text=\"Projected subscriber growth over the first two years based on business model simulations,<br>with product improvements leading to increased retention and conversion rates.\",\n",
    "    xref=\"paper\", yref=\"paper\",\n",
    "    x=0.5, y=0.96,  \n",
    "    showarrow=False,\n",
    "    font=dict(size=20, color=\"grey\"),\n",
    "    xanchor='center', yanchor='bottom',\n",
    ")\n",
    "\n",
    "fig.update_layout(template='plotly_white') \n",
    "\n",
    "\n",
    "fig.show()"
   ]
  },
  {
   "cell_type": "code",
   "execution_count": 19,
   "metadata": {},
   "outputs": [],
   "source": [
    "\n",
    "def subscription_growth(time_frame, assumptions, retention_subscribers = 0):\n",
    "\n",
    "    subscribers = pd.DataFrame()\n",
    "\n",
    "    subscribers['month'] = range(0,time_frame)\n",
    "\n",
    "    if retention_subscribers == 0:\n",
    "        subscribers['MoM Retention (Subscribers)'] = subscribers.apply(apply_assumption, axis=1, args=(\"MoM Retention (Subscribers)\",))  \n",
    "    else:\n",
    "        subscribers['MoM Retention (Subscribers)'] = retention_subscribers\n",
    "\n",
    "    subscribers['Traffic -> User Conversion Rate'] = subscribers.apply(apply_assumption, axis=1, args=(\"Traffic -> User Conversion Rate\",))\n",
    "    subscribers['K-Factor (Users)'] = subscribers.apply(apply_assumption, axis=1, args=(\"K-Factor (Users)\",))\n",
    "    subscribers['Paid Traffic (Installs / Visitors)'] = subscribers.apply(apply_assumption, axis=1, args=(\"Cost of Paid Traffic\",))\n",
    "    subscribers['Marketing Spend / Month'] = subscribers.apply(apply_assumption, axis=1, args=(\"Marketing Spend / Month\",))\n",
    "    subscribers['MoM Retention (Users)'] = subscribers.apply(apply_assumption, axis=1, args=(\"MoM Retention (Users)\",))  \n",
    "    subscribers['K-Factor (Subscribers)'] = subscribers.apply(apply_assumption, axis=1, args=(\"K-Factor (Subscribers)\",))\n",
    "    subscribers['User -> Subscriber Conversion Rate'] = subscribers.apply(apply_assumption, axis=1, args=(\"User -> Subscriber Conversion Rate\",))\n",
    "\n",
    "    for i in subscribers['month']:\n",
    "\n",
    "        # ----------- Organic / Social Visitors --------------\n",
    "        if i == 0:\n",
    "            subscribers['Organic / Social Visitors'] = assumptions.loc[assumptions['ASSUMPTIONS'] == \"Starting Organic / Social Visitors\", 'YR1'].iloc[0]\n",
    "        elif i < 13:\n",
    "            subscribers.at[i, 'Organic / Social Visitors'] = subscribers.at[i-1, 'Organic / Social Visitors'] + assumptions.loc[assumptions['ASSUMPTIONS'] == \"Additive Social / Organic per Month\", 'YR1'].iloc[0]\n",
    "        else:\n",
    "            subscribers.at[i, 'Organic / Social Visitors'] = subscribers.at[i-1, 'Organic / Social Visitors'] + assumptions.loc[assumptions['ASSUMPTIONS'] == \"Additive Social / Organic per Month\", 'YR2'].iloc[0]\n",
    "        \n",
    "        subscribers['Cost / New User'] = subscribers['Paid Traffic (Installs / Visitors)'] / subscribers['Traffic -> User Conversion Rate']\n",
    "        subscribers['New Acquired Users (Paid)'] = subscribers['Marketing Spend / Month'] / subscribers['Cost / New User']\n",
    "\n",
    "        # ----------- Viral Acquired Visitors \n",
    "        if  i == 0:\n",
    "            subscribers[\"Viral Acquired Visitors\"] = 0\n",
    "        else:\n",
    "            subscribers.at[i,\"Viral Acquired Visitors\"] =  subscribers.at[i-1, '(All Channels) New Users'] * subscribers.at[i-1,'K-Factor (Users)'] + subscribers.at[i-1, '(All) Total Current Subscribers'] * subscribers.at[i-1,'K-Factor (Subscribers)']\n",
    "\n",
    "        # ----------- New Organic + Viral Visitors\n",
    "            \n",
    "        subscribers['New Organic + Viral Visitors'] = (subscribers[\"Viral Acquired Visitors\"] + subscribers['Organic / Social Visitors']) * subscribers['Traffic -> User Conversion Rate']\n",
    "\n",
    "        subscribers['(All Channels) New Users'] = subscribers['New Acquired Users (Paid)'] + subscribers['New Organic + Viral Visitors']\n",
    "\n",
    "        if  i == 0:\n",
    "            subscribers[\"(All Channels) Retained Users\"] = 0\n",
    "        else:\n",
    "            subscribers.at[i,\"(All Channels) Retained Users\"] =  subscribers.at[i-1, \"(All Channels) (New + Retained) Users\"] * subscribers.at[i-1,'MoM Retention (Users)'] - subscribers.at[i-1, \"(New) Subscribers\"] \n",
    "\n",
    "        if  i == 0:\n",
    "            subscribers[\"(All Channels) (New + Retained) Users\"] = subscribers['(All Channels) New Users'] + subscribers[\"(All Channels) Retained Users\"]\n",
    "        else:    \n",
    "            subscribers.at[i,\"(All Channels) (New + Retained) Users\"] = subscribers.at[i,'(All Channels) New Users'] + subscribers.at[i,\"(All Channels) Retained Users\"] - subscribers.at[i-1, \"(New) Subscribers\"]\n",
    "\n",
    "        subscribers['(New) Subscribers'] = subscribers['User -> Subscriber Conversion Rate'] * subscribers[\"(All Channels) (New + Retained) Users\"]\n",
    "\n",
    "        if  i == 0:\n",
    "            subscribers[\"(Retained) Subscribers\"] = 0\n",
    "        else:\n",
    "            subscribers.at[i,\"(Retained) Subscribers\"] =  subscribers.at[i-1, \"(New) Subscribers\"] * subscribers.at[i-1,'MoM Retention (Subscribers)']\n",
    "\n",
    "        subscribers[\"(All) Total Current Subscribers\"] = subscribers[\"(Retained) Subscribers\"] + subscribers['(New) Subscribers']\n",
    "\n",
    "        subscribers['(All Channels) Cumulative New Users'] = subscribers['(All Channels) New Users'].cumsum()\n",
    "\n",
    "    return subscribers"
   ]
  },
  {
   "cell_type": "code",
   "execution_count": 20,
   "metadata": {},
   "outputs": [
    {
     "name": "stderr",
     "output_type": "stream",
     "text": [
      "C:\\Users\\usuario\\AppData\\Local\\Temp\\ipykernel_11588\\2869945529.py:60: FutureWarning:\n",
      "\n",
      "Setting an item of incompatible dtype is deprecated and will raise an error in a future version of pandas. Value '37.5' has dtype incompatible with int64, please explicitly cast to a compatible dtype first.\n",
      "\n",
      "C:\\Users\\usuario\\AppData\\Local\\Temp\\ipykernel_11588\\2869945529.py:37: FutureWarning:\n",
      "\n",
      "Setting an item of incompatible dtype is deprecated and will raise an error in a future version of pandas. Value '455.9375' has dtype incompatible with int64, please explicitly cast to a compatible dtype first.\n",
      "\n",
      "C:\\Users\\usuario\\AppData\\Local\\Temp\\ipykernel_11588\\2869945529.py:48: FutureWarning:\n",
      "\n",
      "Setting an item of incompatible dtype is deprecated and will raise an error in a future version of pandas. Value '373.75' has dtype incompatible with int64, please explicitly cast to a compatible dtype first.\n",
      "\n",
      "C:\\Users\\usuario\\AppData\\Local\\Temp\\ipykernel_11588\\2869945529.py:60: FutureWarning:\n",
      "\n",
      "Setting an item of incompatible dtype is deprecated and will raise an error in a future version of pandas. Value '97.5' has dtype incompatible with int64, please explicitly cast to a compatible dtype first.\n",
      "\n",
      "C:\\Users\\usuario\\AppData\\Local\\Temp\\ipykernel_11588\\2869945529.py:37: FutureWarning:\n",
      "\n",
      "Setting an item of incompatible dtype is deprecated and will raise an error in a future version of pandas. Value '485.9375' has dtype incompatible with int64, please explicitly cast to a compatible dtype first.\n",
      "\n",
      "C:\\Users\\usuario\\AppData\\Local\\Temp\\ipykernel_11588\\2869945529.py:48: FutureWarning:\n",
      "\n",
      "Setting an item of incompatible dtype is deprecated and will raise an error in a future version of pandas. Value '373.75' has dtype incompatible with int64, please explicitly cast to a compatible dtype first.\n",
      "\n"
     ]
    },
    {
     "data": {
      "text/html": [
       "<div>\n",
       "<style scoped>\n",
       "    .dataframe tbody tr th:only-of-type {\n",
       "        vertical-align: middle;\n",
       "    }\n",
       "\n",
       "    .dataframe tbody tr th {\n",
       "        vertical-align: top;\n",
       "    }\n",
       "\n",
       "    .dataframe thead th {\n",
       "        text-align: right;\n",
       "    }\n",
       "</style>\n",
       "<table border=\"1\" class=\"dataframe\">\n",
       "  <thead>\n",
       "    <tr style=\"text-align: right;\">\n",
       "      <th></th>\n",
       "      <th>month</th>\n",
       "      <th>MoM Retention (Subscribers)</th>\n",
       "      <th>Traffic -&gt; User Conversion Rate</th>\n",
       "      <th>K-Factor (Users)</th>\n",
       "      <th>Paid Traffic (Installs / Visitors)</th>\n",
       "      <th>Marketing Spend / Month</th>\n",
       "      <th>MoM Retention (Users)</th>\n",
       "      <th>K-Factor (Subscribers)</th>\n",
       "      <th>User -&gt; Subscriber Conversion Rate</th>\n",
       "      <th>Organic / Social Visitors</th>\n",
       "      <th>...</th>\n",
       "      <th>New Acquired Users (Paid)</th>\n",
       "      <th>Viral Acquired Visitors</th>\n",
       "      <th>New Organic + Viral Visitors</th>\n",
       "      <th>(All Channels) New Users</th>\n",
       "      <th>(All Channels) Retained Users</th>\n",
       "      <th>(All Channels) (New + Retained) Users</th>\n",
       "      <th>(New) Subscribers</th>\n",
       "      <th>(Retained) Subscribers</th>\n",
       "      <th>(All) Total Current Subscribers</th>\n",
       "      <th>(All Channels) Cumulative New Users</th>\n",
       "    </tr>\n",
       "  </thead>\n",
       "  <tbody>\n",
       "    <tr>\n",
       "      <th>0</th>\n",
       "      <td>0</td>\n",
       "      <td>0.65</td>\n",
       "      <td>0.25</td>\n",
       "      <td>0.2</td>\n",
       "      <td>2.0</td>\n",
       "      <td>10000</td>\n",
       "      <td>0.3</td>\n",
       "      <td>0.5</td>\n",
       "      <td>0.1</td>\n",
       "      <td>1000</td>\n",
       "      <td>...</td>\n",
       "      <td>1250.0</td>\n",
       "      <td>0.000000</td>\n",
       "      <td>250.000000</td>\n",
       "      <td>1500.000000</td>\n",
       "      <td>0.000000</td>\n",
       "      <td>1500.000000</td>\n",
       "      <td>150.000000</td>\n",
       "      <td>0.000000</td>\n",
       "      <td>150.000000</td>\n",
       "      <td>1500.000000</td>\n",
       "    </tr>\n",
       "    <tr>\n",
       "      <th>1</th>\n",
       "      <td>1</td>\n",
       "      <td>0.65</td>\n",
       "      <td>0.25</td>\n",
       "      <td>0.2</td>\n",
       "      <td>2.0</td>\n",
       "      <td>10000</td>\n",
       "      <td>0.3</td>\n",
       "      <td>0.5</td>\n",
       "      <td>0.1</td>\n",
       "      <td>1500</td>\n",
       "      <td>...</td>\n",
       "      <td>1250.0</td>\n",
       "      <td>375.000000</td>\n",
       "      <td>468.750000</td>\n",
       "      <td>1718.750000</td>\n",
       "      <td>300.000000</td>\n",
       "      <td>1868.750000</td>\n",
       "      <td>186.875000</td>\n",
       "      <td>97.500000</td>\n",
       "      <td>284.375000</td>\n",
       "      <td>3218.750000</td>\n",
       "    </tr>\n",
       "    <tr>\n",
       "      <th>2</th>\n",
       "      <td>2</td>\n",
       "      <td>0.65</td>\n",
       "      <td>0.25</td>\n",
       "      <td>0.2</td>\n",
       "      <td>2.0</td>\n",
       "      <td>10000</td>\n",
       "      <td>0.3</td>\n",
       "      <td>0.5</td>\n",
       "      <td>0.1</td>\n",
       "      <td>2000</td>\n",
       "      <td>...</td>\n",
       "      <td>1250.0</td>\n",
       "      <td>485.937500</td>\n",
       "      <td>621.484375</td>\n",
       "      <td>1871.484375</td>\n",
       "      <td>373.750000</td>\n",
       "      <td>2058.359375</td>\n",
       "      <td>205.835938</td>\n",
       "      <td>121.468750</td>\n",
       "      <td>327.304688</td>\n",
       "      <td>5090.234375</td>\n",
       "    </tr>\n",
       "    <tr>\n",
       "      <th>3</th>\n",
       "      <td>3</td>\n",
       "      <td>0.65</td>\n",
       "      <td>0.25</td>\n",
       "      <td>0.2</td>\n",
       "      <td>2.0</td>\n",
       "      <td>10000</td>\n",
       "      <td>0.3</td>\n",
       "      <td>0.5</td>\n",
       "      <td>0.1</td>\n",
       "      <td>2500</td>\n",
       "      <td>...</td>\n",
       "      <td>1250.0</td>\n",
       "      <td>537.949219</td>\n",
       "      <td>759.487305</td>\n",
       "      <td>2009.487305</td>\n",
       "      <td>411.671875</td>\n",
       "      <td>2215.323242</td>\n",
       "      <td>221.532324</td>\n",
       "      <td>133.793359</td>\n",
       "      <td>355.325684</td>\n",
       "      <td>7099.721680</td>\n",
       "    </tr>\n",
       "    <tr>\n",
       "      <th>4</th>\n",
       "      <td>4</td>\n",
       "      <td>0.65</td>\n",
       "      <td>0.25</td>\n",
       "      <td>0.2</td>\n",
       "      <td>2.0</td>\n",
       "      <td>10000</td>\n",
       "      <td>0.3</td>\n",
       "      <td>0.5</td>\n",
       "      <td>0.1</td>\n",
       "      <td>3000</td>\n",
       "      <td>...</td>\n",
       "      <td>1250.0</td>\n",
       "      <td>579.560303</td>\n",
       "      <td>894.890076</td>\n",
       "      <td>2144.890076</td>\n",
       "      <td>443.064648</td>\n",
       "      <td>2366.422400</td>\n",
       "      <td>236.642240</td>\n",
       "      <td>143.996011</td>\n",
       "      <td>380.638251</td>\n",
       "      <td>9244.611755</td>\n",
       "    </tr>\n",
       "  </tbody>\n",
       "</table>\n",
       "<p>5 rows × 21 columns</p>\n",
       "</div>"
      ],
      "text/plain": [
       "   month  MoM Retention (Subscribers)  Traffic -> User Conversion Rate  \\\n",
       "0      0                         0.65                             0.25   \n",
       "1      1                         0.65                             0.25   \n",
       "2      2                         0.65                             0.25   \n",
       "3      3                         0.65                             0.25   \n",
       "4      4                         0.65                             0.25   \n",
       "\n",
       "   K-Factor (Users)  Paid Traffic (Installs / Visitors)  \\\n",
       "0               0.2                                 2.0   \n",
       "1               0.2                                 2.0   \n",
       "2               0.2                                 2.0   \n",
       "3               0.2                                 2.0   \n",
       "4               0.2                                 2.0   \n",
       "\n",
       "   Marketing Spend / Month  MoM Retention (Users)  K-Factor (Subscribers)  \\\n",
       "0                    10000                    0.3                     0.5   \n",
       "1                    10000                    0.3                     0.5   \n",
       "2                    10000                    0.3                     0.5   \n",
       "3                    10000                    0.3                     0.5   \n",
       "4                    10000                    0.3                     0.5   \n",
       "\n",
       "   User -> Subscriber Conversion Rate  Organic / Social Visitors  ...  \\\n",
       "0                                 0.1                       1000  ...   \n",
       "1                                 0.1                       1500  ...   \n",
       "2                                 0.1                       2000  ...   \n",
       "3                                 0.1                       2500  ...   \n",
       "4                                 0.1                       3000  ...   \n",
       "\n",
       "   New Acquired Users (Paid)  Viral Acquired Visitors  \\\n",
       "0                     1250.0                 0.000000   \n",
       "1                     1250.0               375.000000   \n",
       "2                     1250.0               485.937500   \n",
       "3                     1250.0               537.949219   \n",
       "4                     1250.0               579.560303   \n",
       "\n",
       "   New Organic + Viral Visitors  (All Channels) New Users  \\\n",
       "0                    250.000000               1500.000000   \n",
       "1                    468.750000               1718.750000   \n",
       "2                    621.484375               1871.484375   \n",
       "3                    759.487305               2009.487305   \n",
       "4                    894.890076               2144.890076   \n",
       "\n",
       "   (All Channels) Retained Users  (All Channels) (New + Retained) Users  \\\n",
       "0                       0.000000                            1500.000000   \n",
       "1                     300.000000                            1868.750000   \n",
       "2                     373.750000                            2058.359375   \n",
       "3                     411.671875                            2215.323242   \n",
       "4                     443.064648                            2366.422400   \n",
       "\n",
       "   (New) Subscribers  (Retained) Subscribers  (All) Total Current Subscribers  \\\n",
       "0         150.000000                0.000000                       150.000000   \n",
       "1         186.875000               97.500000                       284.375000   \n",
       "2         205.835938              121.468750                       327.304688   \n",
       "3         221.532324              133.793359                       355.325684   \n",
       "4         236.642240              143.996011                       380.638251   \n",
       "\n",
       "   (All Channels) Cumulative New Users  \n",
       "0                          1500.000000  \n",
       "1                          3218.750000  \n",
       "2                          5090.234375  \n",
       "3                          7099.721680  \n",
       "4                          9244.611755  \n",
       "\n",
       "[5 rows x 21 columns]"
      ]
     },
     "execution_count": 20,
     "metadata": {},
     "output_type": "execute_result"
    }
   ],
   "source": [
    "subscription25 = subscription_growth(time_frame = 24, assumptions = assumptions, retention_subscribers = 0.25)\n",
    "subscription65 = subscription_growth(time_frame = 24, assumptions = assumptions, retention_subscribers = 0.65)\n",
    "subscription65.head()"
   ]
  },
  {
   "cell_type": "code",
   "execution_count": 21,
   "metadata": {},
   "outputs": [
    {
     "data": {
      "application/vnd.plotly.v1+json": {
       "config": {
        "plotlyServerURL": "https://plot.ly"
       },
       "data": [
        {
         "hovertemplate": "Month=%{x}<br>Total Subscribers=%{y}<extra></extra>",
         "legendgroup": "",
         "line": {
          "color": "#636efa",
          "dash": "solid"
         },
         "marker": {
          "symbol": "circle"
         },
         "mode": "lines",
         "name": "",
         "orientation": "v",
         "showlegend": false,
         "type": "scatter",
         "x": [
          0,
          1,
          2,
          3,
          4,
          5,
          6,
          7,
          8,
          9,
          10,
          11,
          12,
          13,
          14,
          15,
          16,
          17,
          18,
          19,
          20,
          21,
          22,
          23,
          24
         ],
         "xaxis": "x",
         "y": [
          150,
          246.875,
          280.1171875,
          303.01904296875,
          324.2405944824219,
          345.1890966033935,
          366.0932281980514,
          386.99014958218334,
          407.8858993071048,
          428.78145863740457,
          449.67698702857825,
          470.572510392144,
          491.4680329387234,
          1045.3948540818835,
          1701.1560397616463,
          1991.9760453183244,
          2167.6223795394935,
          2301.081281553595,
          2419.3708307363095,
          2532.1989598306454,
          2643.0609890198925,
          2753.21522196014,
          2863.114648257825,
          2972.9223441640124,
          3082.6970171292646
         ],
         "yaxis": "y"
        },
        {
         "line": {
          "width": 0
         },
         "mode": "lines",
         "showlegend": false,
         "type": "scatter",
         "x": [
          0,
          1,
          2,
          3,
          4,
          5,
          6,
          7,
          8,
          9,
          10,
          11,
          12,
          13,
          14,
          15,
          16,
          17,
          18,
          19,
          20,
          21,
          22,
          23
         ],
         "y": [
          150,
          224.375,
          251.8046875,
          271.74755859375,
          290.56184448242186,
          309.20677305603033,
          327.8262971632004,
          346.4420105895401,
          365.0571524136193,
          383.6722084973577,
          402.28725172004516,
          420.90229301357476,
          439.5173340177308,
          990.5820519940485,
          1381.8335477615976,
          1570.3767259571673,
          1686.7488267482604,
          1780.7108140604564,
          1867.6525681297023,
          1952.3938123285423,
          2036.445272295186,
          2120.28050798567,
          2204.047964587207,
          2287.7941747078107
         ]
        },
        {
         "fill": "tonexty",
         "fillcolor": "rgba(173, 216, 230, 0.5)",
         "line": {
          "width": 0
         },
         "mode": "lines",
         "showlegend": false,
         "type": "scatter",
         "x": [
          0,
          1,
          2,
          3,
          4,
          5,
          6,
          7,
          8,
          9,
          10,
          11,
          12,
          13,
          14,
          15,
          16,
          17,
          18,
          19,
          20,
          21,
          22,
          23
         ],
         "y": [
          150,
          284.375,
          327.3046875,
          355.32568359375,
          380.6382507324219,
          405.4641085052491,
          430.2024121656418,
          454.9249673159957,
          479.6446897268669,
          504.3639026034784,
          529.0830238284617,
          553.802128567761,
          578.5212303417252,
          1137.2462441319121,
          1752.5404099766797,
          2056.6878804644807,
          2238.7065195678383,
          2377.354422710451,
          2500.0991799531394,
          2617.0284625397944,
          2731.8306507253037,
          2845.8548381965493,
          2959.594465616504,
          3073.23001291124
         ]
        }
       ],
       "layout": {
        "annotations": [
         {
          "align": "center",
          "arrowhead": 1,
          "arrowsize": 2,
          "ax": -50,
          "ay": -30,
          "font": {
           "size": 20
          },
          "showarrow": true,
          "text": "Change in slope due to increase in<br><b>conversion</b>, <b>retention</b> and <b>ad spend</b>",
          "x": 12,
          "xanchor": "right",
          "y": 491.4680329387234,
          "yshift": 10
         },
         {
          "font": {
           "color": "grey",
           "size": 20
          },
          "showarrow": false,
          "text": "Projected subscriber growth over the first two years based on business model simulations,<br>with product improvements leading to increased retention and conversion rates.",
          "x": 0.5,
          "xanchor": "center",
          "xref": "paper",
          "y": 0.96,
          "yanchor": "bottom",
          "yref": "paper"
         },
         {
          "align": "center",
          "arrowhead": 1,
          "arrowsize": 2,
          "ax": -50,
          "ay": -30,
          "font": {
           "size": 20
          },
          "showarrow": true,
          "text": "The area represent all the posible growth<br>based on the different retentions present<br>in the industry: <b>25 %</b> to <b>65 %</b> based on research.",
          "x": 18,
          "xanchor": "right",
          "y": 2500,
          "yshift": 10
         }
        ],
        "height": 800,
        "legend": {
         "tracegroupgap": 0
        },
        "paper_bgcolor": "white",
        "plot_bgcolor": "white",
        "showlegend": false,
        "template": {
         "data": {
          "bar": [
           {
            "error_x": {
             "color": "#2a3f5f"
            },
            "error_y": {
             "color": "#2a3f5f"
            },
            "marker": {
             "line": {
              "color": "#E5ECF6",
              "width": 0.5
             },
             "pattern": {
              "fillmode": "overlay",
              "size": 10,
              "solidity": 0.2
             }
            },
            "type": "bar"
           }
          ],
          "barpolar": [
           {
            "marker": {
             "line": {
              "color": "#E5ECF6",
              "width": 0.5
             },
             "pattern": {
              "fillmode": "overlay",
              "size": 10,
              "solidity": 0.2
             }
            },
            "type": "barpolar"
           }
          ],
          "carpet": [
           {
            "aaxis": {
             "endlinecolor": "#2a3f5f",
             "gridcolor": "white",
             "linecolor": "white",
             "minorgridcolor": "white",
             "startlinecolor": "#2a3f5f"
            },
            "baxis": {
             "endlinecolor": "#2a3f5f",
             "gridcolor": "white",
             "linecolor": "white",
             "minorgridcolor": "white",
             "startlinecolor": "#2a3f5f"
            },
            "type": "carpet"
           }
          ],
          "choropleth": [
           {
            "colorbar": {
             "outlinewidth": 0,
             "ticks": ""
            },
            "type": "choropleth"
           }
          ],
          "contour": [
           {
            "colorbar": {
             "outlinewidth": 0,
             "ticks": ""
            },
            "colorscale": [
             [
              0,
              "#0d0887"
             ],
             [
              0.1111111111111111,
              "#46039f"
             ],
             [
              0.2222222222222222,
              "#7201a8"
             ],
             [
              0.3333333333333333,
              "#9c179e"
             ],
             [
              0.4444444444444444,
              "#bd3786"
             ],
             [
              0.5555555555555556,
              "#d8576b"
             ],
             [
              0.6666666666666666,
              "#ed7953"
             ],
             [
              0.7777777777777778,
              "#fb9f3a"
             ],
             [
              0.8888888888888888,
              "#fdca26"
             ],
             [
              1,
              "#f0f921"
             ]
            ],
            "type": "contour"
           }
          ],
          "contourcarpet": [
           {
            "colorbar": {
             "outlinewidth": 0,
             "ticks": ""
            },
            "type": "contourcarpet"
           }
          ],
          "heatmap": [
           {
            "colorbar": {
             "outlinewidth": 0,
             "ticks": ""
            },
            "colorscale": [
             [
              0,
              "#0d0887"
             ],
             [
              0.1111111111111111,
              "#46039f"
             ],
             [
              0.2222222222222222,
              "#7201a8"
             ],
             [
              0.3333333333333333,
              "#9c179e"
             ],
             [
              0.4444444444444444,
              "#bd3786"
             ],
             [
              0.5555555555555556,
              "#d8576b"
             ],
             [
              0.6666666666666666,
              "#ed7953"
             ],
             [
              0.7777777777777778,
              "#fb9f3a"
             ],
             [
              0.8888888888888888,
              "#fdca26"
             ],
             [
              1,
              "#f0f921"
             ]
            ],
            "type": "heatmap"
           }
          ],
          "heatmapgl": [
           {
            "colorbar": {
             "outlinewidth": 0,
             "ticks": ""
            },
            "colorscale": [
             [
              0,
              "#0d0887"
             ],
             [
              0.1111111111111111,
              "#46039f"
             ],
             [
              0.2222222222222222,
              "#7201a8"
             ],
             [
              0.3333333333333333,
              "#9c179e"
             ],
             [
              0.4444444444444444,
              "#bd3786"
             ],
             [
              0.5555555555555556,
              "#d8576b"
             ],
             [
              0.6666666666666666,
              "#ed7953"
             ],
             [
              0.7777777777777778,
              "#fb9f3a"
             ],
             [
              0.8888888888888888,
              "#fdca26"
             ],
             [
              1,
              "#f0f921"
             ]
            ],
            "type": "heatmapgl"
           }
          ],
          "histogram": [
           {
            "marker": {
             "pattern": {
              "fillmode": "overlay",
              "size": 10,
              "solidity": 0.2
             }
            },
            "type": "histogram"
           }
          ],
          "histogram2d": [
           {
            "colorbar": {
             "outlinewidth": 0,
             "ticks": ""
            },
            "colorscale": [
             [
              0,
              "#0d0887"
             ],
             [
              0.1111111111111111,
              "#46039f"
             ],
             [
              0.2222222222222222,
              "#7201a8"
             ],
             [
              0.3333333333333333,
              "#9c179e"
             ],
             [
              0.4444444444444444,
              "#bd3786"
             ],
             [
              0.5555555555555556,
              "#d8576b"
             ],
             [
              0.6666666666666666,
              "#ed7953"
             ],
             [
              0.7777777777777778,
              "#fb9f3a"
             ],
             [
              0.8888888888888888,
              "#fdca26"
             ],
             [
              1,
              "#f0f921"
             ]
            ],
            "type": "histogram2d"
           }
          ],
          "histogram2dcontour": [
           {
            "colorbar": {
             "outlinewidth": 0,
             "ticks": ""
            },
            "colorscale": [
             [
              0,
              "#0d0887"
             ],
             [
              0.1111111111111111,
              "#46039f"
             ],
             [
              0.2222222222222222,
              "#7201a8"
             ],
             [
              0.3333333333333333,
              "#9c179e"
             ],
             [
              0.4444444444444444,
              "#bd3786"
             ],
             [
              0.5555555555555556,
              "#d8576b"
             ],
             [
              0.6666666666666666,
              "#ed7953"
             ],
             [
              0.7777777777777778,
              "#fb9f3a"
             ],
             [
              0.8888888888888888,
              "#fdca26"
             ],
             [
              1,
              "#f0f921"
             ]
            ],
            "type": "histogram2dcontour"
           }
          ],
          "mesh3d": [
           {
            "colorbar": {
             "outlinewidth": 0,
             "ticks": ""
            },
            "type": "mesh3d"
           }
          ],
          "parcoords": [
           {
            "line": {
             "colorbar": {
              "outlinewidth": 0,
              "ticks": ""
             }
            },
            "type": "parcoords"
           }
          ],
          "pie": [
           {
            "automargin": true,
            "type": "pie"
           }
          ],
          "scatter": [
           {
            "fillpattern": {
             "fillmode": "overlay",
             "size": 10,
             "solidity": 0.2
            },
            "type": "scatter"
           }
          ],
          "scatter3d": [
           {
            "line": {
             "colorbar": {
              "outlinewidth": 0,
              "ticks": ""
             }
            },
            "marker": {
             "colorbar": {
              "outlinewidth": 0,
              "ticks": ""
             }
            },
            "type": "scatter3d"
           }
          ],
          "scattercarpet": [
           {
            "marker": {
             "colorbar": {
              "outlinewidth": 0,
              "ticks": ""
             }
            },
            "type": "scattercarpet"
           }
          ],
          "scattergeo": [
           {
            "marker": {
             "colorbar": {
              "outlinewidth": 0,
              "ticks": ""
             }
            },
            "type": "scattergeo"
           }
          ],
          "scattergl": [
           {
            "marker": {
             "colorbar": {
              "outlinewidth": 0,
              "ticks": ""
             }
            },
            "type": "scattergl"
           }
          ],
          "scattermapbox": [
           {
            "marker": {
             "colorbar": {
              "outlinewidth": 0,
              "ticks": ""
             }
            },
            "type": "scattermapbox"
           }
          ],
          "scatterpolar": [
           {
            "marker": {
             "colorbar": {
              "outlinewidth": 0,
              "ticks": ""
             }
            },
            "type": "scatterpolar"
           }
          ],
          "scatterpolargl": [
           {
            "marker": {
             "colorbar": {
              "outlinewidth": 0,
              "ticks": ""
             }
            },
            "type": "scatterpolargl"
           }
          ],
          "scatterternary": [
           {
            "marker": {
             "colorbar": {
              "outlinewidth": 0,
              "ticks": ""
             }
            },
            "type": "scatterternary"
           }
          ],
          "surface": [
           {
            "colorbar": {
             "outlinewidth": 0,
             "ticks": ""
            },
            "colorscale": [
             [
              0,
              "#0d0887"
             ],
             [
              0.1111111111111111,
              "#46039f"
             ],
             [
              0.2222222222222222,
              "#7201a8"
             ],
             [
              0.3333333333333333,
              "#9c179e"
             ],
             [
              0.4444444444444444,
              "#bd3786"
             ],
             [
              0.5555555555555556,
              "#d8576b"
             ],
             [
              0.6666666666666666,
              "#ed7953"
             ],
             [
              0.7777777777777778,
              "#fb9f3a"
             ],
             [
              0.8888888888888888,
              "#fdca26"
             ],
             [
              1,
              "#f0f921"
             ]
            ],
            "type": "surface"
           }
          ],
          "table": [
           {
            "cells": {
             "fill": {
              "color": "#EBF0F8"
             },
             "line": {
              "color": "white"
             }
            },
            "header": {
             "fill": {
              "color": "#C8D4E3"
             },
             "line": {
              "color": "white"
             }
            },
            "type": "table"
           }
          ]
         },
         "layout": {
          "annotationdefaults": {
           "arrowcolor": "#2a3f5f",
           "arrowhead": 0,
           "arrowwidth": 1
          },
          "autotypenumbers": "strict",
          "coloraxis": {
           "colorbar": {
            "outlinewidth": 0,
            "ticks": ""
           }
          },
          "colorscale": {
           "diverging": [
            [
             0,
             "#8e0152"
            ],
            [
             0.1,
             "#c51b7d"
            ],
            [
             0.2,
             "#de77ae"
            ],
            [
             0.3,
             "#f1b6da"
            ],
            [
             0.4,
             "#fde0ef"
            ],
            [
             0.5,
             "#f7f7f7"
            ],
            [
             0.6,
             "#e6f5d0"
            ],
            [
             0.7,
             "#b8e186"
            ],
            [
             0.8,
             "#7fbc41"
            ],
            [
             0.9,
             "#4d9221"
            ],
            [
             1,
             "#276419"
            ]
           ],
           "sequential": [
            [
             0,
             "#0d0887"
            ],
            [
             0.1111111111111111,
             "#46039f"
            ],
            [
             0.2222222222222222,
             "#7201a8"
            ],
            [
             0.3333333333333333,
             "#9c179e"
            ],
            [
             0.4444444444444444,
             "#bd3786"
            ],
            [
             0.5555555555555556,
             "#d8576b"
            ],
            [
             0.6666666666666666,
             "#ed7953"
            ],
            [
             0.7777777777777778,
             "#fb9f3a"
            ],
            [
             0.8888888888888888,
             "#fdca26"
            ],
            [
             1,
             "#f0f921"
            ]
           ],
           "sequentialminus": [
            [
             0,
             "#0d0887"
            ],
            [
             0.1111111111111111,
             "#46039f"
            ],
            [
             0.2222222222222222,
             "#7201a8"
            ],
            [
             0.3333333333333333,
             "#9c179e"
            ],
            [
             0.4444444444444444,
             "#bd3786"
            ],
            [
             0.5555555555555556,
             "#d8576b"
            ],
            [
             0.6666666666666666,
             "#ed7953"
            ],
            [
             0.7777777777777778,
             "#fb9f3a"
            ],
            [
             0.8888888888888888,
             "#fdca26"
            ],
            [
             1,
             "#f0f921"
            ]
           ]
          },
          "colorway": [
           "#636efa",
           "#EF553B",
           "#00cc96",
           "#ab63fa",
           "#FFA15A",
           "#19d3f3",
           "#FF6692",
           "#B6E880",
           "#FF97FF",
           "#FECB52"
          ],
          "font": {
           "color": "#2a3f5f"
          },
          "geo": {
           "bgcolor": "white",
           "lakecolor": "white",
           "landcolor": "#E5ECF6",
           "showlakes": true,
           "showland": true,
           "subunitcolor": "white"
          },
          "hoverlabel": {
           "align": "left"
          },
          "hovermode": "closest",
          "mapbox": {
           "style": "light"
          },
          "paper_bgcolor": "white",
          "plot_bgcolor": "#E5ECF6",
          "polar": {
           "angularaxis": {
            "gridcolor": "white",
            "linecolor": "white",
            "ticks": ""
           },
           "bgcolor": "#E5ECF6",
           "radialaxis": {
            "gridcolor": "white",
            "linecolor": "white",
            "ticks": ""
           }
          },
          "scene": {
           "xaxis": {
            "backgroundcolor": "#E5ECF6",
            "gridcolor": "white",
            "gridwidth": 2,
            "linecolor": "white",
            "showbackground": true,
            "ticks": "",
            "zerolinecolor": "white"
           },
           "yaxis": {
            "backgroundcolor": "#E5ECF6",
            "gridcolor": "white",
            "gridwidth": 2,
            "linecolor": "white",
            "showbackground": true,
            "ticks": "",
            "zerolinecolor": "white"
           },
           "zaxis": {
            "backgroundcolor": "#E5ECF6",
            "gridcolor": "white",
            "gridwidth": 2,
            "linecolor": "white",
            "showbackground": true,
            "ticks": "",
            "zerolinecolor": "white"
           }
          },
          "shapedefaults": {
           "line": {
            "color": "#2a3f5f"
           }
          },
          "ternary": {
           "aaxis": {
            "gridcolor": "white",
            "linecolor": "white",
            "ticks": ""
           },
           "baxis": {
            "gridcolor": "white",
            "linecolor": "white",
            "ticks": ""
           },
           "bgcolor": "#E5ECF6",
           "caxis": {
            "gridcolor": "white",
            "linecolor": "white",
            "ticks": ""
           }
          },
          "title": {
           "x": 0.05
          },
          "xaxis": {
           "automargin": true,
           "gridcolor": "white",
           "linecolor": "white",
           "ticks": "",
           "title": {
            "standoff": 15
           },
           "zerolinecolor": "white",
           "zerolinewidth": 2
          },
          "yaxis": {
           "automargin": true,
           "gridcolor": "white",
           "linecolor": "white",
           "ticks": "",
           "title": {
            "standoff": 15
           },
           "zerolinecolor": "white",
           "zerolinewidth": 2
          }
         }
        },
        "title": {
         "font": {
          "size": 35
         },
         "text": "Evolution of Subscribers over Time",
         "x": 0.5,
         "xanchor": "center",
         "y": 0.96
        },
        "width": 1200,
        "xaxis": {
         "anchor": "y",
         "domain": [
          0,
          1
         ],
         "showgrid": false,
         "tickfont": {
          "size": 20
         },
         "title": {
          "font": {
           "size": 20
          },
          "text": "Month"
         }
        },
        "yaxis": {
         "anchor": "x",
         "domain": [
          0,
          1
         ],
         "showgrid": false,
         "tickfont": {
          "size": 15
         },
         "title": {
          "font": {
           "size": 20
          },
          "text": "Total Subscribers"
         }
        }
       }
      }
     },
     "metadata": {},
     "output_type": "display_data"
    }
   ],
   "source": [
    "import plotly.graph_objects as go\n",
    "\n",
    "\n",
    "fig = px.line(\n",
    "    subscribers,\n",
    "    x='month',\n",
    "    y=\"(All) Total Current Subscribers\",\n",
    "    title=\"Evolution of Subscribers over Time\",\n",
    "    labels={\n",
    "        \"(All) Total Current Subscribers\": \"Total Subscribers\",\n",
    "        \"month\": \"Month\"}\n",
    ")\n",
    "\n",
    "fig.update_layout(\n",
    "    plot_bgcolor='white',  \n",
    "    paper_bgcolor='white',\n",
    "    title_font=dict(size=35),\n",
    "    title={'x':0.5, 'y':0.96, 'xanchor': 'center'},\n",
    "    height=800,  \n",
    "    width=1200,\n",
    "    showlegend=False \n",
    ").update_xaxes(\n",
    "    title_font=dict(size=20),\n",
    "    tickfont_size=20,\n",
    "    showgrid=False \n",
    ").update_yaxes(\n",
    "    title_font=dict(size=20),\n",
    "    tickfont_size=15,\n",
    "    showgrid=False\n",
    ").add_annotation(\n",
    "    text=\"Change in slope due to increase in<br><b>conversion</b>, <b>retention</b> and <b>ad spend</b>\",\n",
    "    x=12,\n",
    "    y=subscribers.loc[12, \"(All) Total Current Subscribers\"],\n",
    "    arrowhead=1,\n",
    "    yshift=10,\n",
    "    xanchor=\"right\",\n",
    "    showarrow=True,\n",
    "    font=dict(size=20),\n",
    "    arrowsize=2,\n",
    "    align=\"center\",\n",
    "    ax=-50,  \n",
    "    ay=-30\n",
    ")\n",
    "\n",
    "fig.add_annotation(\n",
    "    text=\"Projected subscriber growth over the first two years based on business model simulations,<br>with product improvements leading to increased retention and conversion rates.\",\n",
    "    xref=\"paper\", yref=\"paper\",\n",
    "    x=0.5, y=0.96,  \n",
    "    showarrow=False,\n",
    "    font=dict(size=20, color=\"grey\"),\n",
    "    xanchor='center', yanchor='bottom',\n",
    ")\n",
    "\n",
    "#fig.update_layout(template='plotly_white') \n",
    "\n",
    "# Agrega la línea para el límite inferior de la incertidumbre\n",
    "fig.add_trace(go.Scatter(\n",
    "    x=subscription25['month'],\n",
    "    y=subscription25['(All) Total Current Subscribers'],\n",
    "    mode='lines',\n",
    "    line=dict(width=0),\n",
    "    showlegend=False\n",
    "))\n",
    "\n",
    "# Agrega la línea para el límite superior de la incertidumbre\n",
    "fig.add_trace(go.Scatter(\n",
    "    x=subscription65['month'],\n",
    "    y=subscription65['(All) Total Current Subscribers'],\n",
    "    mode='lines',\n",
    "    fill='tonexty',  # Esto rellena el área entre la línea superior y la línea inferior\n",
    "    fillcolor='rgba(173, 216, 230, 0.5)',  # Un color azul claro con transparencia\n",
    "    line=dict(width=0),\n",
    "    showlegend=False\n",
    "))\n",
    "\n",
    "fig.add_annotation(\n",
    "    text=\"The area represent all the posible growth<br>\"\n",
    "         \"based on the different retentions present<br>\"\n",
    "         \"in the industry: <b>25 %</b> to <b>65 %</b> based on research.\",\n",
    "    x=18,\n",
    "    y=2500,\n",
    "    arrowhead=1,\n",
    "    yshift=10,\n",
    "    xanchor=\"right\",\n",
    "    showarrow=True,\n",
    "    font=dict(size=20),\n",
    "    arrowsize=2,\n",
    "    align=\"center\",\n",
    "    ax=-50,  \n",
    "    ay=-30\n",
    ")\n",
    "\n",
    "fig.show()"
   ]
  },
  {
   "cell_type": "code",
   "execution_count": 22,
   "metadata": {},
   "outputs": [],
   "source": [
    "subscribers.to_csv('subscription_simulation_data.csv')"
   ]
  },
  {
   "cell_type": "code",
   "execution_count": 23,
   "metadata": {},
   "outputs": [
    {
     "data": {
      "application/vnd.plotly.v1+json": {
       "config": {
        "plotlyServerURL": "https://plot.ly"
       },
       "data": [
        {
         "hovertemplate": "Marketing Spend / Month=%{x}<br>(New) Subscribers=%{y}<extra></extra>",
         "legendgroup": "",
         "marker": {
          "color": "#636efa",
          "symbol": "circle"
         },
         "mode": "markers",
         "name": "",
         "orientation": "v",
         "showlegend": false,
         "type": "scatter",
         "x": [
          10000,
          10000,
          10000,
          10000,
          10000,
          10000,
          10000,
          10000,
          10000,
          10000,
          10000,
          10000,
          10000,
          25000,
          25000,
          25000,
          25000,
          25000,
          25000,
          25000,
          25000,
          25000,
          25000,
          25000,
          25000
         ],
         "xaxis": "x",
         "y": [
          150,
          186.875,
          205.3671875,
          220.87216796875,
          235.8917272949219,
          250.8324056854248,
          265.7602659238815,
          280.68604321263075,
          295.6114820220525,
          310.5368658285836,
          325.4622406971448,
          340.3876141132861,
          355.312987293409,
          903.2696591645199,
          1159.1942442629345,
          1296.4594987605637,
          1389.7466802831555,
          1467.233273383702,
          1539.0308667060883,
          1608.7804398069925,
          1677.792725135697,
          1746.5395868787216,
          1815.1908961305924,
          1883.807806485657,
          1952.4123332378704
         ],
         "yaxis": "y"
        },
        {
         "hovertemplate": "<b>OLS trendline</b><br>(New) Subscribers = 0.0848845 * Marketing Spend / Month + -585.492<br>R<sup>2</sup>=0.900766<br><br>Marketing Spend / Month=%{x}<br>(New) Subscribers=%{y} <b>(trend)</b><extra></extra>",
         "legendgroup": "",
         "marker": {
          "color": "#636efa",
          "symbol": "circle"
         },
         "mode": "lines",
         "name": "",
         "showlegend": false,
         "type": "scatter",
         "x": [
          10000,
          10000,
          10000,
          10000,
          10000,
          10000,
          10000,
          10000,
          10000,
          10000,
          10000,
          10000,
          10000,
          25000,
          25000,
          25000,
          25000,
          25000,
          25000,
          25000,
          25000,
          25000,
          25000,
          25000,
          25000
         ],
         "xaxis": "x",
         "y": [
          263.35353750308343,
          263.35353750308343,
          263.35353750308343,
          263.35353750308343,
          263.35353750308343,
          263.35353750308343,
          263.35353750308343,
          263.35353750308343,
          263.35353750308343,
          263.35353750308343,
          263.35353750308343,
          263.35353750308343,
          263.35353750308343,
          1536.6215008530412,
          1536.6215008530412,
          1536.6215008530412,
          1536.6215008530412,
          1536.6215008530412,
          1536.6215008530412,
          1536.6215008530412,
          1536.6215008530412,
          1536.6215008530412,
          1536.6215008530412,
          1536.6215008530412,
          1536.6215008530412
         ],
         "yaxis": "y"
        }
       ],
       "layout": {
        "annotations": [
         {
          "font": {
           "color": "grey",
           "size": 20
          },
          "showarrow": false,
          "text": "Expected subscriber growth based on proyected marketing spend year over year.",
          "x": 0.5,
          "xanchor": "center",
          "xref": "paper",
          "y": 1.02,
          "yanchor": "bottom",
          "yref": "paper"
         },
         {
          "align": "center",
          "arrowhead": 1,
          "arrowsize": 2,
          "ax": -50,
          "ay": -30,
          "font": {
           "size": 20
          },
          "showarrow": false,
          "text": "While the exact relationship between <b>marketing spend</b> and<br>its influence on subscriber growth is not fully known,<br>marketing spend is expected to be one of the main factors<br>affecting the <b>volume of users</b>.",
          "x": 22000,
          "xanchor": "right",
          "y": 1500,
          "yshift": 10
         }
        ],
        "height": 800,
        "legend": {
         "tracegroupgap": 0
        },
        "paper_bgcolor": "white",
        "plot_bgcolor": "white",
        "showlegend": false,
        "template": {
         "data": {
          "bar": [
           {
            "error_x": {
             "color": "#2a3f5f"
            },
            "error_y": {
             "color": "#2a3f5f"
            },
            "marker": {
             "line": {
              "color": "#E5ECF6",
              "width": 0.5
             },
             "pattern": {
              "fillmode": "overlay",
              "size": 10,
              "solidity": 0.2
             }
            },
            "type": "bar"
           }
          ],
          "barpolar": [
           {
            "marker": {
             "line": {
              "color": "#E5ECF6",
              "width": 0.5
             },
             "pattern": {
              "fillmode": "overlay",
              "size": 10,
              "solidity": 0.2
             }
            },
            "type": "barpolar"
           }
          ],
          "carpet": [
           {
            "aaxis": {
             "endlinecolor": "#2a3f5f",
             "gridcolor": "white",
             "linecolor": "white",
             "minorgridcolor": "white",
             "startlinecolor": "#2a3f5f"
            },
            "baxis": {
             "endlinecolor": "#2a3f5f",
             "gridcolor": "white",
             "linecolor": "white",
             "minorgridcolor": "white",
             "startlinecolor": "#2a3f5f"
            },
            "type": "carpet"
           }
          ],
          "choropleth": [
           {
            "colorbar": {
             "outlinewidth": 0,
             "ticks": ""
            },
            "type": "choropleth"
           }
          ],
          "contour": [
           {
            "colorbar": {
             "outlinewidth": 0,
             "ticks": ""
            },
            "colorscale": [
             [
              0,
              "#0d0887"
             ],
             [
              0.1111111111111111,
              "#46039f"
             ],
             [
              0.2222222222222222,
              "#7201a8"
             ],
             [
              0.3333333333333333,
              "#9c179e"
             ],
             [
              0.4444444444444444,
              "#bd3786"
             ],
             [
              0.5555555555555556,
              "#d8576b"
             ],
             [
              0.6666666666666666,
              "#ed7953"
             ],
             [
              0.7777777777777778,
              "#fb9f3a"
             ],
             [
              0.8888888888888888,
              "#fdca26"
             ],
             [
              1,
              "#f0f921"
             ]
            ],
            "type": "contour"
           }
          ],
          "contourcarpet": [
           {
            "colorbar": {
             "outlinewidth": 0,
             "ticks": ""
            },
            "type": "contourcarpet"
           }
          ],
          "heatmap": [
           {
            "colorbar": {
             "outlinewidth": 0,
             "ticks": ""
            },
            "colorscale": [
             [
              0,
              "#0d0887"
             ],
             [
              0.1111111111111111,
              "#46039f"
             ],
             [
              0.2222222222222222,
              "#7201a8"
             ],
             [
              0.3333333333333333,
              "#9c179e"
             ],
             [
              0.4444444444444444,
              "#bd3786"
             ],
             [
              0.5555555555555556,
              "#d8576b"
             ],
             [
              0.6666666666666666,
              "#ed7953"
             ],
             [
              0.7777777777777778,
              "#fb9f3a"
             ],
             [
              0.8888888888888888,
              "#fdca26"
             ],
             [
              1,
              "#f0f921"
             ]
            ],
            "type": "heatmap"
           }
          ],
          "heatmapgl": [
           {
            "colorbar": {
             "outlinewidth": 0,
             "ticks": ""
            },
            "colorscale": [
             [
              0,
              "#0d0887"
             ],
             [
              0.1111111111111111,
              "#46039f"
             ],
             [
              0.2222222222222222,
              "#7201a8"
             ],
             [
              0.3333333333333333,
              "#9c179e"
             ],
             [
              0.4444444444444444,
              "#bd3786"
             ],
             [
              0.5555555555555556,
              "#d8576b"
             ],
             [
              0.6666666666666666,
              "#ed7953"
             ],
             [
              0.7777777777777778,
              "#fb9f3a"
             ],
             [
              0.8888888888888888,
              "#fdca26"
             ],
             [
              1,
              "#f0f921"
             ]
            ],
            "type": "heatmapgl"
           }
          ],
          "histogram": [
           {
            "marker": {
             "pattern": {
              "fillmode": "overlay",
              "size": 10,
              "solidity": 0.2
             }
            },
            "type": "histogram"
           }
          ],
          "histogram2d": [
           {
            "colorbar": {
             "outlinewidth": 0,
             "ticks": ""
            },
            "colorscale": [
             [
              0,
              "#0d0887"
             ],
             [
              0.1111111111111111,
              "#46039f"
             ],
             [
              0.2222222222222222,
              "#7201a8"
             ],
             [
              0.3333333333333333,
              "#9c179e"
             ],
             [
              0.4444444444444444,
              "#bd3786"
             ],
             [
              0.5555555555555556,
              "#d8576b"
             ],
             [
              0.6666666666666666,
              "#ed7953"
             ],
             [
              0.7777777777777778,
              "#fb9f3a"
             ],
             [
              0.8888888888888888,
              "#fdca26"
             ],
             [
              1,
              "#f0f921"
             ]
            ],
            "type": "histogram2d"
           }
          ],
          "histogram2dcontour": [
           {
            "colorbar": {
             "outlinewidth": 0,
             "ticks": ""
            },
            "colorscale": [
             [
              0,
              "#0d0887"
             ],
             [
              0.1111111111111111,
              "#46039f"
             ],
             [
              0.2222222222222222,
              "#7201a8"
             ],
             [
              0.3333333333333333,
              "#9c179e"
             ],
             [
              0.4444444444444444,
              "#bd3786"
             ],
             [
              0.5555555555555556,
              "#d8576b"
             ],
             [
              0.6666666666666666,
              "#ed7953"
             ],
             [
              0.7777777777777778,
              "#fb9f3a"
             ],
             [
              0.8888888888888888,
              "#fdca26"
             ],
             [
              1,
              "#f0f921"
             ]
            ],
            "type": "histogram2dcontour"
           }
          ],
          "mesh3d": [
           {
            "colorbar": {
             "outlinewidth": 0,
             "ticks": ""
            },
            "type": "mesh3d"
           }
          ],
          "parcoords": [
           {
            "line": {
             "colorbar": {
              "outlinewidth": 0,
              "ticks": ""
             }
            },
            "type": "parcoords"
           }
          ],
          "pie": [
           {
            "automargin": true,
            "type": "pie"
           }
          ],
          "scatter": [
           {
            "fillpattern": {
             "fillmode": "overlay",
             "size": 10,
             "solidity": 0.2
            },
            "type": "scatter"
           }
          ],
          "scatter3d": [
           {
            "line": {
             "colorbar": {
              "outlinewidth": 0,
              "ticks": ""
             }
            },
            "marker": {
             "colorbar": {
              "outlinewidth": 0,
              "ticks": ""
             }
            },
            "type": "scatter3d"
           }
          ],
          "scattercarpet": [
           {
            "marker": {
             "colorbar": {
              "outlinewidth": 0,
              "ticks": ""
             }
            },
            "type": "scattercarpet"
           }
          ],
          "scattergeo": [
           {
            "marker": {
             "colorbar": {
              "outlinewidth": 0,
              "ticks": ""
             }
            },
            "type": "scattergeo"
           }
          ],
          "scattergl": [
           {
            "marker": {
             "colorbar": {
              "outlinewidth": 0,
              "ticks": ""
             }
            },
            "type": "scattergl"
           }
          ],
          "scattermapbox": [
           {
            "marker": {
             "colorbar": {
              "outlinewidth": 0,
              "ticks": ""
             }
            },
            "type": "scattermapbox"
           }
          ],
          "scatterpolar": [
           {
            "marker": {
             "colorbar": {
              "outlinewidth": 0,
              "ticks": ""
             }
            },
            "type": "scatterpolar"
           }
          ],
          "scatterpolargl": [
           {
            "marker": {
             "colorbar": {
              "outlinewidth": 0,
              "ticks": ""
             }
            },
            "type": "scatterpolargl"
           }
          ],
          "scatterternary": [
           {
            "marker": {
             "colorbar": {
              "outlinewidth": 0,
              "ticks": ""
             }
            },
            "type": "scatterternary"
           }
          ],
          "surface": [
           {
            "colorbar": {
             "outlinewidth": 0,
             "ticks": ""
            },
            "colorscale": [
             [
              0,
              "#0d0887"
             ],
             [
              0.1111111111111111,
              "#46039f"
             ],
             [
              0.2222222222222222,
              "#7201a8"
             ],
             [
              0.3333333333333333,
              "#9c179e"
             ],
             [
              0.4444444444444444,
              "#bd3786"
             ],
             [
              0.5555555555555556,
              "#d8576b"
             ],
             [
              0.6666666666666666,
              "#ed7953"
             ],
             [
              0.7777777777777778,
              "#fb9f3a"
             ],
             [
              0.8888888888888888,
              "#fdca26"
             ],
             [
              1,
              "#f0f921"
             ]
            ],
            "type": "surface"
           }
          ],
          "table": [
           {
            "cells": {
             "fill": {
              "color": "#EBF0F8"
             },
             "line": {
              "color": "white"
             }
            },
            "header": {
             "fill": {
              "color": "#C8D4E3"
             },
             "line": {
              "color": "white"
             }
            },
            "type": "table"
           }
          ]
         },
         "layout": {
          "annotationdefaults": {
           "arrowcolor": "#2a3f5f",
           "arrowhead": 0,
           "arrowwidth": 1
          },
          "autotypenumbers": "strict",
          "coloraxis": {
           "colorbar": {
            "outlinewidth": 0,
            "ticks": ""
           }
          },
          "colorscale": {
           "diverging": [
            [
             0,
             "#8e0152"
            ],
            [
             0.1,
             "#c51b7d"
            ],
            [
             0.2,
             "#de77ae"
            ],
            [
             0.3,
             "#f1b6da"
            ],
            [
             0.4,
             "#fde0ef"
            ],
            [
             0.5,
             "#f7f7f7"
            ],
            [
             0.6,
             "#e6f5d0"
            ],
            [
             0.7,
             "#b8e186"
            ],
            [
             0.8,
             "#7fbc41"
            ],
            [
             0.9,
             "#4d9221"
            ],
            [
             1,
             "#276419"
            ]
           ],
           "sequential": [
            [
             0,
             "#0d0887"
            ],
            [
             0.1111111111111111,
             "#46039f"
            ],
            [
             0.2222222222222222,
             "#7201a8"
            ],
            [
             0.3333333333333333,
             "#9c179e"
            ],
            [
             0.4444444444444444,
             "#bd3786"
            ],
            [
             0.5555555555555556,
             "#d8576b"
            ],
            [
             0.6666666666666666,
             "#ed7953"
            ],
            [
             0.7777777777777778,
             "#fb9f3a"
            ],
            [
             0.8888888888888888,
             "#fdca26"
            ],
            [
             1,
             "#f0f921"
            ]
           ],
           "sequentialminus": [
            [
             0,
             "#0d0887"
            ],
            [
             0.1111111111111111,
             "#46039f"
            ],
            [
             0.2222222222222222,
             "#7201a8"
            ],
            [
             0.3333333333333333,
             "#9c179e"
            ],
            [
             0.4444444444444444,
             "#bd3786"
            ],
            [
             0.5555555555555556,
             "#d8576b"
            ],
            [
             0.6666666666666666,
             "#ed7953"
            ],
            [
             0.7777777777777778,
             "#fb9f3a"
            ],
            [
             0.8888888888888888,
             "#fdca26"
            ],
            [
             1,
             "#f0f921"
            ]
           ]
          },
          "colorway": [
           "#636efa",
           "#EF553B",
           "#00cc96",
           "#ab63fa",
           "#FFA15A",
           "#19d3f3",
           "#FF6692",
           "#B6E880",
           "#FF97FF",
           "#FECB52"
          ],
          "font": {
           "color": "#2a3f5f"
          },
          "geo": {
           "bgcolor": "white",
           "lakecolor": "white",
           "landcolor": "#E5ECF6",
           "showlakes": true,
           "showland": true,
           "subunitcolor": "white"
          },
          "hoverlabel": {
           "align": "left"
          },
          "hovermode": "closest",
          "mapbox": {
           "style": "light"
          },
          "paper_bgcolor": "white",
          "plot_bgcolor": "#E5ECF6",
          "polar": {
           "angularaxis": {
            "gridcolor": "white",
            "linecolor": "white",
            "ticks": ""
           },
           "bgcolor": "#E5ECF6",
           "radialaxis": {
            "gridcolor": "white",
            "linecolor": "white",
            "ticks": ""
           }
          },
          "scene": {
           "xaxis": {
            "backgroundcolor": "#E5ECF6",
            "gridcolor": "white",
            "gridwidth": 2,
            "linecolor": "white",
            "showbackground": true,
            "ticks": "",
            "zerolinecolor": "white"
           },
           "yaxis": {
            "backgroundcolor": "#E5ECF6",
            "gridcolor": "white",
            "gridwidth": 2,
            "linecolor": "white",
            "showbackground": true,
            "ticks": "",
            "zerolinecolor": "white"
           },
           "zaxis": {
            "backgroundcolor": "#E5ECF6",
            "gridcolor": "white",
            "gridwidth": 2,
            "linecolor": "white",
            "showbackground": true,
            "ticks": "",
            "zerolinecolor": "white"
           }
          },
          "shapedefaults": {
           "line": {
            "color": "#2a3f5f"
           }
          },
          "ternary": {
           "aaxis": {
            "gridcolor": "white",
            "linecolor": "white",
            "ticks": ""
           },
           "baxis": {
            "gridcolor": "white",
            "linecolor": "white",
            "ticks": ""
           },
           "bgcolor": "#E5ECF6",
           "caxis": {
            "gridcolor": "white",
            "linecolor": "white",
            "ticks": ""
           }
          },
          "title": {
           "x": 0.05
          },
          "xaxis": {
           "automargin": true,
           "gridcolor": "white",
           "linecolor": "white",
           "ticks": "",
           "title": {
            "standoff": 15
           },
           "zerolinecolor": "white",
           "zerolinewidth": 2
          },
          "yaxis": {
           "automargin": true,
           "gridcolor": "white",
           "linecolor": "white",
           "ticks": "",
           "title": {
            "standoff": 15
           },
           "zerolinecolor": "white",
           "zerolinewidth": 2
          }
         }
        },
        "title": {
         "font": {
          "size": 24
         },
         "text": "Marketing Spend vs. Subscriber Growth",
         "x": 0.5,
         "xanchor": "center",
         "y": 0.96
        },
        "width": 1200,
        "xaxis": {
         "anchor": "y",
         "domain": [
          0,
          1
         ],
         "tickfont": {
          "size": 16
         },
         "title": {
          "text": "Marketing Spend per Month"
         }
        },
        "yaxis": {
         "anchor": "x",
         "domain": [
          0,
          1
         ],
         "tickfont": {
          "size": 16
         },
         "title": {
          "text": "Total Subscribers"
         }
        }
       }
      }
     },
     "metadata": {},
     "output_type": "display_data"
    }
   ],
   "source": [
    "\n",
    "fig2 = px.scatter(\n",
    "    subscribers,\n",
    "    x='Marketing Spend / Month', \n",
    "    y='(New) Subscribers', \n",
    "    trendline='ols',  \n",
    "    title='Marketing Spend vs. Subscriber Growth'\n",
    ")\n",
    "fig2.update_layout(\n",
    "    plot_bgcolor='white',  \n",
    "    paper_bgcolor='white',\n",
    "    title_font=dict(size=35),\n",
    "    title={'x':0.5, 'y':0.96, 'xanchor': 'center'},\n",
    "    height=800,  \n",
    "    width=1200,\n",
    "    showlegend=False \n",
    ")\n",
    "\n",
    "fig2.add_annotation(\n",
    "    text=\"Expected subscriber growth based on proyected marketing spend year over year.\",\n",
    "    xref=\"paper\", yref=\"paper\",\n",
    "    x=0.5, y=1.02,  \n",
    "    showarrow=False,\n",
    "    font=dict(size=20, color=\"grey\"),\n",
    "    xanchor='center', yanchor='bottom',\n",
    ")\n",
    "\n",
    "fig2.add_annotation(\n",
    "    text=\"While the exact relationship between <b>marketing spend</b> and<br>\"\n",
    "         \"its influence on subscriber growth is not fully known,<br>\"\n",
    "         \"marketing spend is expected to be one of the main factors<br>\"\n",
    "         \"affecting the <b>volume of users</b>.\",\n",
    "    x=22000,\n",
    "    y=1500,\n",
    "    arrowhead=1,\n",
    "    yshift=10,\n",
    "    xanchor=\"right\",\n",
    "    showarrow=False,\n",
    "    font=dict(size=20),\n",
    "    arrowsize=2,\n",
    "    align=\"center\",\n",
    "    ax=-50,  \n",
    "    ay=-30\n",
    ")\n",
    "\n",
    "fig2.update_layout(\n",
    "    xaxis_title='Marketing Spend per Month',\n",
    "    yaxis_title='Total Subscribers',\n",
    "    title_font=dict(size=24),\n",
    "    xaxis_tickfont_size=16,\n",
    "    yaxis_tickfont_size=16\n",
    ")\n",
    "\n",
    "\n",
    "fig2.show()"
   ]
  },
  {
   "cell_type": "code",
   "execution_count": 24,
   "metadata": {},
   "outputs": [
    {
     "name": "stderr",
     "output_type": "stream",
     "text": [
      "C:\\Users\\usuario\\AppData\\Local\\Temp\\ipykernel_11588\\2869945529.py:37: FutureWarning:\n",
      "\n",
      "Setting an item of incompatible dtype is deprecated and will raise an error in a future version of pandas. Value '467.1875' has dtype incompatible with int64, please explicitly cast to a compatible dtype first.\n",
      "\n",
      "C:\\Users\\usuario\\AppData\\Local\\Temp\\ipykernel_11588\\2869945529.py:48: FutureWarning:\n",
      "\n",
      "Setting an item of incompatible dtype is deprecated and will raise an error in a future version of pandas. Value '373.75' has dtype incompatible with int64, please explicitly cast to a compatible dtype first.\n",
      "\n",
      "C:\\Users\\usuario\\AppData\\Local\\Temp\\ipykernel_11588\\2869945529.py:60: FutureWarning:\n",
      "\n",
      "Setting an item of incompatible dtype is deprecated and will raise an error in a future version of pandas. Value '74.75' has dtype incompatible with int64, please explicitly cast to a compatible dtype first.\n",
      "\n"
     ]
    }
   ],
   "source": [
    "subscribers_prueba = subscription_growth(time_frame = 25, assumptions = assumptions)"
   ]
  },
  {
   "cell_type": "code",
   "execution_count": 25,
   "metadata": {},
   "outputs": [
    {
     "data": {
      "text/html": [
       "<div>\n",
       "<style scoped>\n",
       "    .dataframe tbody tr th:only-of-type {\n",
       "        vertical-align: middle;\n",
       "    }\n",
       "\n",
       "    .dataframe tbody tr th {\n",
       "        vertical-align: top;\n",
       "    }\n",
       "\n",
       "    .dataframe thead th {\n",
       "        text-align: right;\n",
       "    }\n",
       "</style>\n",
       "<table border=\"1\" class=\"dataframe\">\n",
       "  <thead>\n",
       "    <tr style=\"text-align: right;\">\n",
       "      <th></th>\n",
       "      <th>month</th>\n",
       "      <th>MoM Retention (Subscribers)</th>\n",
       "      <th>Traffic -&gt; User Conversion Rate</th>\n",
       "      <th>K-Factor (Users)</th>\n",
       "      <th>Paid Traffic (Installs / Visitors)</th>\n",
       "      <th>Marketing Spend / Month</th>\n",
       "      <th>MoM Retention (Users)</th>\n",
       "      <th>K-Factor (Subscribers)</th>\n",
       "      <th>User -&gt; Subscriber Conversion Rate</th>\n",
       "      <th>Organic / Social Visitors</th>\n",
       "      <th>...</th>\n",
       "      <th>New Acquired Users (Paid)</th>\n",
       "      <th>Viral Acquired Visitors</th>\n",
       "      <th>New Organic + Viral Visitors</th>\n",
       "      <th>(All Channels) New Users</th>\n",
       "      <th>(All Channels) Retained Users</th>\n",
       "      <th>(All Channels) (New + Retained) Users</th>\n",
       "      <th>(New) Subscribers</th>\n",
       "      <th>(Retained) Subscribers</th>\n",
       "      <th>(All) Total Current Subscribers</th>\n",
       "      <th>(All Channels) Cumulative New Users</th>\n",
       "    </tr>\n",
       "  </thead>\n",
       "  <tbody>\n",
       "    <tr>\n",
       "      <th>20</th>\n",
       "      <td>20</td>\n",
       "      <td>0.6</td>\n",
       "      <td>0.3</td>\n",
       "      <td>0.3</td>\n",
       "      <td>2.5</td>\n",
       "      <td>25000</td>\n",
       "      <td>0.5</td>\n",
       "      <td>1.0</td>\n",
       "      <td>0.15</td>\n",
       "      <td>15000</td>\n",
       "      <td>...</td>\n",
       "      <td>3000.0</td>\n",
       "      <td>5134.147493</td>\n",
       "      <td>6040.244248</td>\n",
       "      <td>9040.244248</td>\n",
       "      <td>3753.821026</td>\n",
       "      <td>11185.284834</td>\n",
       "      <td>1677.792725</td>\n",
       "      <td>965.268264</td>\n",
       "      <td>2643.060989</td>\n",
       "      <td>91937.460255</td>\n",
       "    </tr>\n",
       "    <tr>\n",
       "      <th>21</th>\n",
       "      <td>21</td>\n",
       "      <td>0.6</td>\n",
       "      <td>0.3</td>\n",
       "      <td>0.3</td>\n",
       "      <td>2.5</td>\n",
       "      <td>25000</td>\n",
       "      <td>0.5</td>\n",
       "      <td>1.0</td>\n",
       "      <td>0.15</td>\n",
       "      <td>16000</td>\n",
       "      <td>...</td>\n",
       "      <td>3000.0</td>\n",
       "      <td>5355.134263</td>\n",
       "      <td>6406.540279</td>\n",
       "      <td>9406.540279</td>\n",
       "      <td>3914.849692</td>\n",
       "      <td>11643.597246</td>\n",
       "      <td>1746.539587</td>\n",
       "      <td>1006.675635</td>\n",
       "      <td>2753.215222</td>\n",
       "      <td>101344.000534</td>\n",
       "    </tr>\n",
       "    <tr>\n",
       "      <th>22</th>\n",
       "      <td>22</td>\n",
       "      <td>0.6</td>\n",
       "      <td>0.3</td>\n",
       "      <td>0.3</td>\n",
       "      <td>2.5</td>\n",
       "      <td>25000</td>\n",
       "      <td>0.5</td>\n",
       "      <td>1.0</td>\n",
       "      <td>0.15</td>\n",
       "      <td>17000</td>\n",
       "      <td>...</td>\n",
       "      <td>3000.0</td>\n",
       "      <td>5575.177306</td>\n",
       "      <td>6772.553192</td>\n",
       "      <td>9772.553192</td>\n",
       "      <td>4075.259036</td>\n",
       "      <td>12101.272641</td>\n",
       "      <td>1815.190896</td>\n",
       "      <td>1047.923752</td>\n",
       "      <td>2863.114648</td>\n",
       "      <td>111116.553725</td>\n",
       "    </tr>\n",
       "    <tr>\n",
       "      <th>23</th>\n",
       "      <td>23</td>\n",
       "      <td>0.6</td>\n",
       "      <td>0.3</td>\n",
       "      <td>0.3</td>\n",
       "      <td>2.5</td>\n",
       "      <td>25000</td>\n",
       "      <td>0.5</td>\n",
       "      <td>1.0</td>\n",
       "      <td>0.15</td>\n",
       "      <td>18000</td>\n",
       "      <td>...</td>\n",
       "      <td>3000.0</td>\n",
       "      <td>5794.880606</td>\n",
       "      <td>7138.464182</td>\n",
       "      <td>10138.464182</td>\n",
       "      <td>4235.445424</td>\n",
       "      <td>12558.718710</td>\n",
       "      <td>1883.807806</td>\n",
       "      <td>1089.114538</td>\n",
       "      <td>2972.922344</td>\n",
       "      <td>121255.017907</td>\n",
       "    </tr>\n",
       "    <tr>\n",
       "      <th>24</th>\n",
       "      <td>24</td>\n",
       "      <td>0.6</td>\n",
       "      <td>0.3</td>\n",
       "      <td>0.3</td>\n",
       "      <td>2.5</td>\n",
       "      <td>25000</td>\n",
       "      <td>0.5</td>\n",
       "      <td>1.0</td>\n",
       "      <td>0.15</td>\n",
       "      <td>19000</td>\n",
       "      <td>...</td>\n",
       "      <td>3000.0</td>\n",
       "      <td>6014.461599</td>\n",
       "      <td>7504.338480</td>\n",
       "      <td>10504.338480</td>\n",
       "      <td>4395.551548</td>\n",
       "      <td>13016.082222</td>\n",
       "      <td>1952.412333</td>\n",
       "      <td>1130.284684</td>\n",
       "      <td>3082.697017</td>\n",
       "      <td>131759.356387</td>\n",
       "    </tr>\n",
       "  </tbody>\n",
       "</table>\n",
       "<p>5 rows × 21 columns</p>\n",
       "</div>"
      ],
      "text/plain": [
       "    month  MoM Retention (Subscribers)  Traffic -> User Conversion Rate  \\\n",
       "20     20                          0.6                              0.3   \n",
       "21     21                          0.6                              0.3   \n",
       "22     22                          0.6                              0.3   \n",
       "23     23                          0.6                              0.3   \n",
       "24     24                          0.6                              0.3   \n",
       "\n",
       "    K-Factor (Users)  Paid Traffic (Installs / Visitors)  \\\n",
       "20               0.3                                 2.5   \n",
       "21               0.3                                 2.5   \n",
       "22               0.3                                 2.5   \n",
       "23               0.3                                 2.5   \n",
       "24               0.3                                 2.5   \n",
       "\n",
       "    Marketing Spend / Month  MoM Retention (Users)  K-Factor (Subscribers)  \\\n",
       "20                    25000                    0.5                     1.0   \n",
       "21                    25000                    0.5                     1.0   \n",
       "22                    25000                    0.5                     1.0   \n",
       "23                    25000                    0.5                     1.0   \n",
       "24                    25000                    0.5                     1.0   \n",
       "\n",
       "    User -> Subscriber Conversion Rate  Organic / Social Visitors  ...  \\\n",
       "20                                0.15                      15000  ...   \n",
       "21                                0.15                      16000  ...   \n",
       "22                                0.15                      17000  ...   \n",
       "23                                0.15                      18000  ...   \n",
       "24                                0.15                      19000  ...   \n",
       "\n",
       "    New Acquired Users (Paid)  Viral Acquired Visitors  \\\n",
       "20                     3000.0              5134.147493   \n",
       "21                     3000.0              5355.134263   \n",
       "22                     3000.0              5575.177306   \n",
       "23                     3000.0              5794.880606   \n",
       "24                     3000.0              6014.461599   \n",
       "\n",
       "    New Organic + Viral Visitors  (All Channels) New Users  \\\n",
       "20                   6040.244248               9040.244248   \n",
       "21                   6406.540279               9406.540279   \n",
       "22                   6772.553192               9772.553192   \n",
       "23                   7138.464182              10138.464182   \n",
       "24                   7504.338480              10504.338480   \n",
       "\n",
       "    (All Channels) Retained Users  (All Channels) (New + Retained) Users  \\\n",
       "20                    3753.821026                           11185.284834   \n",
       "21                    3914.849692                           11643.597246   \n",
       "22                    4075.259036                           12101.272641   \n",
       "23                    4235.445424                           12558.718710   \n",
       "24                    4395.551548                           13016.082222   \n",
       "\n",
       "    (New) Subscribers  (Retained) Subscribers  \\\n",
       "20        1677.792725              965.268264   \n",
       "21        1746.539587             1006.675635   \n",
       "22        1815.190896             1047.923752   \n",
       "23        1883.807806             1089.114538   \n",
       "24        1952.412333             1130.284684   \n",
       "\n",
       "    (All) Total Current Subscribers  (All Channels) Cumulative New Users  \n",
       "20                      2643.060989                         91937.460255  \n",
       "21                      2753.215222                        101344.000534  \n",
       "22                      2863.114648                        111116.553725  \n",
       "23                      2972.922344                        121255.017907  \n",
       "24                      3082.697017                        131759.356387  \n",
       "\n",
       "[5 rows x 21 columns]"
      ]
     },
     "execution_count": 25,
     "metadata": {},
     "output_type": "execute_result"
    }
   ],
   "source": [
    "subscribers_prueba.tail()"
   ]
  },
  {
   "cell_type": "code",
   "execution_count": 125,
   "metadata": {},
   "outputs": [
    {
     "name": "stderr",
     "output_type": "stream",
     "text": [
      "c:\\Users\\usuario\\AppData\\Local\\Programs\\Python\\Python311\\Lib\\site-packages\\plotly\\express\\_core.py:2065: FutureWarning:\n",
      "\n",
      "When grouping with a length-1 list-like, you will need to pass a length-1 tuple to get_group in a future version of pandas. Pass `(name,)` instead of `name` to silence this warning.\n",
      "\n"
     ]
    },
    {
     "data": {
      "application/vnd.plotly.v1+json": {
       "config": {
        "plotlyServerURL": "https://plot.ly"
       },
       "data": [
        {
         "alignmentgroup": "True",
         "hovertemplate": "variable=Organic / Social Users<br>month=%{x}<br>value=%{y}<extra></extra>",
         "legendgroup": "Organic / Social Users",
         "marker": {
          "color": "#636efa",
          "pattern": {
           "shape": ""
          }
         },
         "name": "Organic / Social Users",
         "offsetgroup": "Organic / Social Users",
         "orientation": "v",
         "showlegend": true,
         "textposition": "auto",
         "type": "bar",
         "x": [
          0,
          1,
          2,
          3,
          4,
          5,
          6,
          7,
          8,
          9,
          10,
          11,
          12,
          13,
          14,
          15,
          16,
          17,
          18,
          19,
          20,
          21,
          22,
          23,
          24
         ],
         "xaxis": "x",
         "y": [
          1000,
          1500,
          2000,
          2500,
          3000,
          3500,
          4000,
          4500,
          5000,
          5500,
          6000,
          6500,
          7000,
          8000,
          9000,
          10000,
          11000,
          12000,
          13000,
          14000,
          15000,
          16000,
          17000,
          18000,
          19000
         ],
         "yaxis": "y"
        },
        {
         "alignmentgroup": "True",
         "hovertemplate": "variable=Viral Acquired Users<br>month=%{x}<br>value=%{y}<extra></extra>",
         "legendgroup": "Viral Acquired Users",
         "marker": {
          "color": "#EF553B",
          "pattern": {
           "shape": ""
          }
         },
         "name": "Viral Acquired Users",
         "offsetgroup": "Viral Acquired Users",
         "orientation": "v",
         "showlegend": true,
         "textposition": "auto",
         "type": "bar",
         "x": [
          0,
          1,
          2,
          3,
          4,
          5,
          6,
          7,
          8,
          9,
          10,
          11,
          12,
          13,
          14,
          15,
          16,
          17,
          18,
          19,
          20,
          21,
          22,
          23,
          24
         ],
         "xaxis": "x",
         "y": [
          0,
          375,
          467.1875,
          513.41796875,
          552.180419921875,
          589.7293182373047,
          627.081014213562,
          664.4006648097038,
          701.7151080315768,
          739.0287050551314,
          776.3421645714589,
          813.655601742862,
          850.9690352832152,
          888.2824682335224,
          2745.3402762229007,
          3658.236664621707,
          4121.217345134278,
          4428.531940601579,
          4679.649156207737,
          4910.539254795005,
          5134.147492762196,
          5355.13426336849,
          5575.177305663304,
          5794.880605767522,
          6014.461598683089
         ],
         "yaxis": "y"
        },
        {
         "alignmentgroup": "True",
         "hovertemplate": "variable=New Acquired Subscribers<br>month=%{x}<br>value=%{y}<extra></extra>",
         "legendgroup": "New Acquired Subscribers",
         "marker": {
          "color": "#00cc96",
          "pattern": {
           "shape": ""
          }
         },
         "name": "New Acquired Subscribers",
         "offsetgroup": "New Acquired Subscribers",
         "orientation": "v",
         "showlegend": true,
         "textposition": "auto",
         "type": "bar",
         "x": [
          0,
          1,
          2,
          3,
          4,
          5,
          6,
          7,
          8,
          9,
          10,
          11,
          12,
          13,
          14,
          15,
          16,
          17,
          18,
          19,
          20,
          21,
          22,
          23,
          24
         ],
         "xaxis": "x",
         "y": [
          1250,
          1250,
          1250,
          1250,
          1250,
          1250,
          1250,
          1250,
          1250,
          1250,
          1250,
          1250,
          1250,
          3000,
          3000,
          3000,
          3000,
          3000,
          3000,
          3000,
          3000,
          3000,
          3000,
          3000,
          3000
         ],
         "yaxis": "y"
        }
       ],
       "layout": {
        "annotations": [
         {
          "font": {
           "size": 18
          },
          "showarrow": false,
          "text": "Initially, the majority of traffic<br>would likely come from<br>paid marketing which the<br>business controls.",
          "x": 3.5,
          "y": 6500,
          "yshift": 35
         },
         {
          "font": {
           "size": 18
          },
          "showarrow": false,
          "text": "As the platform evolves, we'd expect<br>customers to shift to organic / social traffic<br>based on the effect of viral growth",
          "x": 15,
          "y": 25000,
          "yshift": 35
         },
         {
          "font": {
           "color": "grey",
           "size": 20
          },
          "showarrow": false,
          "text": "Expected traffic of new users coming from marketing spend, virality, and organic visitors.",
          "x": 0.5,
          "xanchor": "center",
          "xref": "paper",
          "y": 1.01,
          "yanchor": "bottom",
          "yref": "paper"
         }
        ],
        "barmode": "relative",
        "height": 800,
        "legend": {
         "title": {
          "text": "Channel"
         },
         "tracegroupgap": 0,
         "x": 0.01,
         "xanchor": "left",
         "y": 0.98,
         "yanchor": "top"
        },
        "paper_bgcolor": "white",
        "plot_bgcolor": "white",
        "shapes": [
         {
          "line": {
           "dash": "dash"
          },
          "name": "first stage",
          "showlegend": false,
          "type": "rect",
          "x0": 0,
          "x1": 0.12,
          "xref": "paper",
          "y0": 0,
          "y1": 5000
         }
        ],
        "showlegend": true,
        "template": {
         "data": {
          "bar": [
           {
            "error_x": {
             "color": "#2a3f5f"
            },
            "error_y": {
             "color": "#2a3f5f"
            },
            "marker": {
             "line": {
              "color": "#E5ECF6",
              "width": 0.5
             },
             "pattern": {
              "fillmode": "overlay",
              "size": 10,
              "solidity": 0.2
             }
            },
            "type": "bar"
           }
          ],
          "barpolar": [
           {
            "marker": {
             "line": {
              "color": "#E5ECF6",
              "width": 0.5
             },
             "pattern": {
              "fillmode": "overlay",
              "size": 10,
              "solidity": 0.2
             }
            },
            "type": "barpolar"
           }
          ],
          "carpet": [
           {
            "aaxis": {
             "endlinecolor": "#2a3f5f",
             "gridcolor": "white",
             "linecolor": "white",
             "minorgridcolor": "white",
             "startlinecolor": "#2a3f5f"
            },
            "baxis": {
             "endlinecolor": "#2a3f5f",
             "gridcolor": "white",
             "linecolor": "white",
             "minorgridcolor": "white",
             "startlinecolor": "#2a3f5f"
            },
            "type": "carpet"
           }
          ],
          "choropleth": [
           {
            "colorbar": {
             "outlinewidth": 0,
             "ticks": ""
            },
            "type": "choropleth"
           }
          ],
          "contour": [
           {
            "colorbar": {
             "outlinewidth": 0,
             "ticks": ""
            },
            "colorscale": [
             [
              0,
              "#0d0887"
             ],
             [
              0.1111111111111111,
              "#46039f"
             ],
             [
              0.2222222222222222,
              "#7201a8"
             ],
             [
              0.3333333333333333,
              "#9c179e"
             ],
             [
              0.4444444444444444,
              "#bd3786"
             ],
             [
              0.5555555555555556,
              "#d8576b"
             ],
             [
              0.6666666666666666,
              "#ed7953"
             ],
             [
              0.7777777777777778,
              "#fb9f3a"
             ],
             [
              0.8888888888888888,
              "#fdca26"
             ],
             [
              1,
              "#f0f921"
             ]
            ],
            "type": "contour"
           }
          ],
          "contourcarpet": [
           {
            "colorbar": {
             "outlinewidth": 0,
             "ticks": ""
            },
            "type": "contourcarpet"
           }
          ],
          "heatmap": [
           {
            "colorbar": {
             "outlinewidth": 0,
             "ticks": ""
            },
            "colorscale": [
             [
              0,
              "#0d0887"
             ],
             [
              0.1111111111111111,
              "#46039f"
             ],
             [
              0.2222222222222222,
              "#7201a8"
             ],
             [
              0.3333333333333333,
              "#9c179e"
             ],
             [
              0.4444444444444444,
              "#bd3786"
             ],
             [
              0.5555555555555556,
              "#d8576b"
             ],
             [
              0.6666666666666666,
              "#ed7953"
             ],
             [
              0.7777777777777778,
              "#fb9f3a"
             ],
             [
              0.8888888888888888,
              "#fdca26"
             ],
             [
              1,
              "#f0f921"
             ]
            ],
            "type": "heatmap"
           }
          ],
          "heatmapgl": [
           {
            "colorbar": {
             "outlinewidth": 0,
             "ticks": ""
            },
            "colorscale": [
             [
              0,
              "#0d0887"
             ],
             [
              0.1111111111111111,
              "#46039f"
             ],
             [
              0.2222222222222222,
              "#7201a8"
             ],
             [
              0.3333333333333333,
              "#9c179e"
             ],
             [
              0.4444444444444444,
              "#bd3786"
             ],
             [
              0.5555555555555556,
              "#d8576b"
             ],
             [
              0.6666666666666666,
              "#ed7953"
             ],
             [
              0.7777777777777778,
              "#fb9f3a"
             ],
             [
              0.8888888888888888,
              "#fdca26"
             ],
             [
              1,
              "#f0f921"
             ]
            ],
            "type": "heatmapgl"
           }
          ],
          "histogram": [
           {
            "marker": {
             "pattern": {
              "fillmode": "overlay",
              "size": 10,
              "solidity": 0.2
             }
            },
            "type": "histogram"
           }
          ],
          "histogram2d": [
           {
            "colorbar": {
             "outlinewidth": 0,
             "ticks": ""
            },
            "colorscale": [
             [
              0,
              "#0d0887"
             ],
             [
              0.1111111111111111,
              "#46039f"
             ],
             [
              0.2222222222222222,
              "#7201a8"
             ],
             [
              0.3333333333333333,
              "#9c179e"
             ],
             [
              0.4444444444444444,
              "#bd3786"
             ],
             [
              0.5555555555555556,
              "#d8576b"
             ],
             [
              0.6666666666666666,
              "#ed7953"
             ],
             [
              0.7777777777777778,
              "#fb9f3a"
             ],
             [
              0.8888888888888888,
              "#fdca26"
             ],
             [
              1,
              "#f0f921"
             ]
            ],
            "type": "histogram2d"
           }
          ],
          "histogram2dcontour": [
           {
            "colorbar": {
             "outlinewidth": 0,
             "ticks": ""
            },
            "colorscale": [
             [
              0,
              "#0d0887"
             ],
             [
              0.1111111111111111,
              "#46039f"
             ],
             [
              0.2222222222222222,
              "#7201a8"
             ],
             [
              0.3333333333333333,
              "#9c179e"
             ],
             [
              0.4444444444444444,
              "#bd3786"
             ],
             [
              0.5555555555555556,
              "#d8576b"
             ],
             [
              0.6666666666666666,
              "#ed7953"
             ],
             [
              0.7777777777777778,
              "#fb9f3a"
             ],
             [
              0.8888888888888888,
              "#fdca26"
             ],
             [
              1,
              "#f0f921"
             ]
            ],
            "type": "histogram2dcontour"
           }
          ],
          "mesh3d": [
           {
            "colorbar": {
             "outlinewidth": 0,
             "ticks": ""
            },
            "type": "mesh3d"
           }
          ],
          "parcoords": [
           {
            "line": {
             "colorbar": {
              "outlinewidth": 0,
              "ticks": ""
             }
            },
            "type": "parcoords"
           }
          ],
          "pie": [
           {
            "automargin": true,
            "type": "pie"
           }
          ],
          "scatter": [
           {
            "fillpattern": {
             "fillmode": "overlay",
             "size": 10,
             "solidity": 0.2
            },
            "type": "scatter"
           }
          ],
          "scatter3d": [
           {
            "line": {
             "colorbar": {
              "outlinewidth": 0,
              "ticks": ""
             }
            },
            "marker": {
             "colorbar": {
              "outlinewidth": 0,
              "ticks": ""
             }
            },
            "type": "scatter3d"
           }
          ],
          "scattercarpet": [
           {
            "marker": {
             "colorbar": {
              "outlinewidth": 0,
              "ticks": ""
             }
            },
            "type": "scattercarpet"
           }
          ],
          "scattergeo": [
           {
            "marker": {
             "colorbar": {
              "outlinewidth": 0,
              "ticks": ""
             }
            },
            "type": "scattergeo"
           }
          ],
          "scattergl": [
           {
            "marker": {
             "colorbar": {
              "outlinewidth": 0,
              "ticks": ""
             }
            },
            "type": "scattergl"
           }
          ],
          "scattermapbox": [
           {
            "marker": {
             "colorbar": {
              "outlinewidth": 0,
              "ticks": ""
             }
            },
            "type": "scattermapbox"
           }
          ],
          "scatterpolar": [
           {
            "marker": {
             "colorbar": {
              "outlinewidth": 0,
              "ticks": ""
             }
            },
            "type": "scatterpolar"
           }
          ],
          "scatterpolargl": [
           {
            "marker": {
             "colorbar": {
              "outlinewidth": 0,
              "ticks": ""
             }
            },
            "type": "scatterpolargl"
           }
          ],
          "scatterternary": [
           {
            "marker": {
             "colorbar": {
              "outlinewidth": 0,
              "ticks": ""
             }
            },
            "type": "scatterternary"
           }
          ],
          "surface": [
           {
            "colorbar": {
             "outlinewidth": 0,
             "ticks": ""
            },
            "colorscale": [
             [
              0,
              "#0d0887"
             ],
             [
              0.1111111111111111,
              "#46039f"
             ],
             [
              0.2222222222222222,
              "#7201a8"
             ],
             [
              0.3333333333333333,
              "#9c179e"
             ],
             [
              0.4444444444444444,
              "#bd3786"
             ],
             [
              0.5555555555555556,
              "#d8576b"
             ],
             [
              0.6666666666666666,
              "#ed7953"
             ],
             [
              0.7777777777777778,
              "#fb9f3a"
             ],
             [
              0.8888888888888888,
              "#fdca26"
             ],
             [
              1,
              "#f0f921"
             ]
            ],
            "type": "surface"
           }
          ],
          "table": [
           {
            "cells": {
             "fill": {
              "color": "#EBF0F8"
             },
             "line": {
              "color": "white"
             }
            },
            "header": {
             "fill": {
              "color": "#C8D4E3"
             },
             "line": {
              "color": "white"
             }
            },
            "type": "table"
           }
          ]
         },
         "layout": {
          "annotationdefaults": {
           "arrowcolor": "#2a3f5f",
           "arrowhead": 0,
           "arrowwidth": 1
          },
          "autotypenumbers": "strict",
          "coloraxis": {
           "colorbar": {
            "outlinewidth": 0,
            "ticks": ""
           }
          },
          "colorscale": {
           "diverging": [
            [
             0,
             "#8e0152"
            ],
            [
             0.1,
             "#c51b7d"
            ],
            [
             0.2,
             "#de77ae"
            ],
            [
             0.3,
             "#f1b6da"
            ],
            [
             0.4,
             "#fde0ef"
            ],
            [
             0.5,
             "#f7f7f7"
            ],
            [
             0.6,
             "#e6f5d0"
            ],
            [
             0.7,
             "#b8e186"
            ],
            [
             0.8,
             "#7fbc41"
            ],
            [
             0.9,
             "#4d9221"
            ],
            [
             1,
             "#276419"
            ]
           ],
           "sequential": [
            [
             0,
             "#0d0887"
            ],
            [
             0.1111111111111111,
             "#46039f"
            ],
            [
             0.2222222222222222,
             "#7201a8"
            ],
            [
             0.3333333333333333,
             "#9c179e"
            ],
            [
             0.4444444444444444,
             "#bd3786"
            ],
            [
             0.5555555555555556,
             "#d8576b"
            ],
            [
             0.6666666666666666,
             "#ed7953"
            ],
            [
             0.7777777777777778,
             "#fb9f3a"
            ],
            [
             0.8888888888888888,
             "#fdca26"
            ],
            [
             1,
             "#f0f921"
            ]
           ],
           "sequentialminus": [
            [
             0,
             "#0d0887"
            ],
            [
             0.1111111111111111,
             "#46039f"
            ],
            [
             0.2222222222222222,
             "#7201a8"
            ],
            [
             0.3333333333333333,
             "#9c179e"
            ],
            [
             0.4444444444444444,
             "#bd3786"
            ],
            [
             0.5555555555555556,
             "#d8576b"
            ],
            [
             0.6666666666666666,
             "#ed7953"
            ],
            [
             0.7777777777777778,
             "#fb9f3a"
            ],
            [
             0.8888888888888888,
             "#fdca26"
            ],
            [
             1,
             "#f0f921"
            ]
           ]
          },
          "colorway": [
           "#636efa",
           "#EF553B",
           "#00cc96",
           "#ab63fa",
           "#FFA15A",
           "#19d3f3",
           "#FF6692",
           "#B6E880",
           "#FF97FF",
           "#FECB52"
          ],
          "font": {
           "color": "#2a3f5f"
          },
          "geo": {
           "bgcolor": "white",
           "lakecolor": "white",
           "landcolor": "#E5ECF6",
           "showlakes": true,
           "showland": true,
           "subunitcolor": "white"
          },
          "hoverlabel": {
           "align": "left"
          },
          "hovermode": "closest",
          "mapbox": {
           "style": "light"
          },
          "paper_bgcolor": "white",
          "plot_bgcolor": "#E5ECF6",
          "polar": {
           "angularaxis": {
            "gridcolor": "white",
            "linecolor": "white",
            "ticks": ""
           },
           "bgcolor": "#E5ECF6",
           "radialaxis": {
            "gridcolor": "white",
            "linecolor": "white",
            "ticks": ""
           }
          },
          "scene": {
           "xaxis": {
            "backgroundcolor": "#E5ECF6",
            "gridcolor": "white",
            "gridwidth": 2,
            "linecolor": "white",
            "showbackground": true,
            "ticks": "",
            "zerolinecolor": "white"
           },
           "yaxis": {
            "backgroundcolor": "#E5ECF6",
            "gridcolor": "white",
            "gridwidth": 2,
            "linecolor": "white",
            "showbackground": true,
            "ticks": "",
            "zerolinecolor": "white"
           },
           "zaxis": {
            "backgroundcolor": "#E5ECF6",
            "gridcolor": "white",
            "gridwidth": 2,
            "linecolor": "white",
            "showbackground": true,
            "ticks": "",
            "zerolinecolor": "white"
           }
          },
          "shapedefaults": {
           "line": {
            "color": "#2a3f5f"
           }
          },
          "ternary": {
           "aaxis": {
            "gridcolor": "white",
            "linecolor": "white",
            "ticks": ""
           },
           "baxis": {
            "gridcolor": "white",
            "linecolor": "white",
            "ticks": ""
           },
           "bgcolor": "#E5ECF6",
           "caxis": {
            "gridcolor": "white",
            "linecolor": "white",
            "ticks": ""
           }
          },
          "title": {
           "x": 0.05
          },
          "xaxis": {
           "automargin": true,
           "gridcolor": "white",
           "linecolor": "white",
           "ticks": "",
           "title": {
            "standoff": 15
           },
           "zerolinecolor": "white",
           "zerolinewidth": 2
          },
          "yaxis": {
           "automargin": true,
           "gridcolor": "white",
           "linecolor": "white",
           "ticks": "",
           "title": {
            "standoff": 15
           },
           "zerolinecolor": "white",
           "zerolinewidth": 2
          }
         }
        },
        "title": {
         "font": {
          "size": 35
         },
         "text": "Sources of New Users",
         "x": 0.5,
         "xanchor": "center",
         "y": 0.96
        },
        "width": 1200,
        "xaxis": {
         "anchor": "y",
         "domain": [
          0,
          1
         ],
         "tickfont": {
          "size": 16
         },
         "title": {
          "text": "Month"
         }
        },
        "yaxis": {
         "anchor": "x",
         "domain": [
          0,
          1
         ],
         "tickfont": {
          "size": 16
         },
         "title": {
          "text": "Total New Users"
         }
        }
       }
      }
     },
     "metadata": {},
     "output_type": "display_data"
    }
   ],
   "source": [
    "channels_for_new_users = px.bar(\n",
    "    subscribers.rename(columns={\n",
    "        'Organic / Social Visitors': 'Organic / Social Users',\n",
    "        'Viral Acquired Visitors' : 'Viral Acquired Users',\n",
    "        'New Acquired Users (Paid)': 'New Acquired Subscribers'\n",
    "        }),\n",
    "    x='month', \n",
    "    y=['Organic / Social Users','Viral Acquired Users','New Acquired Subscribers'],\n",
    "    title='Sources of New Users'\n",
    ").update_layout(\n",
    "    plot_bgcolor='white',  \n",
    "    paper_bgcolor='white',\n",
    "    title_font=dict(size=35),\n",
    "    title={'x':0.5, 'y':0.96, 'xanchor': 'center'},\n",
    "    height=800,  \n",
    "    width=1200,\n",
    "    showlegend=True,\n",
    "    xaxis_title='Month',\n",
    "    yaxis_title='Total New Users',\n",
    "    xaxis_tickfont_size=16,\n",
    "    yaxis_tickfont_size=16,\n",
    "    legend=dict(\n",
    "    yanchor=\"top\",\n",
    "    y=0.98,\n",
    "    xanchor=\"left\",\n",
    "    x=0.01),\n",
    "    legend_title_text='Channel'\n",
    ").add_shape(\n",
    "    name=\"first stage\",\n",
    "    showlegend=False,\n",
    "    type=\"rect\",\n",
    "    xref=\"paper\",\n",
    "    line=dict(dash=\"dash\"),\n",
    "    x0=0.0,\n",
    "    x1=0.12,\n",
    "    y0=0,\n",
    "    y1=5000,\n",
    ").add_annotation(\n",
    "    text =  \"Initially, the majority of traffic<br>\"\n",
    "            \"would likely come from<br>\"\n",
    "            \"paid marketing which the<br>\"\n",
    "            \"business controls.\",\n",
    "    x = 3.5,\n",
    "    y = 6500,\n",
    "    showarrow=False,\n",
    "    font=dict(size=18),\n",
    "    yshift=35\n",
    ").add_annotation(\n",
    "    text =  \"As the platform evolves, we'd expect<br>\"\n",
    "            \"customers to shift to organic / social traffic<br>\"\n",
    "            \"based on the effect of viral growth\",\n",
    "    x = 15,\n",
    "    y = 25000,\n",
    "    showarrow=False,\n",
    "    font=dict(size=18),\n",
    "    yshift=35\n",
    ").add_annotation(\n",
    "    text=\"Expected traffic of new users coming from marketing spend, virality, and organic visitors.\",\n",
    "    xref=\"paper\", yref=\"paper\",\n",
    "    x=0.5, y=1.01,  \n",
    "    showarrow=False,\n",
    "    font=dict(size=20, color=\"grey\"),\n",
    "    xanchor='center', yanchor='bottom',\n",
    ")\n",
    "\n",
    "\n",
    "channels_for_new_users.show()\n"
   ]
  },
  {
   "cell_type": "code",
   "execution_count": 145,
   "metadata": {},
   "outputs": [
    {
     "data": {
      "application/vnd.plotly.v1+json": {
       "config": {
        "plotlyServerURL": "https://plot.ly"
       },
       "data": [
        {
         "marker": {
          "color": "LightSkyBlue",
          "size": 25
         },
         "mode": "markers+text",
         "name": "Nodos",
         "text": [
          "New Acquired Users (Paid)",
          "Organic / Social Visitors",
          "Viral Acquired Visitors"
         ],
         "textfont": {
          "size": 16
         },
         "textposition": "top center",
         "type": "scatter",
         "x": [
          1,
          2,
          3
         ],
         "y": [
          3,
          3,
          3
         ]
        },
        {
         "line": {
          "color": "royalblue",
          "width": 2
         },
         "mode": "lines",
         "name": "Conexiones",
         "type": "scatter",
         "x": [
          1,
          2,
          null,
          2,
          2,
          null,
          3,
          2,
          null
         ],
         "y": [
          3,
          1,
          null,
          3,
          1,
          null,
          3,
          1,
          null
         ]
        },
        {
         "line": {
          "color": "tomato",
          "width": 2
         },
         "mode": "lines",
         "name": "Conexiones",
         "type": "scatter",
         "x": [
          2,
          1.5
         ],
         "y": [
          1,
          -1
         ]
        },
        {
         "line": {
          "color": "springgreen",
          "width": 2
         },
         "mode": "lines",
         "name": "Conexiones",
         "type": "scatter",
         "x": [
          2,
          2.5
         ],
         "y": [
          1,
          -1
         ]
        },
        {
         "line": {
          "color": "tomato",
          "width": 2
         },
         "mode": "lines",
         "name": "Conexiones",
         "type": "scatter",
         "x": [
          2.5,
          2
         ],
         "y": [
          -1,
          -3
         ]
        },
        {
         "line": {
          "color": "springgreen",
          "width": 2
         },
         "mode": "lines",
         "name": "Conexiones",
         "type": "scatter",
         "x": [
          2.5,
          3
         ],
         "y": [
          -1,
          -3
         ]
        },
        {
         "marker": {
          "color": "Green",
          "size": 25
         },
         "mode": "markers+text",
         "name": "Nodos",
         "text": [
          "New Users"
         ],
         "textfont": {
          "size": 16
         },
         "textposition": "middle right",
         "type": "scatter",
         "x": [
          2
         ],
         "y": [
          1
         ]
        },
        {
         "marker": {
          "color": [
           "Red",
           "green"
          ],
          "size": 25
         },
         "mode": "markers+text",
         "name": "Nodos",
         "text": [
          "Churned Users",
          "New Subscribers"
         ],
         "textfont": {
          "size": 16
         },
         "textposition": "middle left",
         "type": "scatter",
         "x": [
          1.5,
          2.5
         ],
         "y": [
          -1,
          -1
         ]
        },
        {
         "marker": {
          "color": [
           "Red",
           "green"
          ],
          "size": 25
         },
         "mode": "markers+text",
         "name": "Nodos",
         "text": [
          "Churned Subscribers",
          "Retained Subscribers"
         ],
         "textfont": {
          "size": 16
         },
         "textposition": "middle left",
         "type": "scatter",
         "x": [
          2,
          3
         ],
         "y": [
          -3,
          -3
         ]
        }
       ],
       "layout": {
        "annotations": [
         {
          "font": {
           "color": "grey",
           "size": 20
          },
          "showarrow": false,
          "text": "Expected Customer Journey Based on Research of the Current State of the E-Learning Industry.",
          "x": 0.5,
          "xanchor": "center",
          "xref": "paper",
          "y": 1.01,
          "yanchor": "bottom",
          "yref": "paper"
         },
         {
          "font": {
           "size": 20
          },
          "showarrow": false,
          "text": "According to industry statistics<br><b>Retention Rates</b> can<br>be between <b>25%</b> to <b>60%</b>.",
          "x": 0.85,
          "xanchor": "center",
          "xref": "paper",
          "y": 0.4,
          "yanchor": "bottom",
          "yref": "paper"
         },
         {
          "font": {
           "size": 20
          },
          "showarrow": false,
          "text": "<b>Virality</b> will come<br>from users and subscribers<br><b>attracting</b> new users.",
          "x": 0.85,
          "xanchor": "center",
          "xref": "paper",
          "y": 0.7,
          "yanchor": "bottom",
          "yref": "paper"
         },
         {
          "font": {
           "size": 20
          },
          "showarrow": false,
          "text": "<b>Acquired Users</b> will come<br>from our<br><b>marketing spend</b>.",
          "x": 0.15,
          "xanchor": "center",
          "xref": "paper",
          "y": 0.7,
          "yanchor": "bottom",
          "yref": "paper"
         }
        ],
        "height": 1000,
        "paper_bgcolor": "white",
        "plot_bgcolor": "white",
        "showlegend": false,
        "template": {
         "data": {
          "bar": [
           {
            "error_x": {
             "color": "#2a3f5f"
            },
            "error_y": {
             "color": "#2a3f5f"
            },
            "marker": {
             "line": {
              "color": "#E5ECF6",
              "width": 0.5
             },
             "pattern": {
              "fillmode": "overlay",
              "size": 10,
              "solidity": 0.2
             }
            },
            "type": "bar"
           }
          ],
          "barpolar": [
           {
            "marker": {
             "line": {
              "color": "#E5ECF6",
              "width": 0.5
             },
             "pattern": {
              "fillmode": "overlay",
              "size": 10,
              "solidity": 0.2
             }
            },
            "type": "barpolar"
           }
          ],
          "carpet": [
           {
            "aaxis": {
             "endlinecolor": "#2a3f5f",
             "gridcolor": "white",
             "linecolor": "white",
             "minorgridcolor": "white",
             "startlinecolor": "#2a3f5f"
            },
            "baxis": {
             "endlinecolor": "#2a3f5f",
             "gridcolor": "white",
             "linecolor": "white",
             "minorgridcolor": "white",
             "startlinecolor": "#2a3f5f"
            },
            "type": "carpet"
           }
          ],
          "choropleth": [
           {
            "colorbar": {
             "outlinewidth": 0,
             "ticks": ""
            },
            "type": "choropleth"
           }
          ],
          "contour": [
           {
            "colorbar": {
             "outlinewidth": 0,
             "ticks": ""
            },
            "colorscale": [
             [
              0,
              "#0d0887"
             ],
             [
              0.1111111111111111,
              "#46039f"
             ],
             [
              0.2222222222222222,
              "#7201a8"
             ],
             [
              0.3333333333333333,
              "#9c179e"
             ],
             [
              0.4444444444444444,
              "#bd3786"
             ],
             [
              0.5555555555555556,
              "#d8576b"
             ],
             [
              0.6666666666666666,
              "#ed7953"
             ],
             [
              0.7777777777777778,
              "#fb9f3a"
             ],
             [
              0.8888888888888888,
              "#fdca26"
             ],
             [
              1,
              "#f0f921"
             ]
            ],
            "type": "contour"
           }
          ],
          "contourcarpet": [
           {
            "colorbar": {
             "outlinewidth": 0,
             "ticks": ""
            },
            "type": "contourcarpet"
           }
          ],
          "heatmap": [
           {
            "colorbar": {
             "outlinewidth": 0,
             "ticks": ""
            },
            "colorscale": [
             [
              0,
              "#0d0887"
             ],
             [
              0.1111111111111111,
              "#46039f"
             ],
             [
              0.2222222222222222,
              "#7201a8"
             ],
             [
              0.3333333333333333,
              "#9c179e"
             ],
             [
              0.4444444444444444,
              "#bd3786"
             ],
             [
              0.5555555555555556,
              "#d8576b"
             ],
             [
              0.6666666666666666,
              "#ed7953"
             ],
             [
              0.7777777777777778,
              "#fb9f3a"
             ],
             [
              0.8888888888888888,
              "#fdca26"
             ],
             [
              1,
              "#f0f921"
             ]
            ],
            "type": "heatmap"
           }
          ],
          "heatmapgl": [
           {
            "colorbar": {
             "outlinewidth": 0,
             "ticks": ""
            },
            "colorscale": [
             [
              0,
              "#0d0887"
             ],
             [
              0.1111111111111111,
              "#46039f"
             ],
             [
              0.2222222222222222,
              "#7201a8"
             ],
             [
              0.3333333333333333,
              "#9c179e"
             ],
             [
              0.4444444444444444,
              "#bd3786"
             ],
             [
              0.5555555555555556,
              "#d8576b"
             ],
             [
              0.6666666666666666,
              "#ed7953"
             ],
             [
              0.7777777777777778,
              "#fb9f3a"
             ],
             [
              0.8888888888888888,
              "#fdca26"
             ],
             [
              1,
              "#f0f921"
             ]
            ],
            "type": "heatmapgl"
           }
          ],
          "histogram": [
           {
            "marker": {
             "pattern": {
              "fillmode": "overlay",
              "size": 10,
              "solidity": 0.2
             }
            },
            "type": "histogram"
           }
          ],
          "histogram2d": [
           {
            "colorbar": {
             "outlinewidth": 0,
             "ticks": ""
            },
            "colorscale": [
             [
              0,
              "#0d0887"
             ],
             [
              0.1111111111111111,
              "#46039f"
             ],
             [
              0.2222222222222222,
              "#7201a8"
             ],
             [
              0.3333333333333333,
              "#9c179e"
             ],
             [
              0.4444444444444444,
              "#bd3786"
             ],
             [
              0.5555555555555556,
              "#d8576b"
             ],
             [
              0.6666666666666666,
              "#ed7953"
             ],
             [
              0.7777777777777778,
              "#fb9f3a"
             ],
             [
              0.8888888888888888,
              "#fdca26"
             ],
             [
              1,
              "#f0f921"
             ]
            ],
            "type": "histogram2d"
           }
          ],
          "histogram2dcontour": [
           {
            "colorbar": {
             "outlinewidth": 0,
             "ticks": ""
            },
            "colorscale": [
             [
              0,
              "#0d0887"
             ],
             [
              0.1111111111111111,
              "#46039f"
             ],
             [
              0.2222222222222222,
              "#7201a8"
             ],
             [
              0.3333333333333333,
              "#9c179e"
             ],
             [
              0.4444444444444444,
              "#bd3786"
             ],
             [
              0.5555555555555556,
              "#d8576b"
             ],
             [
              0.6666666666666666,
              "#ed7953"
             ],
             [
              0.7777777777777778,
              "#fb9f3a"
             ],
             [
              0.8888888888888888,
              "#fdca26"
             ],
             [
              1,
              "#f0f921"
             ]
            ],
            "type": "histogram2dcontour"
           }
          ],
          "mesh3d": [
           {
            "colorbar": {
             "outlinewidth": 0,
             "ticks": ""
            },
            "type": "mesh3d"
           }
          ],
          "parcoords": [
           {
            "line": {
             "colorbar": {
              "outlinewidth": 0,
              "ticks": ""
             }
            },
            "type": "parcoords"
           }
          ],
          "pie": [
           {
            "automargin": true,
            "type": "pie"
           }
          ],
          "scatter": [
           {
            "fillpattern": {
             "fillmode": "overlay",
             "size": 10,
             "solidity": 0.2
            },
            "type": "scatter"
           }
          ],
          "scatter3d": [
           {
            "line": {
             "colorbar": {
              "outlinewidth": 0,
              "ticks": ""
             }
            },
            "marker": {
             "colorbar": {
              "outlinewidth": 0,
              "ticks": ""
             }
            },
            "type": "scatter3d"
           }
          ],
          "scattercarpet": [
           {
            "marker": {
             "colorbar": {
              "outlinewidth": 0,
              "ticks": ""
             }
            },
            "type": "scattercarpet"
           }
          ],
          "scattergeo": [
           {
            "marker": {
             "colorbar": {
              "outlinewidth": 0,
              "ticks": ""
             }
            },
            "type": "scattergeo"
           }
          ],
          "scattergl": [
           {
            "marker": {
             "colorbar": {
              "outlinewidth": 0,
              "ticks": ""
             }
            },
            "type": "scattergl"
           }
          ],
          "scattermapbox": [
           {
            "marker": {
             "colorbar": {
              "outlinewidth": 0,
              "ticks": ""
             }
            },
            "type": "scattermapbox"
           }
          ],
          "scatterpolar": [
           {
            "marker": {
             "colorbar": {
              "outlinewidth": 0,
              "ticks": ""
             }
            },
            "type": "scatterpolar"
           }
          ],
          "scatterpolargl": [
           {
            "marker": {
             "colorbar": {
              "outlinewidth": 0,
              "ticks": ""
             }
            },
            "type": "scatterpolargl"
           }
          ],
          "scatterternary": [
           {
            "marker": {
             "colorbar": {
              "outlinewidth": 0,
              "ticks": ""
             }
            },
            "type": "scatterternary"
           }
          ],
          "surface": [
           {
            "colorbar": {
             "outlinewidth": 0,
             "ticks": ""
            },
            "colorscale": [
             [
              0,
              "#0d0887"
             ],
             [
              0.1111111111111111,
              "#46039f"
             ],
             [
              0.2222222222222222,
              "#7201a8"
             ],
             [
              0.3333333333333333,
              "#9c179e"
             ],
             [
              0.4444444444444444,
              "#bd3786"
             ],
             [
              0.5555555555555556,
              "#d8576b"
             ],
             [
              0.6666666666666666,
              "#ed7953"
             ],
             [
              0.7777777777777778,
              "#fb9f3a"
             ],
             [
              0.8888888888888888,
              "#fdca26"
             ],
             [
              1,
              "#f0f921"
             ]
            ],
            "type": "surface"
           }
          ],
          "table": [
           {
            "cells": {
             "fill": {
              "color": "#EBF0F8"
             },
             "line": {
              "color": "white"
             }
            },
            "header": {
             "fill": {
              "color": "#C8D4E3"
             },
             "line": {
              "color": "white"
             }
            },
            "type": "table"
           }
          ]
         },
         "layout": {
          "annotationdefaults": {
           "arrowcolor": "#2a3f5f",
           "arrowhead": 0,
           "arrowwidth": 1
          },
          "autotypenumbers": "strict",
          "coloraxis": {
           "colorbar": {
            "outlinewidth": 0,
            "ticks": ""
           }
          },
          "colorscale": {
           "diverging": [
            [
             0,
             "#8e0152"
            ],
            [
             0.1,
             "#c51b7d"
            ],
            [
             0.2,
             "#de77ae"
            ],
            [
             0.3,
             "#f1b6da"
            ],
            [
             0.4,
             "#fde0ef"
            ],
            [
             0.5,
             "#f7f7f7"
            ],
            [
             0.6,
             "#e6f5d0"
            ],
            [
             0.7,
             "#b8e186"
            ],
            [
             0.8,
             "#7fbc41"
            ],
            [
             0.9,
             "#4d9221"
            ],
            [
             1,
             "#276419"
            ]
           ],
           "sequential": [
            [
             0,
             "#0d0887"
            ],
            [
             0.1111111111111111,
             "#46039f"
            ],
            [
             0.2222222222222222,
             "#7201a8"
            ],
            [
             0.3333333333333333,
             "#9c179e"
            ],
            [
             0.4444444444444444,
             "#bd3786"
            ],
            [
             0.5555555555555556,
             "#d8576b"
            ],
            [
             0.6666666666666666,
             "#ed7953"
            ],
            [
             0.7777777777777778,
             "#fb9f3a"
            ],
            [
             0.8888888888888888,
             "#fdca26"
            ],
            [
             1,
             "#f0f921"
            ]
           ],
           "sequentialminus": [
            [
             0,
             "#0d0887"
            ],
            [
             0.1111111111111111,
             "#46039f"
            ],
            [
             0.2222222222222222,
             "#7201a8"
            ],
            [
             0.3333333333333333,
             "#9c179e"
            ],
            [
             0.4444444444444444,
             "#bd3786"
            ],
            [
             0.5555555555555556,
             "#d8576b"
            ],
            [
             0.6666666666666666,
             "#ed7953"
            ],
            [
             0.7777777777777778,
             "#fb9f3a"
            ],
            [
             0.8888888888888888,
             "#fdca26"
            ],
            [
             1,
             "#f0f921"
            ]
           ]
          },
          "colorway": [
           "#636efa",
           "#EF553B",
           "#00cc96",
           "#ab63fa",
           "#FFA15A",
           "#19d3f3",
           "#FF6692",
           "#B6E880",
           "#FF97FF",
           "#FECB52"
          ],
          "font": {
           "color": "#2a3f5f"
          },
          "geo": {
           "bgcolor": "white",
           "lakecolor": "white",
           "landcolor": "#E5ECF6",
           "showlakes": true,
           "showland": true,
           "subunitcolor": "white"
          },
          "hoverlabel": {
           "align": "left"
          },
          "hovermode": "closest",
          "mapbox": {
           "style": "light"
          },
          "paper_bgcolor": "white",
          "plot_bgcolor": "#E5ECF6",
          "polar": {
           "angularaxis": {
            "gridcolor": "white",
            "linecolor": "white",
            "ticks": ""
           },
           "bgcolor": "#E5ECF6",
           "radialaxis": {
            "gridcolor": "white",
            "linecolor": "white",
            "ticks": ""
           }
          },
          "scene": {
           "xaxis": {
            "backgroundcolor": "#E5ECF6",
            "gridcolor": "white",
            "gridwidth": 2,
            "linecolor": "white",
            "showbackground": true,
            "ticks": "",
            "zerolinecolor": "white"
           },
           "yaxis": {
            "backgroundcolor": "#E5ECF6",
            "gridcolor": "white",
            "gridwidth": 2,
            "linecolor": "white",
            "showbackground": true,
            "ticks": "",
            "zerolinecolor": "white"
           },
           "zaxis": {
            "backgroundcolor": "#E5ECF6",
            "gridcolor": "white",
            "gridwidth": 2,
            "linecolor": "white",
            "showbackground": true,
            "ticks": "",
            "zerolinecolor": "white"
           }
          },
          "shapedefaults": {
           "line": {
            "color": "#2a3f5f"
           }
          },
          "ternary": {
           "aaxis": {
            "gridcolor": "white",
            "linecolor": "white",
            "ticks": ""
           },
           "baxis": {
            "gridcolor": "white",
            "linecolor": "white",
            "ticks": ""
           },
           "bgcolor": "#E5ECF6",
           "caxis": {
            "gridcolor": "white",
            "linecolor": "white",
            "ticks": ""
           }
          },
          "title": {
           "x": 0.05
          },
          "xaxis": {
           "automargin": true,
           "gridcolor": "white",
           "linecolor": "white",
           "ticks": "",
           "title": {
            "standoff": 15
           },
           "zerolinecolor": "white",
           "zerolinewidth": 2
          },
          "yaxis": {
           "automargin": true,
           "gridcolor": "white",
           "linecolor": "white",
           "ticks": "",
           "title": {
            "standoff": 15
           },
           "zerolinecolor": "white",
           "zerolinewidth": 2
          }
         }
        },
        "title": {
         "font": {
          "size": 35
         },
         "text": "Expected Customer Journey",
         "x": 0.5,
         "xanchor": "center",
         "y": 0.97
        },
        "width": 1200,
        "xaxis": {
         "showgrid": false,
         "showticklabels": false,
         "zeroline": false
        },
        "yaxis": {
         "showgrid": false,
         "showticklabels": false,
         "zeroline": false
        }
       }
      }
     },
     "metadata": {},
     "output_type": "display_data"
    }
   ],
   "source": [
    "import plotly.graph_objects as go\n",
    "\n",
    "nodos_x = [1, 2, 3]\n",
    "nodos_y = [3, 3, 3]\n",
    "nodos_texto = [\"New Acquired Users (Paid)\", \"Organic / Social Visitors\", \"Viral Acquired Visitors\"]\n",
    "\n",
    "nodo_new_users_x = [2]\n",
    "nodo_new_users_y = [1]\n",
    "nodo_new_users_text = [\"New Users\"]\n",
    "\n",
    "conexiones_x = [nodos_x[0], nodo_new_users_x[0], None,  \n",
    "                nodos_x[1], nodo_new_users_x[0], None,  \n",
    "                nodos_x[2], nodo_new_users_x[0], None]  \n",
    "conexiones_y = [nodos_y[0], nodo_new_users_y[0], None,  \n",
    "                nodos_y[1], nodo_new_users_y[0], None,\n",
    "                nodos_y[2], nodo_new_users_y[0], None]\n",
    "\n",
    "fig = go.Figure(go.Scatter(x=nodos_x, y=nodos_y, mode='markers+text', \n",
    "                           text=nodos_texto, textposition='top center', \n",
    "                           marker=dict(size=25, color='LightSkyBlue'), name='Nodos',textfont=dict(size=16)))\n",
    "\n",
    "fig.add_trace(go.Scatter(x=conexiones_x, y=conexiones_y, mode='lines', line=dict(color='royalblue', width=2), name='Conexiones'))\n",
    "fig.add_trace(go.Scatter(x=[2, 1.5], y=[1, -1], mode='lines', line=dict(color='tomato', width=2), name='Conexiones'))\n",
    "fig.add_trace(go.Scatter(x=[2, 2.5], y=[1, -1], mode='lines', line=dict(color='springgreen', width=2), name='Conexiones'))\n",
    "fig.add_trace(go.Scatter(x=[2.5, 2], y=[-1, -3], mode='lines', line=dict(color='tomato', width=2), name='Conexiones'))\n",
    "fig.add_trace(go.Scatter(x=[2.5, 3], y=[-1, -3], mode='lines', line=dict(color='springgreen', width=2), name='Conexiones'))\n",
    "\n",
    "fig.update_layout(title=\"Expected Customer Journey\",\n",
    "                    xaxis=dict(showgrid=False, zeroline=False, showticklabels=False),\n",
    "                    yaxis=dict(showgrid=False, zeroline=False, showticklabels=False),\n",
    "                    showlegend=False,    plot_bgcolor='white',  \n",
    "                    paper_bgcolor='white',\n",
    "                    title_font=dict(size=35),\n",
    "                    height=1000,  \n",
    "                    width=1200,)\n",
    "\n",
    "fig.update_layout(title={'x':0.5, 'y':0.97, 'xanchor': 'center'})\n",
    "\n",
    "fig.add_trace(go.Scatter(x=nodo_new_users_x, y=nodo_new_users_y, mode='markers+text', \n",
    "                         text=nodo_new_users_text, textposition='middle right',\n",
    "                         marker=dict(size=25, color='Green'), name='Nodos',textfont=dict(size=16)))\n",
    "\n",
    "new_nodes_x = [1.5,2.5]\n",
    "new_nodes_y = [-1, -1]\n",
    "nodo_nodes_text = [\"Churned Users\", \"New Subscribers\"]\n",
    "\n",
    "fig.add_trace(go.Scatter(x=new_nodes_x, y=new_nodes_y, mode='markers+text', \n",
    "                         text=nodo_nodes_text, textposition='middle left',\n",
    "                         marker=dict(size=25, color=['Red', 'green']), name='Nodos',textfont=dict(size=16)))\n",
    "\n",
    "final_nodes_x = [2,3]\n",
    "final_nodes_y = [-3, -3]\n",
    "final_nodes_text = [\"Churned Subscribers\", \"Retained Subscribers\"]\n",
    "\n",
    "fig.add_trace(go.Scatter(x=final_nodes_x, y=final_nodes_y, mode='markers+text', \n",
    "                         text=final_nodes_text, textposition='middle left',\n",
    "                         marker=dict(size=25, color=['Red', 'green']), name='Nodos',textfont=dict(size=16)))\n",
    "\n",
    "fig.add_annotation(\n",
    "    text=\"Expected Customer Journey Based on Research of the Current State of the E-Learning Industry.\",\n",
    "    xref=\"paper\", yref=\"paper\",\n",
    "    x=0.5, y=1.01,  \n",
    "    showarrow=False,\n",
    "    font=dict(size=20, color=\"grey\"),\n",
    "    xanchor='center', yanchor='bottom',\n",
    ")\n",
    "\n",
    "fig.add_annotation(\n",
    "    text=\"According to industry statistics<br><b>Retention Rates</b> can<br>be between <b>25%</b> to <b>60%</b>.\",\n",
    "    xref=\"paper\", yref=\"paper\",\n",
    "    x=0.85, y=0.40,  \n",
    "    showarrow=False,\n",
    "    font=dict(size=20),\n",
    "    xanchor='center', yanchor='bottom',\n",
    ")\n",
    "\n",
    "fig.add_annotation(\n",
    "    text=\"<b>Virality</b> will come<br>from users and subscribers<br><b>attracting</b> new users.\",\n",
    "    xref=\"paper\", yref=\"paper\",\n",
    "    x=0.85, y=0.70,  \n",
    "    showarrow=False,\n",
    "    font=dict(size=20),\n",
    "    xanchor='center', yanchor='bottom',\n",
    ")\n",
    "\n",
    "fig.add_annotation(\n",
    "    text=\"<b>Acquired Users</b> will come<br>from our<br><b>marketing spend</b>.\",\n",
    "    xref=\"paper\", yref=\"paper\",\n",
    "    x=0.15, y=0.70,  \n",
    "    showarrow=False,\n",
    "    font=dict(size=20),\n",
    "    xanchor='center', yanchor='bottom',\n",
    ")\n",
    "\n",
    "fig.show()\n"
   ]
  },
  {
   "cell_type": "code",
   "execution_count": null,
   "metadata": {},
   "outputs": [],
   "source": []
  }
 ],
 "metadata": {
  "kernelspec": {
   "display_name": "Python 3",
   "language": "python",
   "name": "python3"
  },
  "language_info": {
   "codemirror_mode": {
    "name": "ipython",
    "version": 3
   },
   "file_extension": ".py",
   "mimetype": "text/x-python",
   "name": "python",
   "nbconvert_exporter": "python",
   "pygments_lexer": "ipython3",
   "version": "3.11.3"
  }
 },
 "nbformat": 4,
 "nbformat_minor": 2
}
