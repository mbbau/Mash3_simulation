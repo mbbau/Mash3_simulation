{
 "cells": [
  {
   "cell_type": "code",
   "execution_count": 1,
   "metadata": {},
   "outputs": [],
   "source": [
    "import pandas as pd\n",
    "import numpy as np"
   ]
  },
  {
   "cell_type": "code",
   "execution_count": 6,
   "metadata": {},
   "outputs": [],
   "source": [
    "assumptions_raw = pd.read_excel(\"Mash3_BGS_Talk_v01.xlsx\")"
   ]
  },
  {
   "cell_type": "code",
   "execution_count": 7,
   "metadata": {},
   "outputs": [
    {
     "data": {
      "text/html": [
       "<div>\n",
       "<style scoped>\n",
       "    .dataframe tbody tr th:only-of-type {\n",
       "        vertical-align: middle;\n",
       "    }\n",
       "\n",
       "    .dataframe tbody tr th {\n",
       "        vertical-align: top;\n",
       "    }\n",
       "\n",
       "    .dataframe thead th {\n",
       "        text-align: right;\n",
       "    }\n",
       "</style>\n",
       "<table border=\"1\" class=\"dataframe\">\n",
       "  <thead>\n",
       "    <tr style=\"text-align: right;\">\n",
       "      <th></th>\n",
       "      <th>Unnamed: 0</th>\n",
       "      <th>Unnamed: 1</th>\n",
       "      <th>Unnamed: 2</th>\n",
       "      <th>MN0</th>\n",
       "      <th>MN1</th>\n",
       "      <th>MN2</th>\n",
       "      <th>MN3</th>\n",
       "      <th>MN4</th>\n",
       "      <th>MN5</th>\n",
       "      <th>MN6</th>\n",
       "      <th>...</th>\n",
       "      <th>MN18</th>\n",
       "      <th>MN19</th>\n",
       "      <th>MN20</th>\n",
       "      <th>MN21</th>\n",
       "      <th>MN22</th>\n",
       "      <th>MN23</th>\n",
       "      <th>MN24</th>\n",
       "      <th>Unnamed: 29</th>\n",
       "      <th>YR1</th>\n",
       "      <th>YR2</th>\n",
       "    </tr>\n",
       "  </thead>\n",
       "  <tbody>\n",
       "    <tr>\n",
       "      <th>0</th>\n",
       "      <td>ASSUMPTIONS</td>\n",
       "      <td>YR1</td>\n",
       "      <td>YR2</td>\n",
       "      <td>NaN</td>\n",
       "      <td>NaN</td>\n",
       "      <td>NaN</td>\n",
       "      <td>NaN</td>\n",
       "      <td>NaN</td>\n",
       "      <td>NaN</td>\n",
       "      <td>NaN</td>\n",
       "      <td>...</td>\n",
       "      <td>NaN</td>\n",
       "      <td>NaN</td>\n",
       "      <td>NaN</td>\n",
       "      <td>NaN</td>\n",
       "      <td>NaN</td>\n",
       "      <td>NaN</td>\n",
       "      <td>NaN</td>\n",
       "      <td>NaN</td>\n",
       "      <td>NaN</td>\n",
       "      <td>NaN</td>\n",
       "    </tr>\n",
       "    <tr>\n",
       "      <th>1</th>\n",
       "      <td>Starting Organic / Social Visitors</td>\n",
       "      <td>1000</td>\n",
       "      <td>NaN</td>\n",
       "      <td>NaN</td>\n",
       "      <td>NaN</td>\n",
       "      <td>NaN</td>\n",
       "      <td>NaN</td>\n",
       "      <td>NaN</td>\n",
       "      <td>NaN</td>\n",
       "      <td>NaN</td>\n",
       "      <td>...</td>\n",
       "      <td>NaN</td>\n",
       "      <td>NaN</td>\n",
       "      <td>NaN</td>\n",
       "      <td>NaN</td>\n",
       "      <td>NaN</td>\n",
       "      <td>NaN</td>\n",
       "      <td>NaN</td>\n",
       "      <td>NaN</td>\n",
       "      <td>NaN</td>\n",
       "      <td>NaN</td>\n",
       "    </tr>\n",
       "    <tr>\n",
       "      <th>2</th>\n",
       "      <td>Additive Social / Organic per Month</td>\n",
       "      <td>500</td>\n",
       "      <td>1000</td>\n",
       "      <td>NaN</td>\n",
       "      <td>NaN</td>\n",
       "      <td>NaN</td>\n",
       "      <td>NaN</td>\n",
       "      <td>NaN</td>\n",
       "      <td>NaN</td>\n",
       "      <td>NaN</td>\n",
       "      <td>...</td>\n",
       "      <td>NaN</td>\n",
       "      <td>NaN</td>\n",
       "      <td>NaN</td>\n",
       "      <td>NaN</td>\n",
       "      <td>NaN</td>\n",
       "      <td>NaN</td>\n",
       "      <td>NaN</td>\n",
       "      <td>NaN</td>\n",
       "      <td>NaN</td>\n",
       "      <td>NaN</td>\n",
       "    </tr>\n",
       "    <tr>\n",
       "      <th>3</th>\n",
       "      <td>K-Factor (Users)</td>\n",
       "      <td>0.2</td>\n",
       "      <td>0.3</td>\n",
       "      <td>NaN</td>\n",
       "      <td>NaN</td>\n",
       "      <td>NaN</td>\n",
       "      <td>NaN</td>\n",
       "      <td>NaN</td>\n",
       "      <td>NaN</td>\n",
       "      <td>NaN</td>\n",
       "      <td>...</td>\n",
       "      <td>NaN</td>\n",
       "      <td>NaN</td>\n",
       "      <td>NaN</td>\n",
       "      <td>NaN</td>\n",
       "      <td>NaN</td>\n",
       "      <td>NaN</td>\n",
       "      <td>NaN</td>\n",
       "      <td>NaN</td>\n",
       "      <td>NaN</td>\n",
       "      <td>NaN</td>\n",
       "    </tr>\n",
       "    <tr>\n",
       "      <th>4</th>\n",
       "      <td>K-Factor (Subscribers)</td>\n",
       "      <td>0.5</td>\n",
       "      <td>1</td>\n",
       "      <td>NaN</td>\n",
       "      <td>NaN</td>\n",
       "      <td>NaN</td>\n",
       "      <td>NaN</td>\n",
       "      <td>NaN</td>\n",
       "      <td>NaN</td>\n",
       "      <td>NaN</td>\n",
       "      <td>...</td>\n",
       "      <td>NaN</td>\n",
       "      <td>NaN</td>\n",
       "      <td>NaN</td>\n",
       "      <td>NaN</td>\n",
       "      <td>NaN</td>\n",
       "      <td>NaN</td>\n",
       "      <td>NaN</td>\n",
       "      <td>NaN</td>\n",
       "      <td>NaN</td>\n",
       "      <td>NaN</td>\n",
       "    </tr>\n",
       "    <tr>\n",
       "      <th>5</th>\n",
       "      <td>Traffic -&gt; User Conversion Rate</td>\n",
       "      <td>0.25</td>\n",
       "      <td>0.3</td>\n",
       "      <td>NaN</td>\n",
       "      <td>NaN</td>\n",
       "      <td>NaN</td>\n",
       "      <td>NaN</td>\n",
       "      <td>NaN</td>\n",
       "      <td>NaN</td>\n",
       "      <td>NaN</td>\n",
       "      <td>...</td>\n",
       "      <td>NaN</td>\n",
       "      <td>NaN</td>\n",
       "      <td>NaN</td>\n",
       "      <td>NaN</td>\n",
       "      <td>NaN</td>\n",
       "      <td>NaN</td>\n",
       "      <td>NaN</td>\n",
       "      <td>NaN</td>\n",
       "      <td>NaN</td>\n",
       "      <td>NaN</td>\n",
       "    </tr>\n",
       "    <tr>\n",
       "      <th>6</th>\n",
       "      <td>Cost of Paid Traffic</td>\n",
       "      <td>2</td>\n",
       "      <td>2.5</td>\n",
       "      <td>NaN</td>\n",
       "      <td>NaN</td>\n",
       "      <td>NaN</td>\n",
       "      <td>NaN</td>\n",
       "      <td>NaN</td>\n",
       "      <td>NaN</td>\n",
       "      <td>NaN</td>\n",
       "      <td>...</td>\n",
       "      <td>NaN</td>\n",
       "      <td>NaN</td>\n",
       "      <td>NaN</td>\n",
       "      <td>NaN</td>\n",
       "      <td>NaN</td>\n",
       "      <td>NaN</td>\n",
       "      <td>NaN</td>\n",
       "      <td>NaN</td>\n",
       "      <td>NaN</td>\n",
       "      <td>NaN</td>\n",
       "    </tr>\n",
       "    <tr>\n",
       "      <th>7</th>\n",
       "      <td>Marketing Spend / Month</td>\n",
       "      <td>10000</td>\n",
       "      <td>25000</td>\n",
       "      <td>NaN</td>\n",
       "      <td>NaN</td>\n",
       "      <td>NaN</td>\n",
       "      <td>NaN</td>\n",
       "      <td>NaN</td>\n",
       "      <td>NaN</td>\n",
       "      <td>NaN</td>\n",
       "      <td>...</td>\n",
       "      <td>NaN</td>\n",
       "      <td>NaN</td>\n",
       "      <td>NaN</td>\n",
       "      <td>NaN</td>\n",
       "      <td>NaN</td>\n",
       "      <td>NaN</td>\n",
       "      <td>NaN</td>\n",
       "      <td>NaN</td>\n",
       "      <td>NaN</td>\n",
       "      <td>NaN</td>\n",
       "    </tr>\n",
       "    <tr>\n",
       "      <th>8</th>\n",
       "      <td>MoM Retention (Users)</td>\n",
       "      <td>0.3</td>\n",
       "      <td>0.5</td>\n",
       "      <td>NaN</td>\n",
       "      <td>NaN</td>\n",
       "      <td>NaN</td>\n",
       "      <td>NaN</td>\n",
       "      <td>NaN</td>\n",
       "      <td>NaN</td>\n",
       "      <td>NaN</td>\n",
       "      <td>...</td>\n",
       "      <td>NaN</td>\n",
       "      <td>NaN</td>\n",
       "      <td>NaN</td>\n",
       "      <td>NaN</td>\n",
       "      <td>NaN</td>\n",
       "      <td>NaN</td>\n",
       "      <td>NaN</td>\n",
       "      <td>NaN</td>\n",
       "      <td>NaN</td>\n",
       "      <td>NaN</td>\n",
       "    </tr>\n",
       "    <tr>\n",
       "      <th>9</th>\n",
       "      <td>User -&gt; Subscriber Conversion Rate</td>\n",
       "      <td>0.1</td>\n",
       "      <td>0.15</td>\n",
       "      <td>NaN</td>\n",
       "      <td>NaN</td>\n",
       "      <td>NaN</td>\n",
       "      <td>NaN</td>\n",
       "      <td>NaN</td>\n",
       "      <td>NaN</td>\n",
       "      <td>NaN</td>\n",
       "      <td>...</td>\n",
       "      <td>NaN</td>\n",
       "      <td>NaN</td>\n",
       "      <td>NaN</td>\n",
       "      <td>NaN</td>\n",
       "      <td>NaN</td>\n",
       "      <td>NaN</td>\n",
       "      <td>NaN</td>\n",
       "      <td>NaN</td>\n",
       "      <td>NaN</td>\n",
       "      <td>NaN</td>\n",
       "    </tr>\n",
       "    <tr>\n",
       "      <th>10</th>\n",
       "      <td>MoM Retention (Subscribers)</td>\n",
       "      <td>0.4</td>\n",
       "      <td>0.6</td>\n",
       "      <td>NaN</td>\n",
       "      <td>NaN</td>\n",
       "      <td>NaN</td>\n",
       "      <td>NaN</td>\n",
       "      <td>NaN</td>\n",
       "      <td>NaN</td>\n",
       "      <td>NaN</td>\n",
       "      <td>...</td>\n",
       "      <td>NaN</td>\n",
       "      <td>NaN</td>\n",
       "      <td>NaN</td>\n",
       "      <td>NaN</td>\n",
       "      <td>NaN</td>\n",
       "      <td>NaN</td>\n",
       "      <td>NaN</td>\n",
       "      <td>NaN</td>\n",
       "      <td>NaN</td>\n",
       "      <td>NaN</td>\n",
       "    </tr>\n",
       "  </tbody>\n",
       "</table>\n",
       "<p>11 rows × 32 columns</p>\n",
       "</div>"
      ],
      "text/plain": [
       "                             Unnamed: 0 Unnamed: 1 Unnamed: 2  MN0  MN1  MN2  \\\n",
       "0                           ASSUMPTIONS        YR1        YR2  NaN  NaN  NaN   \n",
       "1    Starting Organic / Social Visitors       1000        NaN  NaN  NaN  NaN   \n",
       "2   Additive Social / Organic per Month        500       1000  NaN  NaN  NaN   \n",
       "3                      K-Factor (Users)        0.2        0.3  NaN  NaN  NaN   \n",
       "4                K-Factor (Subscribers)        0.5          1  NaN  NaN  NaN   \n",
       "5       Traffic -> User Conversion Rate       0.25        0.3  NaN  NaN  NaN   \n",
       "6                  Cost of Paid Traffic          2        2.5  NaN  NaN  NaN   \n",
       "7               Marketing Spend / Month      10000      25000  NaN  NaN  NaN   \n",
       "8                 MoM Retention (Users)        0.3        0.5  NaN  NaN  NaN   \n",
       "9    User -> Subscriber Conversion Rate        0.1       0.15  NaN  NaN  NaN   \n",
       "10          MoM Retention (Subscribers)        0.4        0.6  NaN  NaN  NaN   \n",
       "\n",
       "    MN3  MN4  MN5  MN6  ...  MN18  MN19  MN20  MN21  MN22  MN23  MN24  \\\n",
       "0   NaN  NaN  NaN  NaN  ...   NaN   NaN   NaN   NaN   NaN   NaN   NaN   \n",
       "1   NaN  NaN  NaN  NaN  ...   NaN   NaN   NaN   NaN   NaN   NaN   NaN   \n",
       "2   NaN  NaN  NaN  NaN  ...   NaN   NaN   NaN   NaN   NaN   NaN   NaN   \n",
       "3   NaN  NaN  NaN  NaN  ...   NaN   NaN   NaN   NaN   NaN   NaN   NaN   \n",
       "4   NaN  NaN  NaN  NaN  ...   NaN   NaN   NaN   NaN   NaN   NaN   NaN   \n",
       "5   NaN  NaN  NaN  NaN  ...   NaN   NaN   NaN   NaN   NaN   NaN   NaN   \n",
       "6   NaN  NaN  NaN  NaN  ...   NaN   NaN   NaN   NaN   NaN   NaN   NaN   \n",
       "7   NaN  NaN  NaN  NaN  ...   NaN   NaN   NaN   NaN   NaN   NaN   NaN   \n",
       "8   NaN  NaN  NaN  NaN  ...   NaN   NaN   NaN   NaN   NaN   NaN   NaN   \n",
       "9   NaN  NaN  NaN  NaN  ...   NaN   NaN   NaN   NaN   NaN   NaN   NaN   \n",
       "10  NaN  NaN  NaN  NaN  ...   NaN   NaN   NaN   NaN   NaN   NaN   NaN   \n",
       "\n",
       "    Unnamed: 29  YR1  YR2  \n",
       "0           NaN  NaN  NaN  \n",
       "1           NaN  NaN  NaN  \n",
       "2           NaN  NaN  NaN  \n",
       "3           NaN  NaN  NaN  \n",
       "4           NaN  NaN  NaN  \n",
       "5           NaN  NaN  NaN  \n",
       "6           NaN  NaN  NaN  \n",
       "7           NaN  NaN  NaN  \n",
       "8           NaN  NaN  NaN  \n",
       "9           NaN  NaN  NaN  \n",
       "10          NaN  NaN  NaN  \n",
       "\n",
       "[11 rows x 32 columns]"
      ]
     },
     "execution_count": 7,
     "metadata": {},
     "output_type": "execute_result"
    }
   ],
   "source": [
    "assumptions_raw.head(11)"
   ]
  },
  {
   "cell_type": "code",
   "execution_count": 23,
   "metadata": {},
   "outputs": [
    {
     "data": {
      "text/html": [
       "<div>\n",
       "<style scoped>\n",
       "    .dataframe tbody tr th:only-of-type {\n",
       "        vertical-align: middle;\n",
       "    }\n",
       "\n",
       "    .dataframe tbody tr th {\n",
       "        vertical-align: top;\n",
       "    }\n",
       "\n",
       "    .dataframe thead th {\n",
       "        text-align: right;\n",
       "    }\n",
       "</style>\n",
       "<table border=\"1\" class=\"dataframe\">\n",
       "  <thead>\n",
       "    <tr style=\"text-align: right;\">\n",
       "      <th></th>\n",
       "      <th>ASSUMPTIONS</th>\n",
       "      <th>YR1</th>\n",
       "      <th>YR2</th>\n",
       "    </tr>\n",
       "  </thead>\n",
       "  <tbody>\n",
       "    <tr>\n",
       "      <th>1</th>\n",
       "      <td>Starting Organic / Social Visitors</td>\n",
       "      <td>1000</td>\n",
       "      <td>NaN</td>\n",
       "    </tr>\n",
       "    <tr>\n",
       "      <th>2</th>\n",
       "      <td>Additive Social / Organic per Month</td>\n",
       "      <td>500</td>\n",
       "      <td>1000</td>\n",
       "    </tr>\n",
       "    <tr>\n",
       "      <th>3</th>\n",
       "      <td>K-Factor (Users)</td>\n",
       "      <td>0.2</td>\n",
       "      <td>0.3</td>\n",
       "    </tr>\n",
       "    <tr>\n",
       "      <th>4</th>\n",
       "      <td>K-Factor (Subscribers)</td>\n",
       "      <td>0.5</td>\n",
       "      <td>1</td>\n",
       "    </tr>\n",
       "    <tr>\n",
       "      <th>5</th>\n",
       "      <td>Traffic -&gt; User Conversion Rate</td>\n",
       "      <td>0.25</td>\n",
       "      <td>0.3</td>\n",
       "    </tr>\n",
       "    <tr>\n",
       "      <th>6</th>\n",
       "      <td>Cost of Paid Traffic</td>\n",
       "      <td>2</td>\n",
       "      <td>2.5</td>\n",
       "    </tr>\n",
       "    <tr>\n",
       "      <th>7</th>\n",
       "      <td>Marketing Spend / Month</td>\n",
       "      <td>10000</td>\n",
       "      <td>25000</td>\n",
       "    </tr>\n",
       "    <tr>\n",
       "      <th>8</th>\n",
       "      <td>MoM Retention (Users)</td>\n",
       "      <td>0.3</td>\n",
       "      <td>0.5</td>\n",
       "    </tr>\n",
       "    <tr>\n",
       "      <th>9</th>\n",
       "      <td>User -&gt; Subscriber Conversion Rate</td>\n",
       "      <td>0.1</td>\n",
       "      <td>0.15</td>\n",
       "    </tr>\n",
       "    <tr>\n",
       "      <th>10</th>\n",
       "      <td>MoM Retention (Subscribers)</td>\n",
       "      <td>0.4</td>\n",
       "      <td>0.6</td>\n",
       "    </tr>\n",
       "  </tbody>\n",
       "</table>\n",
       "</div>"
      ],
      "text/plain": [
       "                            ASSUMPTIONS    YR1    YR2\n",
       "1    Starting Organic / Social Visitors   1000    NaN\n",
       "2   Additive Social / Organic per Month    500   1000\n",
       "3                      K-Factor (Users)    0.2    0.3\n",
       "4                K-Factor (Subscribers)    0.5      1\n",
       "5       Traffic -> User Conversion Rate   0.25    0.3\n",
       "6                  Cost of Paid Traffic      2    2.5\n",
       "7               Marketing Spend / Month  10000  25000\n",
       "8                 MoM Retention (Users)    0.3    0.5\n",
       "9    User -> Subscriber Conversion Rate    0.1   0.15\n",
       "10          MoM Retention (Subscribers)    0.4    0.6"
      ]
     },
     "execution_count": 23,
     "metadata": {},
     "output_type": "execute_result"
    }
   ],
   "source": [
    "assumptions = (\n",
    "    assumptions_raw\n",
    "    .iloc[1:,0:3]\n",
    "    .head(10)\n",
    "    .rename(columns=\n",
    "            {'Unnamed: 0':'ASSUMPTIONS',\n",
    "             'Unnamed: 1':'YR1',\n",
    "             'Unnamed: 2': 'YR2'})\n",
    "    )\n",
    "assumptions"
   ]
  },
  {
   "cell_type": "code",
   "execution_count": 27,
   "metadata": {},
   "outputs": [],
   "source": [
    "subscribers = pd.DataFrame()\n",
    "total_months = 25\n"
   ]
  },
  {
   "cell_type": "code",
   "execution_count": 51,
   "metadata": {},
   "outputs": [],
   "source": [
    "def apply_assumption(row, assumption_name):\n",
    "    if row['month'] < 13:\n",
    "        return assumptions.loc[assumptions['ASSUMPTIONS'] == assumption_name, 'YR1'].iloc[0]\n",
    "    else:\n",
    "        return assumptions.loc[assumptions['ASSUMPTIONS'] == assumption_name, 'YR2'].iloc[0]"
   ]
  },
  {
   "cell_type": "code",
   "execution_count": 65,
   "metadata": {},
   "outputs": [],
   "source": [
    "subscribers['month'] = [month for month in range(0,total_months)]\n",
    "\n",
    "subscribers['Traffic -> User Conversion Rate'] = subscribers.apply(apply_assumption, axis=1, args=(\"Traffic -> User Conversion Rate\",))\n",
    "subscribers['K-Factor (Users)'] = subscribers.apply(apply_assumption, axis=1, args=(\"K-Factor (Users)\",))\n",
    "subscribers['Paid Traffic (Installs / Visitors)'] = subscribers.apply(apply_assumption, axis=1, args=(\"Cost of Paid Traffic\",))\n",
    "subscribers['Marketing Spend / Month'] = subscribers.apply(apply_assumption, axis=1, args=(\"Marketing Spend / Month\",))\n",
    "subscribers['MoM Retention (Users)'] = subscribers.apply(apply_assumption, axis=1, args=(\"MoM Retention (Users)\",))  \n",
    "subscribers['MoM Retention (Subscribers)'] = subscribers.apply(apply_assumption, axis=1, args=(\"MoM Retention (Subscribers)\",))  \n",
    "subscribers['K-Factor (Subscribers)'] = subscribers.apply(apply_assumption, axis=1, args=(\"K-Factor (Subscribers)\",))\n",
    "subscribers['User -> Subscriber Conversion Rate'] = subscribers.apply(apply_assumption, axis=1, args=(\"User -> Subscriber Conversion Rate\",))\n",
    "\n"
   ]
  },
  {
   "cell_type": "code",
   "execution_count": 68,
   "metadata": {},
   "outputs": [
    {
     "name": "stderr",
     "output_type": "stream",
     "text": [
      "C:\\Users\\usuario\\AppData\\Local\\Temp\\ipykernel_8656\\3437197283.py:38: FutureWarning: Setting an item of incompatible dtype is deprecated and will raise an error in a future version of pandas. Value '70.4' has dtype incompatible with int64, please explicitly cast to a compatible dtype first.\n",
      "  subscribers.at[i,\"(All Channels) Retained Users\"] =  subscribers.at[i-1, \"(New) Subscribers\"] * subscribers.at[i-1,'MoM Retention (Subscribers)']\n",
      "C:\\Users\\usuario\\AppData\\Local\\Temp\\ipykernel_8656\\3437197283.py:18: FutureWarning: Setting an item of incompatible dtype is deprecated and will raise an error in a future version of pandas. Value '393.35' has dtype incompatible with int64, please explicitly cast to a compatible dtype first.\n",
      "  subscribers.at[i,\"Viral Acquired Visitors\"] =  subscribers.at[i-1, '(All Channels) New Users'] * subscribers.at[i-1,'K-Factor (Users)']\n"
     ]
    }
   ],
   "source": [
    "for i in subscribers['month']:\n",
    "\n",
    "    # ----------- Organic / Social Visitors --------------\n",
    "    if i == 0:\n",
    "        subscribers['Organic / Social Visitors'] = assumptions.loc[assumptions['ASSUMPTIONS'] == \"Starting Organic / Social Visitors\", 'YR1'].iloc[0]\n",
    "    elif i < 13:\n",
    "        subscribers.at[i, 'Organic / Social Visitors'] = subscribers.at[i-1, 'Organic / Social Visitors'] + assumptions.loc[assumptions['ASSUMPTIONS'] == \"Additive Social / Organic per Month\", 'YR1'].iloc[0]\n",
    "    else:\n",
    "        subscribers.at[i, 'Organic / Social Visitors'] = subscribers.at[i-1, 'Organic / Social Visitors'] + assumptions.loc[assumptions['ASSUMPTIONS'] == \"Additive Social / Organic per Month\", 'YR2'].iloc[0]\n",
    "    \n",
    "    subscribers['Cost / New User'] = subscribers['Paid Traffic (Installs / Visitors)'] / subscribers['Traffic -> User Conversion Rate']\n",
    "    subscribers['New Acquired Users (Paid)'] = subscribers['Marketing Spend / Month'] / subscribers['Cost / New User']\n",
    "\n",
    "    # ----------- Viral Acquired Visitors \n",
    "    if  i == 0:\n",
    "        subscribers[\"Viral Acquired Visitors\"] = 0\n",
    "    else:\n",
    "        subscribers.at[i,\"Viral Acquired Visitors\"] =  subscribers.at[i-1, '(All Channels) New Users'] * subscribers.at[i-1,'K-Factor (Users)']\n",
    "\n",
    "    # ----------- New Organic + Viral Visitors\n",
    "        \n",
    "    subscribers['New Organic + Viral Visitors'] = (subscribers[\"Viral Acquired Visitors\"] + subscribers['Organic / Social Visitors']) * subscribers['Traffic -> User Conversion Rate']\n",
    "\n",
    "    subscribers['(All Channels) New Users'] = subscribers['New Acquired Users (Paid)'] + subscribers['New Organic + Viral Visitors']\n",
    "\n",
    "    if  i == 0:\n",
    "        subscribers[\"(All Channels) Retained Users\"] = 0\n",
    "    else:\n",
    "        subscribers.at[i,\"(All Channels) Retained Users\"] =  subscribers.at[i-1, \"(All Channels) (New + Retained) Users\"] * subscribers.at[i-1,'MoM Retention (Users)'] - subscribers.at[i-1, \"(New) Subscribers\"]\n",
    "\n",
    "    subscribers[\"(All Channels) (New + Retained) Users\"] = subscribers['(All Channels) New Users'] + subscribers[\"(All Channels) Retained Users\"]\n",
    "\n",
    "    subscribers['(New) Subscribers'] = subscribers['User -> Subscriber Conversion Rate'] * subscribers[\"(All Channels) (New + Retained) Users\"]\n",
    "\n",
    "    if  i == 0:\n",
    "        subscribers[\"(Retained) Subscribers\"] = 0\n",
    "    else:\n",
    "        subscribers.at[i,\"(All Channels) Retained Users\"] =  subscribers.at[i-1, \"(New) Subscribers\"] * subscribers.at[i-1,'MoM Retention (Subscribers)']\n",
    "\n",
    "    subscribers[\"(All) Total Current Subscribers\"] = subscribers[\"(Retained) Subscribers\"] + subscribers['(New) Subscribers']\n",
    "    "
   ]
  },
  {
   "cell_type": "code",
   "execution_count": 69,
   "metadata": {},
   "outputs": [
    {
     "data": {
      "text/html": [
       "<div>\n",
       "<style scoped>\n",
       "    .dataframe tbody tr th:only-of-type {\n",
       "        vertical-align: middle;\n",
       "    }\n",
       "\n",
       "    .dataframe tbody tr th {\n",
       "        vertical-align: top;\n",
       "    }\n",
       "\n",
       "    .dataframe thead th {\n",
       "        text-align: right;\n",
       "    }\n",
       "</style>\n",
       "<table border=\"1\" class=\"dataframe\">\n",
       "  <thead>\n",
       "    <tr style=\"text-align: right;\">\n",
       "      <th></th>\n",
       "      <th>month</th>\n",
       "      <th>Organic / Social Visitors</th>\n",
       "      <th>Traffic -&gt; User Conversion Rate</th>\n",
       "      <th>K-Factor (Users)</th>\n",
       "      <th>Viral Acquired Visitors</th>\n",
       "      <th>New Organic + Viral Visitors</th>\n",
       "      <th>Paid Traffic (Installs / Visitors)</th>\n",
       "      <th>Marketing Spend / Month</th>\n",
       "      <th>Cost / New User</th>\n",
       "      <th>New Acquired Users (Paid)</th>\n",
       "      <th>(All Channels) New Users</th>\n",
       "      <th>MoM Retention (Users)</th>\n",
       "      <th>(All Channels) Retained Users</th>\n",
       "      <th>(All Channels) (New + Retained) Users</th>\n",
       "      <th>MoM Retention (Subscribers)</th>\n",
       "      <th>K-Factor (Subscribers)</th>\n",
       "      <th>User -&gt; Subscriber Conversion Rate</th>\n",
       "      <th>(New) Subscribers</th>\n",
       "      <th>(Retained) Subscribers</th>\n",
       "      <th>(All) Total Current Subscribers</th>\n",
       "    </tr>\n",
       "  </thead>\n",
       "  <tbody>\n",
       "    <tr>\n",
       "      <th>0</th>\n",
       "      <td>0</td>\n",
       "      <td>1000</td>\n",
       "      <td>0.25</td>\n",
       "      <td>0.2</td>\n",
       "      <td>0.00</td>\n",
       "      <td>250.0000</td>\n",
       "      <td>2.0</td>\n",
       "      <td>10000</td>\n",
       "      <td>8.0</td>\n",
       "      <td>1250.0</td>\n",
       "      <td>1500.0000</td>\n",
       "      <td>0.3</td>\n",
       "      <td>0.00000</td>\n",
       "      <td>1500.00000</td>\n",
       "      <td>0.4</td>\n",
       "      <td>0.5</td>\n",
       "      <td>0.1</td>\n",
       "      <td>150.000000</td>\n",
       "      <td>0</td>\n",
       "      <td>150.000000</td>\n",
       "    </tr>\n",
       "    <tr>\n",
       "      <th>1</th>\n",
       "      <td>1</td>\n",
       "      <td>1500</td>\n",
       "      <td>0.25</td>\n",
       "      <td>0.2</td>\n",
       "      <td>300.00</td>\n",
       "      <td>450.0000</td>\n",
       "      <td>2.0</td>\n",
       "      <td>10000</td>\n",
       "      <td>8.0</td>\n",
       "      <td>1250.0</td>\n",
       "      <td>1700.0000</td>\n",
       "      <td>0.3</td>\n",
       "      <td>60.00000</td>\n",
       "      <td>1760.00000</td>\n",
       "      <td>0.4</td>\n",
       "      <td>0.5</td>\n",
       "      <td>0.1</td>\n",
       "      <td>176.000000</td>\n",
       "      <td>0</td>\n",
       "      <td>176.000000</td>\n",
       "    </tr>\n",
       "    <tr>\n",
       "      <th>2</th>\n",
       "      <td>2</td>\n",
       "      <td>2000</td>\n",
       "      <td>0.25</td>\n",
       "      <td>0.2</td>\n",
       "      <td>340.00</td>\n",
       "      <td>585.0000</td>\n",
       "      <td>2.0</td>\n",
       "      <td>10000</td>\n",
       "      <td>8.0</td>\n",
       "      <td>1250.0</td>\n",
       "      <td>1835.0000</td>\n",
       "      <td>0.3</td>\n",
       "      <td>70.40000</td>\n",
       "      <td>1905.40000</td>\n",
       "      <td>0.4</td>\n",
       "      <td>0.5</td>\n",
       "      <td>0.1</td>\n",
       "      <td>190.540000</td>\n",
       "      <td>0</td>\n",
       "      <td>190.540000</td>\n",
       "    </tr>\n",
       "    <tr>\n",
       "      <th>3</th>\n",
       "      <td>3</td>\n",
       "      <td>2500</td>\n",
       "      <td>0.25</td>\n",
       "      <td>0.2</td>\n",
       "      <td>367.00</td>\n",
       "      <td>716.7500</td>\n",
       "      <td>2.0</td>\n",
       "      <td>10000</td>\n",
       "      <td>8.0</td>\n",
       "      <td>1250.0</td>\n",
       "      <td>1966.7500</td>\n",
       "      <td>0.3</td>\n",
       "      <td>76.21600</td>\n",
       "      <td>2042.96600</td>\n",
       "      <td>0.4</td>\n",
       "      <td>0.5</td>\n",
       "      <td>0.1</td>\n",
       "      <td>204.296600</td>\n",
       "      <td>0</td>\n",
       "      <td>204.296600</td>\n",
       "    </tr>\n",
       "    <tr>\n",
       "      <th>4</th>\n",
       "      <td>4</td>\n",
       "      <td>3000</td>\n",
       "      <td>0.25</td>\n",
       "      <td>0.2</td>\n",
       "      <td>393.35</td>\n",
       "      <td>848.3375</td>\n",
       "      <td>2.0</td>\n",
       "      <td>10000</td>\n",
       "      <td>8.0</td>\n",
       "      <td>1250.0</td>\n",
       "      <td>2098.3375</td>\n",
       "      <td>0.3</td>\n",
       "      <td>81.71864</td>\n",
       "      <td>2180.05614</td>\n",
       "      <td>0.4</td>\n",
       "      <td>0.5</td>\n",
       "      <td>0.1</td>\n",
       "      <td>218.005614</td>\n",
       "      <td>0</td>\n",
       "      <td>218.005614</td>\n",
       "    </tr>\n",
       "  </tbody>\n",
       "</table>\n",
       "</div>"
      ],
      "text/plain": [
       "   month  Organic / Social Visitors  Traffic -> User Conversion Rate  \\\n",
       "0      0                       1000                             0.25   \n",
       "1      1                       1500                             0.25   \n",
       "2      2                       2000                             0.25   \n",
       "3      3                       2500                             0.25   \n",
       "4      4                       3000                             0.25   \n",
       "\n",
       "   K-Factor (Users)  Viral Acquired Visitors  New Organic + Viral Visitors  \\\n",
       "0               0.2                     0.00                      250.0000   \n",
       "1               0.2                   300.00                      450.0000   \n",
       "2               0.2                   340.00                      585.0000   \n",
       "3               0.2                   367.00                      716.7500   \n",
       "4               0.2                   393.35                      848.3375   \n",
       "\n",
       "   Paid Traffic (Installs / Visitors)  Marketing Spend / Month  \\\n",
       "0                                 2.0                    10000   \n",
       "1                                 2.0                    10000   \n",
       "2                                 2.0                    10000   \n",
       "3                                 2.0                    10000   \n",
       "4                                 2.0                    10000   \n",
       "\n",
       "   Cost / New User  New Acquired Users (Paid)  (All Channels) New Users  \\\n",
       "0              8.0                     1250.0                 1500.0000   \n",
       "1              8.0                     1250.0                 1700.0000   \n",
       "2              8.0                     1250.0                 1835.0000   \n",
       "3              8.0                     1250.0                 1966.7500   \n",
       "4              8.0                     1250.0                 2098.3375   \n",
       "\n",
       "   MoM Retention (Users)  (All Channels) Retained Users  \\\n",
       "0                    0.3                        0.00000   \n",
       "1                    0.3                       60.00000   \n",
       "2                    0.3                       70.40000   \n",
       "3                    0.3                       76.21600   \n",
       "4                    0.3                       81.71864   \n",
       "\n",
       "   (All Channels) (New + Retained) Users  MoM Retention (Subscribers)  \\\n",
       "0                             1500.00000                          0.4   \n",
       "1                             1760.00000                          0.4   \n",
       "2                             1905.40000                          0.4   \n",
       "3                             2042.96600                          0.4   \n",
       "4                             2180.05614                          0.4   \n",
       "\n",
       "   K-Factor (Subscribers)  User -> Subscriber Conversion Rate  \\\n",
       "0                     0.5                                 0.1   \n",
       "1                     0.5                                 0.1   \n",
       "2                     0.5                                 0.1   \n",
       "3                     0.5                                 0.1   \n",
       "4                     0.5                                 0.1   \n",
       "\n",
       "   (New) Subscribers  (Retained) Subscribers  (All) Total Current Subscribers  \n",
       "0         150.000000                       0                       150.000000  \n",
       "1         176.000000                       0                       176.000000  \n",
       "2         190.540000                       0                       190.540000  \n",
       "3         204.296600                       0                       204.296600  \n",
       "4         218.005614                       0                       218.005614  "
      ]
     },
     "execution_count": 69,
     "metadata": {},
     "output_type": "execute_result"
    }
   ],
   "source": [
    "subscribers.head()"
   ]
  },
  {
   "cell_type": "code",
   "execution_count": 70,
   "metadata": {},
   "outputs": [],
   "source": [
    "import plotly.express as px"
   ]
  },
  {
   "cell_type": "code",
   "execution_count": 71,
   "metadata": {},
   "outputs": [
    {
     "data": {
      "application/vnd.plotly.v1+json": {
       "config": {
        "plotlyServerURL": "https://plot.ly"
       },
       "data": [
        {
         "hovertemplate": "month=%{x}<br>(All) Total Current Subscribers=%{y}<extra></extra>",
         "legendgroup": "",
         "line": {
          "color": "#636efa",
          "dash": "solid"
         },
         "marker": {
          "symbol": "circle"
         },
         "mode": "lines",
         "name": "",
         "orientation": "v",
         "showlegend": false,
         "type": "scatter",
         "x": [
          0,
          1,
          2,
          3,
          4,
          5,
          6,
          7,
          8,
          9,
          10,
          11,
          12,
          13,
          14,
          15,
          16,
          17,
          18,
          19,
          20,
          21,
          22,
          23,
          24
         ],
         "xaxis": "x",
         "y": [
          150,
          176,
          190.54000000000002,
          204.2966,
          218.00561400000004,
          231.71191206,
          245.4180608574,
          259.124201653046,
          272.8303420270594,
          286.53648237912927,
          300.2426227300675,
          313.94876308094786,
          327.65490343182523,
          858.0180199676822,
          1007.6739071156509,
          1074.4313573190789,
          1130.2354856697973,
          1184.7394934262788,
          1239.0982013828047,
          1293.4412863521518,
          1347.7827361121865,
          1402.1240180807408,
          1456.4652830920243,
          1510.8065464101103,
          2157.7624693933376
         ],
         "yaxis": "y"
        }
       ],
       "layout": {
        "legend": {
         "tracegroupgap": 0
        },
        "margin": {
         "t": 60
        },
        "template": {
         "data": {
          "bar": [
           {
            "error_x": {
             "color": "#2a3f5f"
            },
            "error_y": {
             "color": "#2a3f5f"
            },
            "marker": {
             "line": {
              "color": "#E5ECF6",
              "width": 0.5
             },
             "pattern": {
              "fillmode": "overlay",
              "size": 10,
              "solidity": 0.2
             }
            },
            "type": "bar"
           }
          ],
          "barpolar": [
           {
            "marker": {
             "line": {
              "color": "#E5ECF6",
              "width": 0.5
             },
             "pattern": {
              "fillmode": "overlay",
              "size": 10,
              "solidity": 0.2
             }
            },
            "type": "barpolar"
           }
          ],
          "carpet": [
           {
            "aaxis": {
             "endlinecolor": "#2a3f5f",
             "gridcolor": "white",
             "linecolor": "white",
             "minorgridcolor": "white",
             "startlinecolor": "#2a3f5f"
            },
            "baxis": {
             "endlinecolor": "#2a3f5f",
             "gridcolor": "white",
             "linecolor": "white",
             "minorgridcolor": "white",
             "startlinecolor": "#2a3f5f"
            },
            "type": "carpet"
           }
          ],
          "choropleth": [
           {
            "colorbar": {
             "outlinewidth": 0,
             "ticks": ""
            },
            "type": "choropleth"
           }
          ],
          "contour": [
           {
            "colorbar": {
             "outlinewidth": 0,
             "ticks": ""
            },
            "colorscale": [
             [
              0,
              "#0d0887"
             ],
             [
              0.1111111111111111,
              "#46039f"
             ],
             [
              0.2222222222222222,
              "#7201a8"
             ],
             [
              0.3333333333333333,
              "#9c179e"
             ],
             [
              0.4444444444444444,
              "#bd3786"
             ],
             [
              0.5555555555555556,
              "#d8576b"
             ],
             [
              0.6666666666666666,
              "#ed7953"
             ],
             [
              0.7777777777777778,
              "#fb9f3a"
             ],
             [
              0.8888888888888888,
              "#fdca26"
             ],
             [
              1,
              "#f0f921"
             ]
            ],
            "type": "contour"
           }
          ],
          "contourcarpet": [
           {
            "colorbar": {
             "outlinewidth": 0,
             "ticks": ""
            },
            "type": "contourcarpet"
           }
          ],
          "heatmap": [
           {
            "colorbar": {
             "outlinewidth": 0,
             "ticks": ""
            },
            "colorscale": [
             [
              0,
              "#0d0887"
             ],
             [
              0.1111111111111111,
              "#46039f"
             ],
             [
              0.2222222222222222,
              "#7201a8"
             ],
             [
              0.3333333333333333,
              "#9c179e"
             ],
             [
              0.4444444444444444,
              "#bd3786"
             ],
             [
              0.5555555555555556,
              "#d8576b"
             ],
             [
              0.6666666666666666,
              "#ed7953"
             ],
             [
              0.7777777777777778,
              "#fb9f3a"
             ],
             [
              0.8888888888888888,
              "#fdca26"
             ],
             [
              1,
              "#f0f921"
             ]
            ],
            "type": "heatmap"
           }
          ],
          "heatmapgl": [
           {
            "colorbar": {
             "outlinewidth": 0,
             "ticks": ""
            },
            "colorscale": [
             [
              0,
              "#0d0887"
             ],
             [
              0.1111111111111111,
              "#46039f"
             ],
             [
              0.2222222222222222,
              "#7201a8"
             ],
             [
              0.3333333333333333,
              "#9c179e"
             ],
             [
              0.4444444444444444,
              "#bd3786"
             ],
             [
              0.5555555555555556,
              "#d8576b"
             ],
             [
              0.6666666666666666,
              "#ed7953"
             ],
             [
              0.7777777777777778,
              "#fb9f3a"
             ],
             [
              0.8888888888888888,
              "#fdca26"
             ],
             [
              1,
              "#f0f921"
             ]
            ],
            "type": "heatmapgl"
           }
          ],
          "histogram": [
           {
            "marker": {
             "pattern": {
              "fillmode": "overlay",
              "size": 10,
              "solidity": 0.2
             }
            },
            "type": "histogram"
           }
          ],
          "histogram2d": [
           {
            "colorbar": {
             "outlinewidth": 0,
             "ticks": ""
            },
            "colorscale": [
             [
              0,
              "#0d0887"
             ],
             [
              0.1111111111111111,
              "#46039f"
             ],
             [
              0.2222222222222222,
              "#7201a8"
             ],
             [
              0.3333333333333333,
              "#9c179e"
             ],
             [
              0.4444444444444444,
              "#bd3786"
             ],
             [
              0.5555555555555556,
              "#d8576b"
             ],
             [
              0.6666666666666666,
              "#ed7953"
             ],
             [
              0.7777777777777778,
              "#fb9f3a"
             ],
             [
              0.8888888888888888,
              "#fdca26"
             ],
             [
              1,
              "#f0f921"
             ]
            ],
            "type": "histogram2d"
           }
          ],
          "histogram2dcontour": [
           {
            "colorbar": {
             "outlinewidth": 0,
             "ticks": ""
            },
            "colorscale": [
             [
              0,
              "#0d0887"
             ],
             [
              0.1111111111111111,
              "#46039f"
             ],
             [
              0.2222222222222222,
              "#7201a8"
             ],
             [
              0.3333333333333333,
              "#9c179e"
             ],
             [
              0.4444444444444444,
              "#bd3786"
             ],
             [
              0.5555555555555556,
              "#d8576b"
             ],
             [
              0.6666666666666666,
              "#ed7953"
             ],
             [
              0.7777777777777778,
              "#fb9f3a"
             ],
             [
              0.8888888888888888,
              "#fdca26"
             ],
             [
              1,
              "#f0f921"
             ]
            ],
            "type": "histogram2dcontour"
           }
          ],
          "mesh3d": [
           {
            "colorbar": {
             "outlinewidth": 0,
             "ticks": ""
            },
            "type": "mesh3d"
           }
          ],
          "parcoords": [
           {
            "line": {
             "colorbar": {
              "outlinewidth": 0,
              "ticks": ""
             }
            },
            "type": "parcoords"
           }
          ],
          "pie": [
           {
            "automargin": true,
            "type": "pie"
           }
          ],
          "scatter": [
           {
            "fillpattern": {
             "fillmode": "overlay",
             "size": 10,
             "solidity": 0.2
            },
            "type": "scatter"
           }
          ],
          "scatter3d": [
           {
            "line": {
             "colorbar": {
              "outlinewidth": 0,
              "ticks": ""
             }
            },
            "marker": {
             "colorbar": {
              "outlinewidth": 0,
              "ticks": ""
             }
            },
            "type": "scatter3d"
           }
          ],
          "scattercarpet": [
           {
            "marker": {
             "colorbar": {
              "outlinewidth": 0,
              "ticks": ""
             }
            },
            "type": "scattercarpet"
           }
          ],
          "scattergeo": [
           {
            "marker": {
             "colorbar": {
              "outlinewidth": 0,
              "ticks": ""
             }
            },
            "type": "scattergeo"
           }
          ],
          "scattergl": [
           {
            "marker": {
             "colorbar": {
              "outlinewidth": 0,
              "ticks": ""
             }
            },
            "type": "scattergl"
           }
          ],
          "scattermapbox": [
           {
            "marker": {
             "colorbar": {
              "outlinewidth": 0,
              "ticks": ""
             }
            },
            "type": "scattermapbox"
           }
          ],
          "scatterpolar": [
           {
            "marker": {
             "colorbar": {
              "outlinewidth": 0,
              "ticks": ""
             }
            },
            "type": "scatterpolar"
           }
          ],
          "scatterpolargl": [
           {
            "marker": {
             "colorbar": {
              "outlinewidth": 0,
              "ticks": ""
             }
            },
            "type": "scatterpolargl"
           }
          ],
          "scatterternary": [
           {
            "marker": {
             "colorbar": {
              "outlinewidth": 0,
              "ticks": ""
             }
            },
            "type": "scatterternary"
           }
          ],
          "surface": [
           {
            "colorbar": {
             "outlinewidth": 0,
             "ticks": ""
            },
            "colorscale": [
             [
              0,
              "#0d0887"
             ],
             [
              0.1111111111111111,
              "#46039f"
             ],
             [
              0.2222222222222222,
              "#7201a8"
             ],
             [
              0.3333333333333333,
              "#9c179e"
             ],
             [
              0.4444444444444444,
              "#bd3786"
             ],
             [
              0.5555555555555556,
              "#d8576b"
             ],
             [
              0.6666666666666666,
              "#ed7953"
             ],
             [
              0.7777777777777778,
              "#fb9f3a"
             ],
             [
              0.8888888888888888,
              "#fdca26"
             ],
             [
              1,
              "#f0f921"
             ]
            ],
            "type": "surface"
           }
          ],
          "table": [
           {
            "cells": {
             "fill": {
              "color": "#EBF0F8"
             },
             "line": {
              "color": "white"
             }
            },
            "header": {
             "fill": {
              "color": "#C8D4E3"
             },
             "line": {
              "color": "white"
             }
            },
            "type": "table"
           }
          ]
         },
         "layout": {
          "annotationdefaults": {
           "arrowcolor": "#2a3f5f",
           "arrowhead": 0,
           "arrowwidth": 1
          },
          "autotypenumbers": "strict",
          "coloraxis": {
           "colorbar": {
            "outlinewidth": 0,
            "ticks": ""
           }
          },
          "colorscale": {
           "diverging": [
            [
             0,
             "#8e0152"
            ],
            [
             0.1,
             "#c51b7d"
            ],
            [
             0.2,
             "#de77ae"
            ],
            [
             0.3,
             "#f1b6da"
            ],
            [
             0.4,
             "#fde0ef"
            ],
            [
             0.5,
             "#f7f7f7"
            ],
            [
             0.6,
             "#e6f5d0"
            ],
            [
             0.7,
             "#b8e186"
            ],
            [
             0.8,
             "#7fbc41"
            ],
            [
             0.9,
             "#4d9221"
            ],
            [
             1,
             "#276419"
            ]
           ],
           "sequential": [
            [
             0,
             "#0d0887"
            ],
            [
             0.1111111111111111,
             "#46039f"
            ],
            [
             0.2222222222222222,
             "#7201a8"
            ],
            [
             0.3333333333333333,
             "#9c179e"
            ],
            [
             0.4444444444444444,
             "#bd3786"
            ],
            [
             0.5555555555555556,
             "#d8576b"
            ],
            [
             0.6666666666666666,
             "#ed7953"
            ],
            [
             0.7777777777777778,
             "#fb9f3a"
            ],
            [
             0.8888888888888888,
             "#fdca26"
            ],
            [
             1,
             "#f0f921"
            ]
           ],
           "sequentialminus": [
            [
             0,
             "#0d0887"
            ],
            [
             0.1111111111111111,
             "#46039f"
            ],
            [
             0.2222222222222222,
             "#7201a8"
            ],
            [
             0.3333333333333333,
             "#9c179e"
            ],
            [
             0.4444444444444444,
             "#bd3786"
            ],
            [
             0.5555555555555556,
             "#d8576b"
            ],
            [
             0.6666666666666666,
             "#ed7953"
            ],
            [
             0.7777777777777778,
             "#fb9f3a"
            ],
            [
             0.8888888888888888,
             "#fdca26"
            ],
            [
             1,
             "#f0f921"
            ]
           ]
          },
          "colorway": [
           "#636efa",
           "#EF553B",
           "#00cc96",
           "#ab63fa",
           "#FFA15A",
           "#19d3f3",
           "#FF6692",
           "#B6E880",
           "#FF97FF",
           "#FECB52"
          ],
          "font": {
           "color": "#2a3f5f"
          },
          "geo": {
           "bgcolor": "white",
           "lakecolor": "white",
           "landcolor": "#E5ECF6",
           "showlakes": true,
           "showland": true,
           "subunitcolor": "white"
          },
          "hoverlabel": {
           "align": "left"
          },
          "hovermode": "closest",
          "mapbox": {
           "style": "light"
          },
          "paper_bgcolor": "white",
          "plot_bgcolor": "#E5ECF6",
          "polar": {
           "angularaxis": {
            "gridcolor": "white",
            "linecolor": "white",
            "ticks": ""
           },
           "bgcolor": "#E5ECF6",
           "radialaxis": {
            "gridcolor": "white",
            "linecolor": "white",
            "ticks": ""
           }
          },
          "scene": {
           "xaxis": {
            "backgroundcolor": "#E5ECF6",
            "gridcolor": "white",
            "gridwidth": 2,
            "linecolor": "white",
            "showbackground": true,
            "ticks": "",
            "zerolinecolor": "white"
           },
           "yaxis": {
            "backgroundcolor": "#E5ECF6",
            "gridcolor": "white",
            "gridwidth": 2,
            "linecolor": "white",
            "showbackground": true,
            "ticks": "",
            "zerolinecolor": "white"
           },
           "zaxis": {
            "backgroundcolor": "#E5ECF6",
            "gridcolor": "white",
            "gridwidth": 2,
            "linecolor": "white",
            "showbackground": true,
            "ticks": "",
            "zerolinecolor": "white"
           }
          },
          "shapedefaults": {
           "line": {
            "color": "#2a3f5f"
           }
          },
          "ternary": {
           "aaxis": {
            "gridcolor": "white",
            "linecolor": "white",
            "ticks": ""
           },
           "baxis": {
            "gridcolor": "white",
            "linecolor": "white",
            "ticks": ""
           },
           "bgcolor": "#E5ECF6",
           "caxis": {
            "gridcolor": "white",
            "linecolor": "white",
            "ticks": ""
           }
          },
          "title": {
           "x": 0.05
          },
          "xaxis": {
           "automargin": true,
           "gridcolor": "white",
           "linecolor": "white",
           "ticks": "",
           "title": {
            "standoff": 15
           },
           "zerolinecolor": "white",
           "zerolinewidth": 2
          },
          "yaxis": {
           "automargin": true,
           "gridcolor": "white",
           "linecolor": "white",
           "ticks": "",
           "title": {
            "standoff": 15
           },
           "zerolinecolor": "white",
           "zerolinewidth": 2
          }
         }
        },
        "xaxis": {
         "anchor": "y",
         "domain": [
          0,
          1
         ],
         "title": {
          "text": "month"
         }
        },
        "yaxis": {
         "anchor": "x",
         "domain": [
          0,
          1
         ],
         "title": {
          "text": "(All) Total Current Subscribers"
         }
        }
       }
      }
     },
     "metadata": {},
     "output_type": "display_data"
    }
   ],
   "source": [
    "px.line(subscribers,\n",
    "        x = 'month',\n",
    "        y = \"(All) Total Current Subscribers\")"
   ]
  },
  {
   "cell_type": "code",
   "execution_count": null,
   "metadata": {},
   "outputs": [],
   "source": []
  }
 ],
 "metadata": {
  "kernelspec": {
   "display_name": "Python 3",
   "language": "python",
   "name": "python3"
  },
  "language_info": {
   "codemirror_mode": {
    "name": "ipython",
    "version": 3
   },
   "file_extension": ".py",
   "mimetype": "text/x-python",
   "name": "python",
   "nbconvert_exporter": "python",
   "pygments_lexer": "ipython3",
   "version": "3.11.3"
  }
 },
 "nbformat": 4,
 "nbformat_minor": 2
}
